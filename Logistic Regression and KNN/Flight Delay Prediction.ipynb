{
 "cells": [
  {
   "cell_type": "markdown",
   "id": "66655798",
   "metadata": {},
   "source": [
    "<img src=\"https://upload.wikimedia.org/wikipedia/commons/f/f3/W._P._Carey_School_of_Business_logo.png\" width=15% align=left> <br><br>\n",
    "<!-- <img src=\"https://i.ibb.co/3CJ8vVn/Thumbnail.jpg\" width =80%> -->"
   ]
  },
  {
   "cell_type": "markdown",
   "id": "57c7f21b",
   "metadata": {},
   "source": [
    "# Problem Set 3 - Flight Delay Dataset\n",
    "<!-- <h1 style=\"text-align: center;color:#8C1D40\"> CAR PRICE PREDICTION </h1> -->\n",
    "<!-- <hr> -->\n",
    "\n",
    "## Table of Content: <a class=\"anchor\" id=\"table-of-content\"></a>\n",
    "* [1. Problem Background and Motivation](#problem-background)\n",
    "* [2. Import Package](#import-package)\n",
    "* [3. Custom Functions](#custom-functions)\n",
    "* [4. Connect to Data Source and Data Extraction](#data-extraction)\n",
    "* [5. Data Exploration, Data Transformation](#data-transformation)\n",
    "* [6. Machine Learning Model](#ml-model)\n",
    "* [7. Conclusion](#conclusion)\n",
    "* [8. Deployment](#deployment)"
   ]
  },
  {
   "cell_type": "markdown",
   "id": "79f23695",
   "metadata": {},
   "source": [
    "## 1. Problem Background and Motivation <a class=\"anchor\" id=\"problem-background\"></a>\n",
    "\n",
    "### Problem Statement\n",
    "> The airline industry wants to know if flights are likely to be delayed so that they can take the necessary steps to manage the operations at airport and thus improve customers satisfaction. <br>\n",
    "\n",
    "### Agenda\n",
    "> Develop a machine learning model that will be used by the operations team to determine whether the flight will be delayed.\n",
    ">\n",
    "> **Parameters/Features to monitor which might help in creating machine learning model :**\n",
    ">- Carrier\n",
    ">- Scheduled departure time\n",
    ">- Destination\n",
    ">- Distance\n",
    ">- Origin\n",
    ">- Weather\n",
    "\n",
    "### Goal\n",
    "> 1. Efficiently predict if the flight will be delayed or not.\n",
    "> 2. Reduce the number of false positives, which happen when a flight isn't delayed but the model predicts it will be. Because we will be using this model to notify customers whether there is a flight delay or not, false positive cases will result in a decrease in customer experience because customers may miss their flight.\n",
    "> 3. Since we need to reduce False Positives, we will **monitor Precision and Accuracy** while keeping the False negatives at a lower level\n",
    "> 4. High false negative cases will lead to customers spending a lot of time at airport and will eventually lead to decrease in customers experience \n",
    "\n",
    "\n",
    "* [Go to Top](#table-of-content)"
   ]
  },
  {
   "cell_type": "markdown",
   "id": "ed0faf00",
   "metadata": {},
   "source": [
    "## 2. Import Package <a class=\"anchor\" id=\"import-package\"></a>\n",
    "<br>\n",
    "\n",
    "### Libraries<br>\n",
    "\n",
    ">**Numpy, Pandas and Math:**<br>\n",
    "We use it to import the data files which has multi-dimensional arrays and matrices and for data manipulations  <br>\n",
    "\n",
    ">**Matplotlib, Seaborn and Plotly:**<br>\n",
    "These libraries are used for data visualization\n",
    "\n",
    ">**SKLearn:**<br>\n",
    "Sklearn provides multiple machine learning and statistical models to which can best describe the pattern in the data. It also provides metrics toevaluate the performance of the model    <br>\n",
    "\n",
    ">**Statsmodels:**<br>\n",
    "Statsmodels is used for statistical tests on statistical data explorations <br>\n",
    "\n",
    "\n",
    "* [Go to Top](#table-of-content)"
   ]
  },
  {
   "cell_type": "code",
   "execution_count": 119,
   "id": "b46294d2",
   "metadata": {},
   "outputs": [],
   "source": [
    "# data manipulation libraries\n",
    "import pandas as pd\n",
    "pd.set_option('display.max_columns',None)\n",
    "pd.options.display.float_format = '{:.4f}'.format \n",
    "import numpy as np\n",
    "import math\n",
    "\n",
    "# visualization libraries\n",
    "import seaborn as sns\n",
    "from matplotlib import pyplot as plt\n",
    "import plotly.graph_objects as go\n",
    "import plotly.express as px\n",
    "\n",
    "# machine learning libraries\n",
    "from sklearn.model_selection import train_test_split\n",
    "from sklearn.linear_model import LogisticRegression\n",
    "from sklearn import metrics\n",
    "from sklearn.neighbors import NearestNeighbors, KNeighborsClassifier\n",
    "from sklearn.preprocessing import MinMaxScaler,StandardScaler\n",
    "\n",
    "# statistics library\n",
    "import statsmodels.api as sm\n",
    "from statsmodels.stats.outliers_influence import variance_inflation_factor\n",
    "\n",
    "# model deployment\n",
    "import pickle\n",
    "import streamlit as st\n"
   ]
  },
  {
   "cell_type": "markdown",
   "id": "238b4c35",
   "metadata": {},
   "source": [
    "## 3. Custom functions and Global Variables <a class=\"anchor\" id=\"custom-functions\"></a>\n",
    "User defined functions which will be used multiple times in the below notebook.\n",
    "\n",
    "Glossary of User defined functions:\n",
    "1. **z_null_value_check** - function to check null value count and null value % in the dataframe.\n",
    "2. **highlight_cells** - function to highlight cells in the dataframe. \n",
    "3. **z_describe_numerics** - function to get summary of numerical colums\n",
    "4. **z_target_by_category** - function to get mean statistics between of categorical colums and target variable\n",
    "5. **train_test_metrics_classification** - function to get the evaluation metrics for Classification model\n",
    "\n",
    "* [Go to Top](#table-of-content)"
   ]
  },
  {
   "cell_type": "code",
   "execution_count": 120,
   "id": "2d803fec",
   "metadata": {},
   "outputs": [],
   "source": [
    "# function to check null value count and null value % in the dataframe. \n",
    "# The function generate a chart to show missing values in the data.\n",
    "\n",
    "def z_null_value_check(df):\n",
    "    '''\n",
    "    Function to track null values in the dataframe\n",
    "    '''\n",
    "    null_count = df.isnull().sum()\n",
    "    null_percentage = 100* null_count/df.count()\n",
    "    \n",
    "    null_df = pd.DataFrame(dict(\n",
    "        null_count = null_count,\n",
    "        null_percentage = null_percentage.round(2)\n",
    "    ))\n",
    "    display(null_df)\n",
    "#     display(df.isnull().sum())\n",
    "    sns.heatmap(df.isnull(),yticklabels=False,cbar=False,cmap='viridis')"
   ]
  },
  {
   "cell_type": "code",
   "execution_count": 121,
   "id": "d1f042f7",
   "metadata": {},
   "outputs": [],
   "source": [
    "# function to highlight cells in the dataframe. \n",
    "def highlight_cells(val, color_if_true,threshold):\n",
    "    color = color_if_true if abs(val) > threshold else ''\n",
    "    return 'background-color: {}'.format(color)\n",
    "\n",
    "# function to get summary of numerical colums\n",
    "def z_describe_numerics(df,feature_list=[]):\n",
    "    '''\n",
    "    The function provides following details related to numerical columns:\n",
    "    1. Count of records\n",
    "    2. Mean\n",
    "    3. Median\n",
    "    4. Standard Deviation\n",
    "    5. Minimum Value\n",
    "    6. Maximum Value\n",
    "    7. Skewness Coefficient - cell values are highlighted if skewness increases the threshold value\n",
    "    8. Number of outliers (Outliers flagged based inter quartile range)\n",
    "    9. Percentage of outliers\n",
    "    10. Interquartile lower and upper limit - can be used to remove outliers\n",
    "    \n",
    "    Note: This function assumes the input dataframe (X) has numerical columns.\n",
    "    '''\n",
    "    numerics = ['int16','int32','int64','float16','float32','float64']\n",
    "    outlier_threshold = .05\n",
    "    skewness_threshold = 3\n",
    "    \n",
    "    feature_list = df.select_dtypes(include=numerics).columns if len(feature_list) == 0 else feature_list\n",
    "    \n",
    "    quartile_1 = df[feature_list].quantile(0.25)\n",
    "    quartile_3 = df[feature_list].quantile(0.75)\n",
    "    IQR = quartile_3 - quartile_1\n",
    "    \n",
    "    outlier_lower_threshold= quartile_1 - 1.5*IQR\n",
    "    outlier_upper_threshold= quartile_3 + 1.5*IQR\n",
    "    \n",
    "    outlier = ((df[feature_list] < outlier_lower_threshold) | (df[feature_list] > outlier_upper_threshold))\n",
    "    \n",
    "    temp_df = pd.DataFrame(dict(\n",
    "        count = df[feature_list].count(),\n",
    "        mean = df[feature_list].mean().round(2),\n",
    "        median = df[feature_list].median().round(2),\n",
    "        std_dev = df[feature_list].std().round(2),\n",
    "        min_val = df[feature_list].min(),\n",
    "        max_val = df[feature_list].max(),\n",
    "        skewness= df[feature_list].skew().round(2),\n",
    "        \n",
    "        outlier_count = outlier.sum(),\n",
    "        outlier_percentage = (100*outlier.sum()/df[feature_list].count()).round(2),\n",
    "        outlier_lower_limit = outlier_lower_threshold,\n",
    "        outlier_upper_limit = outlier_upper_threshold,\n",
    "        \n",
    "        # flag the column if outlier percentage is more than 5% or skewness is more than 3\n",
    "        outlier_issue = np.where((outlier.sum()/df[feature_list].count() > outlier_threshold)\n",
    "                                 | (df[feature_list].skew() > skewness_threshold) , True, False)\n",
    "    ))\n",
    "    \n",
    "    temp_df= temp_df.style.format(precision=2).applymap(highlight_cells,color_if_true='#ff716b',threshold=skewness_threshold,subset=['skewness'])\n",
    "    \n",
    "    return temp_df\n",
    "\n",
    "# function to get mean statistics between of categorical colums and target variable\n",
    "def z_target_by_category(X):\n",
    "    '''\n",
    "    This function assumes the input dataframe (X) has a numerically defined target\n",
    "    variable in the first column and that all remaining features are categorical\n",
    "    '''\n",
    "    global_mean = X.iloc[:,0].mean()\n",
    "    target = X.columns[0]\n",
    "    for col in X.columns[1:]:\n",
    "        df_group = X.groupby(by=col)[target].agg(['mean']).round(2)\n",
    "        df_group['diff'] = (df_group['mean'] - global_mean).round(2)\n",
    "        display(df_group.sort_values(by='mean'))"
   ]
  },
  {
   "cell_type": "code",
   "execution_count": 122,
   "id": "fc1b17c9",
   "metadata": {},
   "outputs": [],
   "source": [
    "# Required inputs are the model name and the two test data objects (X,y)\n",
    "def train_test_metrics_classification(model,X_test,y_test,threshold_start=0,threshold_end=1.1,threshold_interval=0.1):\n",
    "    '''\n",
    "    The function generates a dataframe of evaluation metrics for measuring classification model performance at different probability thresholds. \n",
    "    '''\n",
    "    \n",
    "    # Create empty lists to store metric values created within loop\n",
    "    TP = []\n",
    "    TN = []\n",
    "    FP = []\n",
    "    FN = []\n",
    "    recall = []\n",
    "    precision = []\n",
    "    F1 = []\n",
    "    Accuracy = []\n",
    "    FP_rate=[]\n",
    "    FN_rate=[]\n",
    "    \n",
    "    # Create list of probability threshold values to loop over\n",
    "#     threshold = np.arange(0,1.1,0.1).tolist()\n",
    "    threshold = np.arange(threshold_start,threshold_end,threshold_interval).tolist()\n",
    "\n",
    "    # Start loop to calculate performance measures for each threshold\n",
    "    for i in threshold:\n",
    "\n",
    "        # Create class assignments given threshold value\n",
    "        y_test_pred_class = (model.predict_proba(X_test)[:,1] >= i).astype(int)\n",
    "        \n",
    "        # performance metrics \n",
    "        model_confusion_matrix = metrics.confusion_matrix(y_test, y_test_pred_class)\n",
    "        recall_score = metrics.recall_score(y_test, y_test_pred_class)\n",
    "        precision_score = metrics.precision_score(y_test, y_test_pred_class)\n",
    "        f1_score = metrics.f1_score(y_test, y_test_pred_class)\n",
    "        accuracy = metrics.accuracy_score(y_test, y_test_pred_class)\n",
    "        fp_rate = model_confusion_matrix[0][1]/(model_confusion_matrix[0][0]+model_confusion_matrix[0][1])\n",
    "        fn_rate = model_confusion_matrix[1][0]/(model_confusion_matrix[1][0]+model_confusion_matrix[1][1])\n",
    "\n",
    "        # Append lists with metric values\n",
    "        TP.append(model_confusion_matrix[1,1])\n",
    "        TN.append(model_confusion_matrix[0,0])\n",
    "        FP.append(model_confusion_matrix[0,1])\n",
    "        FN.append(model_confusion_matrix[1,0])\n",
    "        recall.append(recall_score.round(3))\n",
    "        precision.append(precision_score.round(3))\n",
    "        F1.append(f1_score.round(3))\n",
    "        Accuracy.append(accuracy.round(3))\n",
    "        FP_rate.append(fp_rate.round(3))\n",
    "        FN_rate.append(fn_rate.round(3))\n",
    "\n",
    "    # Create dataframe\n",
    "    result = pd.DataFrame({\"threshold\":threshold,\n",
    "                           \"TP\":TP,\n",
    "                           \"TN\":TN,\n",
    "                           \"FP\":FP,\n",
    "                           \"FN\":FN,\n",
    "                           \"Precision\":precision,\n",
    "                           \"Recall\":recall,\n",
    "                           \"F1\":F1,\n",
    "                           \"Accuracy\": Accuracy,\n",
    "                           \"FP_rate\": FP_rate,\n",
    "                           \"FN_rate\": FN_rate\n",
    "                          })\n",
    "    \n",
    "    display(result)\n",
    "    \n",
    "    # add script to plot accuracy, precision, recall for each threshold\n",
    "    # Create traces\n",
    "    fig = go.Figure()\n",
    "    fig.add_trace(go.Scatter(x=result['threshold'], y=result['Precision'],\n",
    "                        mode='lines+markers',\n",
    "                        name='Precision'))\n",
    "    fig.add_trace(go.Scatter(x=result['threshold'], y=result['Recall'],\n",
    "                        mode='lines+markers',\n",
    "                        name='Recall'))\n",
    "    fig.add_trace(go.Scatter(x=result['threshold'], y=result['F1'],\n",
    "                        mode='lines+markers', name='F1'))\n",
    "    fig.add_trace(go.Scatter(x=result['threshold'], y=result['Accuracy'],\n",
    "                        mode='lines+markers', name='Accuracy'))\n",
    "    \n",
    "    fig.update_layout(yaxis_range=[0,1])\n",
    "    fig.show()\n",
    "\n",
    "    # Let's look at our dataframe\n",
    "    return result"
   ]
  },
  {
   "cell_type": "code",
   "execution_count": 123,
   "id": "3347a924",
   "metadata": {},
   "outputs": [],
   "source": [
    "# Required inputs are the model name and the two test data objects (X,y)\n",
    "def knn_performance_by_k(X_train,X_test,y_train,y_test,k_start=1,k_end=20,k_interval=2):\n",
    "    '''\n",
    "    The function generates a dataframe of evaluation metrics for kNN model, for different values of K. \n",
    "    '''\n",
    "    \n",
    "    # Create empty lists to store metric values created within loop\n",
    "    TP = []\n",
    "    TN = []\n",
    "    FP = []\n",
    "    FN = []\n",
    "    recall = []\n",
    "    precision = []\n",
    "    F1 = []\n",
    "    Accuracy = []\n",
    "    FP_rate=[]\n",
    "    FN_rate=[]\n",
    "    \n",
    "    # Create list of probability threshold values to loop over\n",
    "#     threshold = np.arange(0,1.1,0.1).tolist()\n",
    "    k_range = range(k_start,k_end,k_interval)\n",
    "\n",
    "    # Start loop to calculate performance measures for each threshold\n",
    "    for k in k_range:\n",
    "        \n",
    "        # create KNN model\n",
    "        model = KNeighborsClassifier(n_neighbors=k)\n",
    "        model.fit(X_train,y_train.values.ravel())\n",
    "\n",
    "        # predict output for test data\n",
    "        y_test_pred_class = model.predict(X_test)\n",
    "        \n",
    "        # performance metrics \n",
    "        model_confusion_matrix = metrics.confusion_matrix(y_test, y_test_pred_class)\n",
    "        recall_score = metrics.recall_score(y_test, y_test_pred_class)\n",
    "        precision_score = metrics.precision_score(y_test, y_test_pred_class)\n",
    "        f1_score = metrics.f1_score(y_test, y_test_pred_class)\n",
    "        accuracy = metrics.accuracy_score(y_test, y_test_pred_class)\n",
    "        fp_rate = model_confusion_matrix[0][1]/(model_confusion_matrix[0][0]+model_confusion_matrix[0][1])\n",
    "        fn_rate = model_confusion_matrix[1][0]/(model_confusion_matrix[1][0]+model_confusion_matrix[1][1])\n",
    "\n",
    "        # Append lists with metric values\n",
    "        TP.append(model_confusion_matrix[1,1])\n",
    "        TN.append(model_confusion_matrix[0,0])\n",
    "        FP.append(model_confusion_matrix[0,1])\n",
    "        FN.append(model_confusion_matrix[1,0])\n",
    "        recall.append(recall_score.round(3))\n",
    "        precision.append(precision_score.round(3))\n",
    "        F1.append(f1_score.round(3))\n",
    "        Accuracy.append(accuracy.round(3))\n",
    "        FP_rate.append(fp_rate.round(3))\n",
    "        FN_rate.append(fn_rate.round(3))\n",
    "\n",
    "    # Create dataframe\n",
    "    result = pd.DataFrame({\"k\":k_range,\n",
    "                           \"TP\":TP,\n",
    "                           \"TN\":TN,\n",
    "                           \"FP\":FP,\n",
    "                           \"FN\":FN,\n",
    "                           \"Precision\":precision,\n",
    "                           \"Recall\":recall,\n",
    "                           \"F1\":F1,\n",
    "                           \"Accuracy\": Accuracy,\n",
    "                           \"FP_rate\": FP_rate,\n",
    "                           \"FN_rate\": FN_rate\n",
    "                          })\n",
    "    \n",
    "    display(result)\n",
    "    \n",
    "    # add script to plot accuracy, precision, recall for each threshold\n",
    "    # Create traces\n",
    "    fig = go.Figure()\n",
    "    fig.add_trace(go.Scatter(x=result['k'], y=result['Precision'],\n",
    "                        mode='lines+markers',\n",
    "                        name='Precision'))\n",
    "    fig.add_trace(go.Scatter(x=result['k'], y=result['Recall'],\n",
    "                        mode='lines+markers',\n",
    "                        name='Recall'))\n",
    "    fig.add_trace(go.Scatter(x=result['k'], y=result['F1'],\n",
    "                        mode='lines+markers', name='F1'))\n",
    "    fig.add_trace(go.Scatter(x=result['k'], y=result['Accuracy'],\n",
    "                        mode='lines+markers', name='Accuracy'))\n",
    "    \n",
    "    fig.update_layout(yaxis_range=[0,1])\n",
    "    fig.show()\n",
    "\n",
    "    # Let's look at our dataframe\n",
    "    return result"
   ]
  },
  {
   "cell_type": "markdown",
   "id": "c36dabbe",
   "metadata": {},
   "source": [
    "## Declare Global Variables"
   ]
  },
  {
   "cell_type": "code",
   "execution_count": 124,
   "id": "443ed0c4",
   "metadata": {},
   "outputs": [],
   "source": [
    "# common variables used in the notebook\n",
    "numerics = ['int16','int32','int64','float16','float32','float64']\n",
    "categorical = ['object']"
   ]
  },
  {
   "cell_type": "markdown",
   "id": "f729495e",
   "metadata": {},
   "source": [
    "## 4. Connect to Data Source and Data Extraction <a class=\"anchor\" id=\"data-extraction\"></a>\n",
    "1. The below cells loads the data from flat file and creates a source dataframe. \n",
    "2. Source data frame is copied so that we dont have to rextract the data from source.  \n",
    "3. We will be using the copied dataframe to analyze the data, feature selection and for running machine learning model.\n",
    "\n",
    "| Source       \t|                       \t        |\n",
    "|--------------\t|-------------------------------\t|\n",
    "| File Name:   \t| FlightDelays_Clean.csv                 \t        |\n",
    "| File Location:| CIS 508\\Assignment\\Assignment 3   |\n",
    "\n",
    "**Note:**\n",
    "Check the row and column count of the table prior to loading the data into python dataframe.  \n",
    "\n",
    "* [Go to Top](#table-of-content)"
   ]
  },
  {
   "cell_type": "markdown",
   "id": "3a72ac93",
   "metadata": {},
   "source": [
    "### 4.1 Check the row and column count and load the source data"
   ]
  },
  {
   "cell_type": "code",
   "execution_count": 125,
   "id": "fe78b8b7",
   "metadata": {},
   "outputs": [
    {
     "name": "stdout",
     "output_type": "stream",
     "text": [
      "Number of rows: 2201\n",
      "Number of columns: 23\n"
     ]
    }
   ],
   "source": [
    "file_name='FlightDelays_Clean.csv'\n",
    "rows = sum(1 for line in open(file_name)) - 1 # -1 to remove header row count\n",
    "columns = pd.read_csv(file_name, nrows=10).shape[1]\n",
    "\n",
    "print('Number of rows:', rows)\n",
    "print('Number of columns:', columns)"
   ]
  },
  {
   "cell_type": "markdown",
   "id": "eacc3ccf",
   "metadata": {},
   "source": [
    "> Number of rows and columns in the source data are not very high. We can load the data in one go.\n",
    ">\n",
    "> Note: if the data size is more, load the data in batches"
   ]
  },
  {
   "cell_type": "code",
   "execution_count": 126,
   "id": "39b70932",
   "metadata": {},
   "outputs": [
    {
     "data": {
      "text/html": [
       "<div>\n",
       "<style scoped>\n",
       "    .dataframe tbody tr th:only-of-type {\n",
       "        vertical-align: middle;\n",
       "    }\n",
       "\n",
       "    .dataframe tbody tr th {\n",
       "        vertical-align: top;\n",
       "    }\n",
       "\n",
       "    .dataframe thead th {\n",
       "        text-align: right;\n",
       "    }\n",
       "</style>\n",
       "<table border=\"1\" class=\"dataframe\">\n",
       "  <thead>\n",
       "    <tr style=\"text-align: right;\">\n",
       "      <th></th>\n",
       "      <th>status_delayed</th>\n",
       "      <th>sch_dep_time</th>\n",
       "      <th>carrier_delta</th>\n",
       "      <th>carrier_us</th>\n",
       "      <th>carrier_envoy</th>\n",
       "      <th>carrier_continental</th>\n",
       "      <th>carrier_discovery</th>\n",
       "      <th>carrier_other</th>\n",
       "      <th>dest_jfk</th>\n",
       "      <th>dest_ewr</th>\n",
       "      <th>dest_lga</th>\n",
       "      <th>distance</th>\n",
       "      <th>origin_dca</th>\n",
       "      <th>origin_iad</th>\n",
       "      <th>origin_bwi</th>\n",
       "      <th>bad_weather</th>\n",
       "      <th>Monday</th>\n",
       "      <th>Tuesday</th>\n",
       "      <th>Wednesday</th>\n",
       "      <th>Thursday</th>\n",
       "      <th>Friday</th>\n",
       "      <th>Saturday</th>\n",
       "      <th>Sunday</th>\n",
       "    </tr>\n",
       "  </thead>\n",
       "  <tbody>\n",
       "    <tr>\n",
       "      <th>2196</th>\n",
       "      <td>0</td>\n",
       "      <td>21.3300</td>\n",
       "      <td>0</td>\n",
       "      <td>0</td>\n",
       "      <td>0</td>\n",
       "      <td>0</td>\n",
       "      <td>1</td>\n",
       "      <td>0</td>\n",
       "      <td>0</td>\n",
       "      <td>0</td>\n",
       "      <td>1</td>\n",
       "      <td>229</td>\n",
       "      <td>0</td>\n",
       "      <td>1</td>\n",
       "      <td>0</td>\n",
       "      <td>0</td>\n",
       "      <td>0</td>\n",
       "      <td>0</td>\n",
       "      <td>0</td>\n",
       "      <td>1</td>\n",
       "      <td>0</td>\n",
       "      <td>0</td>\n",
       "      <td>0</td>\n",
       "    </tr>\n",
       "    <tr>\n",
       "      <th>2197</th>\n",
       "      <td>0</td>\n",
       "      <td>21.3300</td>\n",
       "      <td>0</td>\n",
       "      <td>0</td>\n",
       "      <td>0</td>\n",
       "      <td>0</td>\n",
       "      <td>1</td>\n",
       "      <td>0</td>\n",
       "      <td>0</td>\n",
       "      <td>0</td>\n",
       "      <td>1</td>\n",
       "      <td>229</td>\n",
       "      <td>0</td>\n",
       "      <td>1</td>\n",
       "      <td>0</td>\n",
       "      <td>0</td>\n",
       "      <td>0</td>\n",
       "      <td>0</td>\n",
       "      <td>0</td>\n",
       "      <td>0</td>\n",
       "      <td>1</td>\n",
       "      <td>0</td>\n",
       "      <td>0</td>\n",
       "    </tr>\n",
       "    <tr>\n",
       "      <th>2198</th>\n",
       "      <td>0</td>\n",
       "      <td>21.3300</td>\n",
       "      <td>0</td>\n",
       "      <td>0</td>\n",
       "      <td>0</td>\n",
       "      <td>0</td>\n",
       "      <td>1</td>\n",
       "      <td>0</td>\n",
       "      <td>0</td>\n",
       "      <td>0</td>\n",
       "      <td>1</td>\n",
       "      <td>229</td>\n",
       "      <td>0</td>\n",
       "      <td>1</td>\n",
       "      <td>0</td>\n",
       "      <td>0</td>\n",
       "      <td>0</td>\n",
       "      <td>0</td>\n",
       "      <td>0</td>\n",
       "      <td>0</td>\n",
       "      <td>0</td>\n",
       "      <td>1</td>\n",
       "      <td>0</td>\n",
       "    </tr>\n",
       "    <tr>\n",
       "      <th>2199</th>\n",
       "      <td>0</td>\n",
       "      <td>21.3300</td>\n",
       "      <td>0</td>\n",
       "      <td>0</td>\n",
       "      <td>0</td>\n",
       "      <td>0</td>\n",
       "      <td>1</td>\n",
       "      <td>0</td>\n",
       "      <td>0</td>\n",
       "      <td>0</td>\n",
       "      <td>1</td>\n",
       "      <td>229</td>\n",
       "      <td>0</td>\n",
       "      <td>1</td>\n",
       "      <td>0</td>\n",
       "      <td>0</td>\n",
       "      <td>0</td>\n",
       "      <td>0</td>\n",
       "      <td>0</td>\n",
       "      <td>0</td>\n",
       "      <td>0</td>\n",
       "      <td>0</td>\n",
       "      <td>1</td>\n",
       "    </tr>\n",
       "    <tr>\n",
       "      <th>2200</th>\n",
       "      <td>0</td>\n",
       "      <td>21.3300</td>\n",
       "      <td>0</td>\n",
       "      <td>0</td>\n",
       "      <td>0</td>\n",
       "      <td>0</td>\n",
       "      <td>1</td>\n",
       "      <td>0</td>\n",
       "      <td>0</td>\n",
       "      <td>0</td>\n",
       "      <td>1</td>\n",
       "      <td>229</td>\n",
       "      <td>0</td>\n",
       "      <td>1</td>\n",
       "      <td>0</td>\n",
       "      <td>0</td>\n",
       "      <td>1</td>\n",
       "      <td>0</td>\n",
       "      <td>0</td>\n",
       "      <td>0</td>\n",
       "      <td>0</td>\n",
       "      <td>0</td>\n",
       "      <td>0</td>\n",
       "    </tr>\n",
       "  </tbody>\n",
       "</table>\n",
       "</div>"
      ],
      "text/plain": [
       "      status_delayed  sch_dep_time  carrier_delta  carrier_us  carrier_envoy  \\\n",
       "2196               0       21.3300              0           0              0   \n",
       "2197               0       21.3300              0           0              0   \n",
       "2198               0       21.3300              0           0              0   \n",
       "2199               0       21.3300              0           0              0   \n",
       "2200               0       21.3300              0           0              0   \n",
       "\n",
       "      carrier_continental  carrier_discovery  carrier_other  dest_jfk  \\\n",
       "2196                    0                  1              0         0   \n",
       "2197                    0                  1              0         0   \n",
       "2198                    0                  1              0         0   \n",
       "2199                    0                  1              0         0   \n",
       "2200                    0                  1              0         0   \n",
       "\n",
       "      dest_ewr  dest_lga  distance  origin_dca  origin_iad  origin_bwi  \\\n",
       "2196         0         1       229           0           1           0   \n",
       "2197         0         1       229           0           1           0   \n",
       "2198         0         1       229           0           1           0   \n",
       "2199         0         1       229           0           1           0   \n",
       "2200         0         1       229           0           1           0   \n",
       "\n",
       "      bad_weather  Monday  Tuesday  Wednesday  Thursday  Friday  Saturday  \\\n",
       "2196            0       0        0          0         1       0         0   \n",
       "2197            0       0        0          0         0       1         0   \n",
       "2198            0       0        0          0         0       0         1   \n",
       "2199            0       0        0          0         0       0         0   \n",
       "2200            0       1        0          0         0       0         0   \n",
       "\n",
       "      Sunday  \n",
       "2196       0  \n",
       "2197       0  \n",
       "2198       0  \n",
       "2199       1  \n",
       "2200       0  "
      ]
     },
     "execution_count": 126,
     "metadata": {},
     "output_type": "execute_result"
    }
   ],
   "source": [
    "df_raw = pd.read_csv('FlightDelays_Clean.csv')\n",
    "df = df_raw.copy()\n",
    "df.tail()"
   ]
  },
  {
   "cell_type": "markdown",
   "id": "adb8085c",
   "metadata": {},
   "source": [
    "#### Inital Observation:\n",
    "> **Total Records**: 2200 records <br>\n",
    "> **Target Variable**: status_delayed (1 if flight is delayed, 0 if flight is not delayed) <br>\n",
    ">\n",
    "> Data Definition\n",
    "\n",
    "| Column Name       \t|     Column Definition  |\n",
    "|--------------\t|-------------------------------\t|\n",
    "| status_delayed   \t| Determines if the flight is delayed or not. 1 if flight is delayed|\n",
    "| sch_dep_time | Estiamted time at which flight will depart  |\n",
    "| carrier | Ariline operator for the flight |\n",
    "| dest | Destination of the flight |\n",
    "| origin | Origin of the flight |\n",
    "| distance | Distance between Origin and destination |\n",
    "| bad_weather | Weather at the time of departure. 1 indicates cloudy-rainy wheather; 0 indicates clear sky |\n",
    "| weekday name | Day on which the flight is scheduled. This column includes dayname i.e. Sunady, Monday etc. |"
   ]
  },
  {
   "cell_type": "markdown",
   "id": "cddf0d92",
   "metadata": {},
   "source": [
    "## 5. Data Exploration, Data Transformation <a class=\"anchor\" id=\"data-transformation\"></a>\n",
    "\n",
    "1. [Initial Cleanup - dupes, missing values](#initial-cleanup)\n",
    "2. [Outlier Detection & Treatment](#outlier-detection)\n",
    "3. [Feature Creation](#feature-creation)\n",
    "4. [Feature Selection](#feature-selection)\n",
    "5. [Feature Transformations](#feature-transformations)\n",
    "6. [Data Partitioning](#data-split)\n",
    "7. [Data Scaling](#data-normalization)\n",
    "\n",
    "* [Go to Top](#table-of-content)"
   ]
  },
  {
   "cell_type": "markdown",
   "id": "aa19463f",
   "metadata": {},
   "source": [
    "### 5.1 Initial Cleanup <a class=\"anchor\" id=\"initial-cleanup\"></a>\n",
    "Remove Duplicates and missing values\n",
    "\n",
    "* [Go to Data Exploration/Transformation](#data-transformation)\n",
    "* [Go to Top](#table-of-content)"
   ]
  },
  {
   "cell_type": "markdown",
   "id": "5d0a473b",
   "metadata": {},
   "source": [
    "#### 5.1.1 Review column names\n",
    "Review column name and rename column names - change the column names to lower case and remove space between multiple words, so that it is easier to use while coding "
   ]
  },
  {
   "cell_type": "code",
   "execution_count": 127,
   "id": "cfb46126",
   "metadata": {},
   "outputs": [],
   "source": [
    "# print(df.columns)\n",
    "\n",
    "# no need to change the column names as all the column names are as expected"
   ]
  },
  {
   "cell_type": "markdown",
   "id": "7360df85",
   "metadata": {},
   "source": [
    "#### 5.1.2 Review data type of columns\n",
    "Python selects the data type for the columns while loading the data. Update the data type if there is any issue"
   ]
  },
  {
   "cell_type": "code",
   "execution_count": 128,
   "id": "e0621585",
   "metadata": {},
   "outputs": [
    {
     "name": "stdout",
     "output_type": "stream",
     "text": [
      "<class 'pandas.core.frame.DataFrame'>\n",
      "RangeIndex: 2201 entries, 0 to 2200\n",
      "Data columns (total 23 columns):\n",
      " #   Column               Non-Null Count  Dtype  \n",
      "---  ------               --------------  -----  \n",
      " 0   status_delayed       2201 non-null   int64  \n",
      " 1   sch_dep_time         2201 non-null   float64\n",
      " 2   carrier_delta        2201 non-null   int64  \n",
      " 3   carrier_us           2201 non-null   int64  \n",
      " 4   carrier_envoy        2201 non-null   int64  \n",
      " 5   carrier_continental  2201 non-null   int64  \n",
      " 6   carrier_discovery    2201 non-null   int64  \n",
      " 7   carrier_other        2201 non-null   int64  \n",
      " 8   dest_jfk             2201 non-null   int64  \n",
      " 9   dest_ewr             2201 non-null   int64  \n",
      " 10  dest_lga             2201 non-null   int64  \n",
      " 11  distance             2201 non-null   int64  \n",
      " 12  origin_dca           2201 non-null   int64  \n",
      " 13  origin_iad           2201 non-null   int64  \n",
      " 14  origin_bwi           2201 non-null   int64  \n",
      " 15  bad_weather          2201 non-null   int64  \n",
      " 16  Monday               2201 non-null   int64  \n",
      " 17  Tuesday              2201 non-null   int64  \n",
      " 18  Wednesday            2201 non-null   int64  \n",
      " 19  Thursday             2201 non-null   int64  \n",
      " 20  Friday               2201 non-null   int64  \n",
      " 21  Saturday             2201 non-null   int64  \n",
      " 22  Sunday               2201 non-null   int64  \n",
      "dtypes: float64(1), int64(22)\n",
      "memory usage: 395.6 KB\n"
     ]
    }
   ],
   "source": [
    "df.info()"
   ]
  },
  {
   "cell_type": "markdown",
   "id": "13e540bd",
   "metadata": {},
   "source": [
    "#### 5.1.3 Drop duplicate rows"
   ]
  },
  {
   "cell_type": "code",
   "execution_count": 129,
   "id": "d6962a6c",
   "metadata": {},
   "outputs": [
    {
     "name": "stdout",
     "output_type": "stream",
     "text": [
      "number of records 2201\n",
      "number of records after deleting duplicates 882\n"
     ]
    }
   ],
   "source": [
    "# remove duplicates\n",
    "print('number of records',len(df))\n",
    "\n",
    "df = df.drop_duplicates()\n",
    "\n",
    "print('number of records after deleting duplicates',len(df))"
   ]
  },
  {
   "cell_type": "markdown",
   "id": "7896934f",
   "metadata": {},
   "source": [
    "#### 5.1.4 Check for Null values"
   ]
  },
  {
   "cell_type": "code",
   "execution_count": 130,
   "id": "3bd4dd7a",
   "metadata": {},
   "outputs": [],
   "source": [
    "# z_null_value_check(df)"
   ]
  },
  {
   "cell_type": "markdown",
   "id": "44e2530e",
   "metadata": {},
   "source": [
    "> No null values in the data"
   ]
  },
  {
   "cell_type": "markdown",
   "id": "7e9cecbb",
   "metadata": {},
   "source": [
    "#### Initial Cleanup Summary\n",
    ">1. Deleted 1319 duplicate rows from the data. \n",
    ">2. No null values in the data\n",
    ">\n",
    ">**Total Number of rows after cleanup = 882**"
   ]
  },
  {
   "cell_type": "markdown",
   "id": "a3fbee3c",
   "metadata": {},
   "source": [
    "### 5.2 Outlier Detection and Removal <a class=\"anchor\" id=\"outlier-detection\"></a>\n",
    "\n",
    "* [Go to Data Exploration/Transformation](#data-transformation)\n",
    "* [Go to Top](#table-of-content)"
   ]
  },
  {
   "cell_type": "markdown",
   "id": "09424d55",
   "metadata": {},
   "source": [
    "#### 5.2.1 Outlier Detection"
   ]
  },
  {
   "cell_type": "code",
   "execution_count": 131,
   "id": "f0b3ac3e",
   "metadata": {},
   "outputs": [],
   "source": [
    "# summary of numerical variables\n",
    "# z_describe_numerics(df)"
   ]
  },
  {
   "cell_type": "code",
   "execution_count": 132,
   "id": "f3cb387f",
   "metadata": {},
   "outputs": [
    {
     "data": {
      "text/plain": [
       "<Figure size 640x480 with 0 Axes>"
      ]
     },
     "metadata": {},
     "output_type": "display_data"
    },
    {
     "data": {
      "image/png": "[encoded data removed]",
      "text/plain": [
       "<Figure size 500x500 with 1 Axes>"
      ]
     },
     "metadata": {},
     "output_type": "display_data"
    },
    {
     "data": {
      "image/png": "[encoded data removed]",
      "text/plain": [
       "<Figure size 500x500 with 1 Axes>"
      ]
     },
     "metadata": {},
     "output_type": "display_data"
    }
   ],
   "source": [
    "# # histogram plots for columns which might have outliers\n",
    "graph_columns=['sch_dep_time','distance']\n",
    "\n",
    "for i, col in enumerate(graph_columns):\n",
    "    plt.figure(i)\n",
    "    sns.displot(df[col])\n",
    "    plt.title(col + ' Histogram before Outlier removal')"
   ]
  },
  {
   "cell_type": "markdown",
   "id": "ea432115",
   "metadata": {},
   "source": [
    "**Outlier Detection Summary**\n",
    "> 1. No outliers in the dataset\n"
   ]
  },
  {
   "cell_type": "markdown",
   "id": "6810f05c",
   "metadata": {},
   "source": [
    "#### 5.2.2 Outlier Removal\n",
    "\n",
    "* [Go to Data Exploration/Transformation](#data-transformation)\n",
    "* [Go to Top](#table-of-content)"
   ]
  },
  {
   "cell_type": "code",
   "execution_count": 133,
   "id": "26aa086d",
   "metadata": {},
   "outputs": [],
   "source": [
    "#"
   ]
  },
  {
   "cell_type": "markdown",
   "id": "fef20001",
   "metadata": {},
   "source": [
    ">**Outlier Treatment Summary** <br>\n",
    "> No Outliers\n",
    ">\n",
    ">**Total Number of rows after cleanup = 882**\n"
   ]
  },
  {
   "cell_type": "markdown",
   "id": "8e6264de",
   "metadata": {},
   "source": [
    "### 5.3 Feature Creation <a class=\"anchor\" id=\"feature-creation\"></a>\n",
    "\n",
    "1. Create new features based on current data\n",
    "2. Reduce the number of unique values (if possible)\n",
    "\n",
    "* [Go to Data Exploration/Transformation](#data-transformation)\n",
    "* [Go to Top](#table-of-content)"
   ]
  },
  {
   "cell_type": "code",
   "execution_count": 134,
   "id": "4219175b",
   "metadata": {},
   "outputs": [],
   "source": [
    "#"
   ]
  },
  {
   "cell_type": "markdown",
   "id": "496fa280",
   "metadata": {},
   "source": [
    ">**Feature Creation Summary** <br>\n",
    "> All features are already cleaned from source  "
   ]
  },
  {
   "cell_type": "markdown",
   "id": "2dd046c2",
   "metadata": {},
   "source": [
    "### 5.4 Feature selection <a class=\"anchor\" id=\"feature-selection\"></a>\n",
    "Select the features on which Price is dependent. Feature selection is divided into:\n",
    "1. [Numerical features](#numerical-feature-selection)\n",
    "2. [Categorical Features](#categorical-feature-selection)\n",
    "\n",
    "* [Go to Data Exploration/Transformation](#data-transformation)\n",
    "* [Go to Top](#table-of-content)"
   ]
  },
  {
   "cell_type": "markdown",
   "id": "e1d7bdf1",
   "metadata": {},
   "source": [
    "#### 5.4.1 Numerical Feature Selection <a class=\"anchor\" id=\"numerical-feature-selection\"></a>"
   ]
  },
  {
   "cell_type": "code",
   "execution_count": 135,
   "id": "44a8740e",
   "metadata": {},
   "outputs": [],
   "source": [
    "# target_variable = 'status_delayed'\n",
    "\n",
    "# a = df.select_dtypes(include =numerics).corr()[[target_variable]].drop(target_variable).round(2)\n",
    "\n",
    "# fig = px.bar(x=a.status_delayed[:],y=a.index[:],data_frame=a, orientation='h',color=a.status_delayed[:],\n",
    "#              color_continuous_scale=px.colors.sequential.Viridis,\n",
    "#              title='Correlation between Numerical variables and Flight Delay (target variable)'\n",
    "#             )\n",
    "# fig.show()\n",
    "\n",
    "# sns.scatterplot(data=df,x='sch_dep_time',y='status_delayed')"
   ]
  },
  {
   "cell_type": "markdown",
   "id": "1d2217f9",
   "metadata": {},
   "source": [
    ">**Note:** <br>\n",
    ">Selected Numerical features:\n",
    "> 1. distance can be derived from Origin to destination. thus we might drop distance column. Check!!"
   ]
  },
  {
   "cell_type": "markdown",
   "id": "838af46d",
   "metadata": {},
   "source": [
    "#### 5.4.2 Categorical Feature Selection <a class=\"anchor\" id=\"categorical-feature-selection\"></a>"
   ]
  },
  {
   "cell_type": "code",
   "execution_count": 136,
   "id": "7231a5ec",
   "metadata": {},
   "outputs": [],
   "source": [
    "# df.select_dtypes(include=categorical).nunique()"
   ]
  },
  {
   "cell_type": "markdown",
   "id": "4828ed2f",
   "metadata": {},
   "source": [
    ">**Assessment of Categorical Variables:**<br>\n",
    "<br>\n",
    ">Data set does not contain any categorical variables"
   ]
  },
  {
   "cell_type": "markdown",
   "id": "36c62b53",
   "metadata": {},
   "source": [
    "**Feature Selection Summary**\n",
    "\n",
    "Following features have been selected to predict if the flight is delayed or not.\n",
    "\n",
    "> **Numerical Features:**\n",
    "> 1. sch_dep_time\n",
    ">\n",
    "> **Categorical variables:** <br>\n",
    "> It looks like follwing categorical columns are already converted to following numerical variable\n",
    "> 1. carrier\n",
    "> 2. origin\n",
    "> 3. destination\n",
    "> 4. weather "
   ]
  },
  {
   "cell_type": "markdown",
   "id": "ca85c1c4",
   "metadata": {},
   "source": [
    "### 5.5 Feature Transformations <a class=\"anchor\" id=\"feature-transformations\"></a>\n",
    ">To Do:<br>\n",
    "> 1. Encode categorical variables\n",
    "\n",
    "* [Go to Data Exploration/Transformation](#data-transformation)\n",
    "* [Go to Top](#table-of-content)"
   ]
  },
  {
   "cell_type": "markdown",
   "id": "f64e12b9",
   "metadata": {},
   "source": [
    "#### 5.5.1 Encode categorical variables using get_dummies"
   ]
  },
  {
   "cell_type": "code",
   "execution_count": 137,
   "id": "58610170",
   "metadata": {},
   "outputs": [],
   "source": [
    "# # Flag categorical variables and convert to dummies\n",
    "# cat_vars = df.select_dtypes(include=['object']).columns\n",
    "\n",
    "# # Loop over categorical vars and encode each one\n",
    "# for var in cat_vars:\n",
    "#     df[var] = df[var].astype(\"category\")\n",
    "\n",
    "# df = pd.get_dummies(df,columns=cat_vars, prefix_sep='_')"
   ]
  },
  {
   "cell_type": "code",
   "execution_count": 138,
   "id": "79bbb5f7",
   "metadata": {},
   "outputs": [],
   "source": [
    "# df.columns"
   ]
  },
  {
   "cell_type": "code",
   "execution_count": 139,
   "id": "a8ca6e34",
   "metadata": {},
   "outputs": [],
   "source": [
    "# manually dropping the columns so that we have more control over model (if required)\n",
    "df = df.drop('distance',axis=1)"
   ]
  },
  {
   "cell_type": "markdown",
   "id": "49d050ad",
   "metadata": {},
   "source": [
    "### 5.6 Train Test Split <a class=\"anchor\" id=\"data-split\"></a>\n",
    "\n",
    "* [Go to Data Exploration/Transformation](#data-transformation)\n",
    "* [Go to Top](#table-of-content)"
   ]
  },
  {
   "cell_type": "code",
   "execution_count": 140,
   "id": "2a85bf56",
   "metadata": {},
   "outputs": [],
   "source": [
    "X = df.drop(['status_delayed'],axis=1)\n",
    "\n",
    "y = df['status_delayed']\n",
    "\n",
    "# Split data\n",
    "X_train,X_test,y_train,y_test = train_test_split(X,y, test_size=0.3,random_state=2)"
   ]
  },
  {
   "cell_type": "markdown",
   "id": "7f44fd6f",
   "metadata": {},
   "source": [
    "### 5.7 Data Normalization <a class=\"anchor\" id=\"data-normalization\"></a>\n",
    "\n",
    "* [Go to Data Exploration/Transformation](#data-transformation)\n",
    "* [Go to Top](#table-of-content)"
   ]
  },
  {
   "cell_type": "code",
   "execution_count": 141,
   "id": "056312ab",
   "metadata": {},
   "outputs": [],
   "source": [
    "# df.head()\n",
    "# sns.displot(X_train['sch_dep_time'])"
   ]
  },
  {
   "cell_type": "code",
   "execution_count": 142,
   "id": "5e7429eb",
   "metadata": {},
   "outputs": [],
   "source": [
    "scaler = StandardScaler()\n",
    "scaler.fit(X_train[['sch_dep_time']])\n",
    "X_train['sch_dep_time'] = scaler.transform(X_train[['sch_dep_time']])\n",
    "X_test['sch_dep_time'] = scaler.transform(X_test[['sch_dep_time']])"
   ]
  },
  {
   "cell_type": "code",
   "execution_count": 143,
   "id": "029ee70e",
   "metadata": {},
   "outputs": [],
   "source": [
    "# sns.displot(X_train['sch_dep_time'])"
   ]
  },
  {
   "cell_type": "markdown",
   "id": "d13ff6f9",
   "metadata": {},
   "source": [
    "**Data Exploration/Transformation Summary**\n",
    "\n",
    ">1. removed duplicate rows\n",
    ">2. Train test split of 70:30 has been taken\n",
    ">3. Normalized the numerical variables using Standard scaler\n",
    ">**Total Number of rows after cleanup = 882**\n",
    "\n",
    "* [Go to Data Exploration/Transformation](#data-transformation)\n",
    "* [Go to Top](#table-of-content)"
   ]
  },
  {
   "cell_type": "markdown",
   "id": "325d7065",
   "metadata": {},
   "source": [
    "## 6. Machine Learning <a class=\"anchor\" id=\"ml-model\"></a>\n",
    "\n",
    "- [X] [1. Naive Baseline](#naive-baseline)\n",
    "- [X] [2. kNN](#first-model)\n",
    "- [X] [3. Logistic Model](#second-model)\n",
    "- [X] [4. Final Model Selection](#final-model)\n",
    "- [X] [5. Performance Evaluation](#performance-evaluation)\n",
    "\n",
    "\n",
    "* [Go to Top](#table-of-content)"
   ]
  },
  {
   "cell_type": "markdown",
   "id": "993ea8c2",
   "metadata": {},
   "source": [
    "### 6.1. Naive Baseline <a class=\"anchor\" id=\"naive-baseline\"></a>\n",
    "Calculating naive baseline for our dataset"
   ]
  },
  {
   "cell_type": "markdown",
   "id": "403fb6fc",
   "metadata": {},
   "source": [
    "#### Naive Baseline of Training Data"
   ]
  },
  {
   "cell_type": "code",
   "execution_count": 144,
   "id": "137aae85",
   "metadata": {},
   "outputs": [
    {
     "name": "stdout",
     "output_type": "stream",
     "text": [
      "Count of task not completed and task completed:\n",
      "0    401\n",
      "1    216\n",
      "Name: status_delayed, dtype: int64\n",
      "\n",
      "\n",
      "35.01 percent of the flights are delayed\n",
      "64.99 percent of the flights are not delayed\n"
     ]
    }
   ],
   "source": [
    "print('Count of flight on time(0) and delayed(1):')\n",
    "print(y_train.value_counts())\n",
    "print('\\n')\n",
    "print('%.2f percent of the flights are delayed' %(y_train.mean()*100))\n",
    "print('%.2f percent of the flights are not delayed' %(100-(y_train.mean()*100)))"
   ]
  },
  {
   "cell_type": "markdown",
   "id": "781c8639",
   "metadata": {},
   "source": [
    "> **Our naive baseline is 65% i.e. if we predict that the flight will not be delayed for all our train records, we will be 65% accurate in predicting it**\n"
   ]
  },
  {
   "cell_type": "markdown",
   "id": "28dfac49",
   "metadata": {},
   "source": [
    "#### Naive Baseline of Testing Data"
   ]
  },
  {
   "cell_type": "code",
   "execution_count": 145,
   "id": "97449825",
   "metadata": {},
   "outputs": [
    {
     "name": "stdout",
     "output_type": "stream",
     "text": [
      "Count of task not completed and task completed:\n",
      "0    168\n",
      "1     97\n",
      "Name: status_delayed, dtype: int64\n",
      "\n",
      "\n",
      "36.60 percent of the flights are delayed\n",
      "63.40 percent of the flights are not delayed\n"
     ]
    }
   ],
   "source": [
    "print('Count of flight on time(0) and delayed(1):')\n",
    "print(y_test.value_counts())\n",
    "print('\\n')\n",
    "print('%.2f percent of the flights are delayed' %(y_test.mean()*100))\n",
    "print('%.2f percent of the flights are not delayed' %(100-(y_test.mean()*100)))"
   ]
  },
  {
   "cell_type": "markdown",
   "id": "d73274ca",
   "metadata": {},
   "source": [
    "> **Our naive baseline of testing data is 64% i.e. if we predict that the flight will not be delayed for all our train records, we will be 64% accurate in predicting it**"
   ]
  },
  {
   "cell_type": "markdown",
   "id": "1f713752",
   "metadata": {},
   "source": [
    "### 6.2. Model 1 - KNN <a class=\"anchor\" id=\"first-model\"></a>\n",
    "\n",
    "Predict the target variable using K nearest neighbour method\n",
    "\n",
    "> 1. Create mulitple kNN models using multiple values of k\n",
    "> 2. Choose the best value of k based on accuracy and Precision\n",
    "\n",
    "* [Go to Machine Learning](#ml-model)\n",
    "* [Go to Top](#table-of-content)"
   ]
  },
  {
   "cell_type": "code",
   "execution_count": 146,
   "id": "fa0c951f",
   "metadata": {},
   "outputs": [
    {
     "data": {
      "text/html": [
       "<div>\n",
       "<style scoped>\n",
       "    .dataframe tbody tr th:only-of-type {\n",
       "        vertical-align: middle;\n",
       "    }\n",
       "\n",
       "    .dataframe tbody tr th {\n",
       "        vertical-align: top;\n",
       "    }\n",
       "\n",
       "    .dataframe thead th {\n",
       "        text-align: right;\n",
       "    }\n",
       "</style>\n",
       "<table border=\"1\" class=\"dataframe\">\n",
       "  <thead>\n",
       "    <tr style=\"text-align: right;\">\n",
       "      <th></th>\n",
       "      <th>k</th>\n",
       "      <th>TP</th>\n",
       "      <th>TN</th>\n",
       "      <th>FP</th>\n",
       "      <th>FN</th>\n",
       "      <th>Precision</th>\n",
       "      <th>Recall</th>\n",
       "      <th>F1</th>\n",
       "      <th>Accuracy</th>\n",
       "      <th>FP_rate</th>\n",
       "      <th>FN_rate</th>\n",
       "    </tr>\n",
       "  </thead>\n",
       "  <tbody>\n",
       "    <tr>\n",
       "      <th>0</th>\n",
       "      <td>1</td>\n",
       "      <td>15</td>\n",
       "      <td>94</td>\n",
       "      <td>74</td>\n",
       "      <td>82</td>\n",
       "      <td>0.1690</td>\n",
       "      <td>0.1550</td>\n",
       "      <td>0.1610</td>\n",
       "      <td>0.4110</td>\n",
       "      <td>0.4400</td>\n",
       "      <td>0.8450</td>\n",
       "    </tr>\n",
       "    <tr>\n",
       "      <th>1</th>\n",
       "      <td>3</td>\n",
       "      <td>18</td>\n",
       "      <td>123</td>\n",
       "      <td>45</td>\n",
       "      <td>79</td>\n",
       "      <td>0.2860</td>\n",
       "      <td>0.1860</td>\n",
       "      <td>0.2250</td>\n",
       "      <td>0.5320</td>\n",
       "      <td>0.2680</td>\n",
       "      <td>0.8140</td>\n",
       "    </tr>\n",
       "    <tr>\n",
       "      <th>2</th>\n",
       "      <td>5</td>\n",
       "      <td>17</td>\n",
       "      <td>137</td>\n",
       "      <td>31</td>\n",
       "      <td>80</td>\n",
       "      <td>0.3540</td>\n",
       "      <td>0.1750</td>\n",
       "      <td>0.2340</td>\n",
       "      <td>0.5810</td>\n",
       "      <td>0.1850</td>\n",
       "      <td>0.8250</td>\n",
       "    </tr>\n",
       "    <tr>\n",
       "      <th>3</th>\n",
       "      <td>7</td>\n",
       "      <td>11</td>\n",
       "      <td>143</td>\n",
       "      <td>25</td>\n",
       "      <td>86</td>\n",
       "      <td>0.3060</td>\n",
       "      <td>0.1130</td>\n",
       "      <td>0.1650</td>\n",
       "      <td>0.5810</td>\n",
       "      <td>0.1490</td>\n",
       "      <td>0.8870</td>\n",
       "    </tr>\n",
       "    <tr>\n",
       "      <th>4</th>\n",
       "      <td>9</td>\n",
       "      <td>12</td>\n",
       "      <td>146</td>\n",
       "      <td>22</td>\n",
       "      <td>85</td>\n",
       "      <td>0.3530</td>\n",
       "      <td>0.1240</td>\n",
       "      <td>0.1830</td>\n",
       "      <td>0.5960</td>\n",
       "      <td>0.1310</td>\n",
       "      <td>0.8760</td>\n",
       "    </tr>\n",
       "    <tr>\n",
       "      <th>5</th>\n",
       "      <td>11</td>\n",
       "      <td>9</td>\n",
       "      <td>148</td>\n",
       "      <td>20</td>\n",
       "      <td>88</td>\n",
       "      <td>0.3100</td>\n",
       "      <td>0.0930</td>\n",
       "      <td>0.1430</td>\n",
       "      <td>0.5920</td>\n",
       "      <td>0.1190</td>\n",
       "      <td>0.9070</td>\n",
       "    </tr>\n",
       "    <tr>\n",
       "      <th>6</th>\n",
       "      <td>13</td>\n",
       "      <td>10</td>\n",
       "      <td>149</td>\n",
       "      <td>19</td>\n",
       "      <td>87</td>\n",
       "      <td>0.3450</td>\n",
       "      <td>0.1030</td>\n",
       "      <td>0.1590</td>\n",
       "      <td>0.6000</td>\n",
       "      <td>0.1130</td>\n",
       "      <td>0.8970</td>\n",
       "    </tr>\n",
       "    <tr>\n",
       "      <th>7</th>\n",
       "      <td>15</td>\n",
       "      <td>10</td>\n",
       "      <td>151</td>\n",
       "      <td>17</td>\n",
       "      <td>87</td>\n",
       "      <td>0.3700</td>\n",
       "      <td>0.1030</td>\n",
       "      <td>0.1610</td>\n",
       "      <td>0.6080</td>\n",
       "      <td>0.1010</td>\n",
       "      <td>0.8970</td>\n",
       "    </tr>\n",
       "    <tr>\n",
       "      <th>8</th>\n",
       "      <td>17</td>\n",
       "      <td>7</td>\n",
       "      <td>156</td>\n",
       "      <td>12</td>\n",
       "      <td>90</td>\n",
       "      <td>0.3680</td>\n",
       "      <td>0.0720</td>\n",
       "      <td>0.1210</td>\n",
       "      <td>0.6150</td>\n",
       "      <td>0.0710</td>\n",
       "      <td>0.9280</td>\n",
       "    </tr>\n",
       "    <tr>\n",
       "      <th>9</th>\n",
       "      <td>19</td>\n",
       "      <td>8</td>\n",
       "      <td>160</td>\n",
       "      <td>8</td>\n",
       "      <td>89</td>\n",
       "      <td>0.5000</td>\n",
       "      <td>0.0820</td>\n",
       "      <td>0.1420</td>\n",
       "      <td>0.6340</td>\n",
       "      <td>0.0480</td>\n",
       "      <td>0.9180</td>\n",
       "    </tr>\n",
       "    <tr>\n",
       "      <th>10</th>\n",
       "      <td>21</td>\n",
       "      <td>6</td>\n",
       "      <td>161</td>\n",
       "      <td>7</td>\n",
       "      <td>91</td>\n",
       "      <td>0.4620</td>\n",
       "      <td>0.0620</td>\n",
       "      <td>0.1090</td>\n",
       "      <td>0.6300</td>\n",
       "      <td>0.0420</td>\n",
       "      <td>0.9380</td>\n",
       "    </tr>\n",
       "  </tbody>\n",
       "</table>\n",
       "</div>"
      ],
      "text/plain": [
       "     k  TP   TN  FP  FN  Precision  Recall     F1  Accuracy  FP_rate  FN_rate\n",
       "0    1  15   94  74  82     0.1690  0.1550 0.1610    0.4110   0.4400   0.8450\n",
       "1    3  18  123  45  79     0.2860  0.1860 0.2250    0.5320   0.2680   0.8140\n",
       "2    5  17  137  31  80     0.3540  0.1750 0.2340    0.5810   0.1850   0.8250\n",
       "3    7  11  143  25  86     0.3060  0.1130 0.1650    0.5810   0.1490   0.8870\n",
       "4    9  12  146  22  85     0.3530  0.1240 0.1830    0.5960   0.1310   0.8760\n",
       "5   11   9  148  20  88     0.3100  0.0930 0.1430    0.5920   0.1190   0.9070\n",
       "6   13  10  149  19  87     0.3450  0.1030 0.1590    0.6000   0.1130   0.8970\n",
       "7   15  10  151  17  87     0.3700  0.1030 0.1610    0.6080   0.1010   0.8970\n",
       "8   17   7  156  12  90     0.3680  0.0720 0.1210    0.6150   0.0710   0.9280\n",
       "9   19   8  160   8  89     0.5000  0.0820 0.1420    0.6340   0.0480   0.9180\n",
       "10  21   6  161   7  91     0.4620  0.0620 0.1090    0.6300   0.0420   0.9380"
      ]
     },
     "metadata": {},
     "output_type": "display_data"
    },
    {
     "data": {
      "application/vnd.plotly.v1+json": {
       "config": {
        "plotlyServerURL": "https://plot.ly"
       },
       "data": [
        {
         "mode": "lines+markers",
         "name": "Precision",
         "type": "scatter",
         "x": [
          1,
          3,
          5,
          7,
          9,
          11,
          13,
          15,
          17,
          19,
          21
         ],
         "y": [
          0.169,
          0.286,
          0.354,
          0.306,
          0.353,
          0.31,
          0.345,
          0.37,
          0.368,
          0.5,
          0.462
         ]
        },
        {
         "mode": "lines+markers",
         "name": "Recall",
         "type": "scatter",
         "x": [
          1,
          3,
          5,
          7,
          9,
          11,
          13,
          15,
          17,
          19,
          21
         ],
         "y": [
          0.155,
          0.186,
          0.175,
          0.113,
          0.124,
          0.093,
          0.103,
          0.103,
          0.072,
          0.082,
          0.062
         ]
        },
        {
         "mode": "lines+markers",
         "name": "F1",
         "type": "scatter",
         "x": [
          1,
          3,
          5,
          7,
          9,
          11,
          13,
          15,
          17,
          19,
          21
         ],
         "y": [
          0.161,
          0.225,
          0.234,
          0.165,
          0.183,
          0.143,
          0.159,
          0.161,
          0.121,
          0.142,
          0.109
         ]
        },
        {
         "mode": "lines+markers",
         "name": "Accuracy",
         "type": "scatter",
         "x": [
          1,
          3,
          5,
          7,
          9,
          11,
          13,
          15,
          17,
          19,
          21
         ],
         "y": [
          0.411,
          0.532,
          0.581,
          0.581,
          0.596,
          0.592,
          0.6,
          0.608,
          0.615,
          0.634,
          0.63
         ]
        }
       ],
       "layout": {
        "template": {
         "data": {
          "bar": [
           {
            "error_x": {
             "color": "#2a3f5f"
            },
            "error_y": {
             "color": "#2a3f5f"
            },
            "marker": {
             "line": {
              "color": "#E5ECF6",
              "width": 0.5
             },
             "pattern": {
              "fillmode": "overlay",
              "size": 10,
              "solidity": 0.2
             }
            },
            "type": "bar"
           }
          ],
          "barpolar": [
           {
            "marker": {
             "line": {
              "color": "#E5ECF6",
              "width": 0.5
             },
             "pattern": {
              "fillmode": "overlay",
              "size": 10,
              "solidity": 0.2
             }
            },
            "type": "barpolar"
           }
          ],
          "carpet": [
           {
            "aaxis": {
             "endlinecolor": "#2a3f5f",
             "gridcolor": "white",
             "linecolor": "white",
             "minorgridcolor": "white",
             "startlinecolor": "#2a3f5f"
            },
            "baxis": {
             "endlinecolor": "#2a3f5f",
             "gridcolor": "white",
             "linecolor": "white",
             "minorgridcolor": "white",
             "startlinecolor": "#2a3f5f"
            },
            "type": "carpet"
           }
          ],
          "choropleth": [
           {
            "colorbar": {
             "outlinewidth": 0,
             "ticks": ""
            },
            "type": "choropleth"
           }
          ],
          "contour": [
           {
            "colorbar": {
             "outlinewidth": 0,
             "ticks": ""
            },
            "colorscale": [
             [
              0,
              "#0d0887"
             ],
             [
              0.1111111111111111,
              "#46039f"
             ],
             [
              0.2222222222222222,
              "#7201a8"
             ],
             [
              0.3333333333333333,
              "#9c179e"
             ],
             [
              0.4444444444444444,
              "#bd3786"
             ],
             [
              0.5555555555555556,
              "#d8576b"
             ],
             [
              0.6666666666666666,
              "#ed7953"
             ],
             [
              0.7777777777777778,
              "#fb9f3a"
             ],
             [
              0.8888888888888888,
              "#fdca26"
             ],
             [
              1,
              "#f0f921"
             ]
            ],
            "type": "contour"
           }
          ],
          "contourcarpet": [
           {
            "colorbar": {
             "outlinewidth": 0,
             "ticks": ""
            },
            "type": "contourcarpet"
           }
          ],
          "heatmap": [
           {
            "colorbar": {
             "outlinewidth": 0,
             "ticks": ""
            },
            "colorscale": [
             [
              0,
              "#0d0887"
             ],
             [
              0.1111111111111111,
              "#46039f"
             ],
             [
              0.2222222222222222,
              "#7201a8"
             ],
             [
              0.3333333333333333,
              "#9c179e"
             ],
             [
              0.4444444444444444,
              "#bd3786"
             ],
             [
              0.5555555555555556,
              "#d8576b"
             ],
             [
              0.6666666666666666,
              "#ed7953"
             ],
             [
              0.7777777777777778,
              "#fb9f3a"
             ],
             [
              0.8888888888888888,
              "#fdca26"
             ],
             [
              1,
              "#f0f921"
             ]
            ],
            "type": "heatmap"
           }
          ],
          "heatmapgl": [
           {
            "colorbar": {
             "outlinewidth": 0,
             "ticks": ""
            },
            "colorscale": [
             [
              0,
              "#0d0887"
             ],
             [
              0.1111111111111111,
              "#46039f"
             ],
             [
              0.2222222222222222,
              "#7201a8"
             ],
             [
              0.3333333333333333,
              "#9c179e"
             ],
             [
              0.4444444444444444,
              "#bd3786"
             ],
             [
              0.5555555555555556,
              "#d8576b"
             ],
             [
              0.6666666666666666,
              "#ed7953"
             ],
             [
              0.7777777777777778,
              "#fb9f3a"
             ],
             [
              0.8888888888888888,
              "#fdca26"
             ],
             [
              1,
              "#f0f921"
             ]
            ],
            "type": "heatmapgl"
           }
          ],
          "histogram": [
           {
            "marker": {
             "pattern": {
              "fillmode": "overlay",
              "size": 10,
              "solidity": 0.2
             }
            },
            "type": "histogram"
           }
          ],
          "histogram2d": [
           {
            "colorbar": {
             "outlinewidth": 0,
             "ticks": ""
            },
            "colorscale": [
             [
              0,
              "#0d0887"
             ],
             [
              0.1111111111111111,
              "#46039f"
             ],
             [
              0.2222222222222222,
              "#7201a8"
             ],
             [
              0.3333333333333333,
              "#9c179e"
             ],
             [
              0.4444444444444444,
              "#bd3786"
             ],
             [
              0.5555555555555556,
              "#d8576b"
             ],
             [
              0.6666666666666666,
              "#ed7953"
             ],
             [
              0.7777777777777778,
              "#fb9f3a"
             ],
             [
              0.8888888888888888,
              "#fdca26"
             ],
             [
              1,
              "#f0f921"
             ]
            ],
            "type": "histogram2d"
           }
          ],
          "histogram2dcontour": [
           {
            "colorbar": {
             "outlinewidth": 0,
             "ticks": ""
            },
            "colorscale": [
             [
              0,
              "#0d0887"
             ],
             [
              0.1111111111111111,
              "#46039f"
             ],
             [
              0.2222222222222222,
              "#7201a8"
             ],
             [
              0.3333333333333333,
              "#9c179e"
             ],
             [
              0.4444444444444444,
              "#bd3786"
             ],
             [
              0.5555555555555556,
              "#d8576b"
             ],
             [
              0.6666666666666666,
              "#ed7953"
             ],
             [
              0.7777777777777778,
              "#fb9f3a"
             ],
             [
              0.8888888888888888,
              "#fdca26"
             ],
             [
              1,
              "#f0f921"
             ]
            ],
            "type": "histogram2dcontour"
           }
          ],
          "mesh3d": [
           {
            "colorbar": {
             "outlinewidth": 0,
             "ticks": ""
            },
            "type": "mesh3d"
           }
          ],
          "parcoords": [
           {
            "line": {
             "colorbar": {
              "outlinewidth": 0,
              "ticks": ""
             }
            },
            "type": "parcoords"
           }
          ],
          "pie": [
           {
            "automargin": true,
            "type": "pie"
           }
          ],
          "scatter": [
           {
            "fillpattern": {
             "fillmode": "overlay",
             "size": 10,
             "solidity": 0.2
            },
            "type": "scatter"
           }
          ],
          "scatter3d": [
           {
            "line": {
             "colorbar": {
              "outlinewidth": 0,
              "ticks": ""
             }
            },
            "marker": {
             "colorbar": {
              "outlinewidth": 0,
              "ticks": ""
             }
            },
            "type": "scatter3d"
           }
          ],
          "scattercarpet": [
           {
            "marker": {
             "colorbar": {
              "outlinewidth": 0,
              "ticks": ""
             }
            },
            "type": "scattercarpet"
           }
          ],
          "scattergeo": [
           {
            "marker": {
             "colorbar": {
              "outlinewidth": 0,
              "ticks": ""
             }
            },
            "type": "scattergeo"
           }
          ],
          "scattergl": [
           {
            "marker": {
             "colorbar": {
              "outlinewidth": 0,
              "ticks": ""
             }
            },
            "type": "scattergl"
           }
          ],
          "scattermapbox": [
           {
            "marker": {
             "colorbar": {
              "outlinewidth": 0,
              "ticks": ""
             }
            },
            "type": "scattermapbox"
           }
          ],
          "scatterpolar": [
           {
            "marker": {
             "colorbar": {
              "outlinewidth": 0,
              "ticks": ""
             }
            },
            "type": "scatterpolar"
           }
          ],
          "scatterpolargl": [
           {
            "marker": {
             "colorbar": {
              "outlinewidth": 0,
              "ticks": ""
             }
            },
            "type": "scatterpolargl"
           }
          ],
          "scatterternary": [
           {
            "marker": {
             "colorbar": {
              "outlinewidth": 0,
              "ticks": ""
             }
            },
            "type": "scatterternary"
           }
          ],
          "surface": [
           {
            "colorbar": {
             "outlinewidth": 0,
             "ticks": ""
            },
            "colorscale": [
             [
              0,
              "#0d0887"
             ],
             [
              0.1111111111111111,
              "#46039f"
             ],
             [
              0.2222222222222222,
              "#7201a8"
             ],
             [
              0.3333333333333333,
              "#9c179e"
             ],
             [
              0.4444444444444444,
              "#bd3786"
             ],
             [
              0.5555555555555556,
              "#d8576b"
             ],
             [
              0.6666666666666666,
              "#ed7953"
             ],
             [
              0.7777777777777778,
              "#fb9f3a"
             ],
             [
              0.8888888888888888,
              "#fdca26"
             ],
             [
              1,
              "#f0f921"
             ]
            ],
            "type": "surface"
           }
          ],
          "table": [
           {
            "cells": {
             "fill": {
              "color": "#EBF0F8"
             },
             "line": {
              "color": "white"
             }
            },
            "header": {
             "fill": {
              "color": "#C8D4E3"
             },
             "line": {
              "color": "white"
             }
            },
            "type": "table"
           }
          ]
         },
         "layout": {
          "annotationdefaults": {
           "arrowcolor": "#2a3f5f",
           "arrowhead": 0,
           "arrowwidth": 1
          },
          "autotypenumbers": "strict",
          "coloraxis": {
           "colorbar": {
            "outlinewidth": 0,
            "ticks": ""
           }
          },
          "colorscale": {
           "diverging": [
            [
             0,
             "#8e0152"
            ],
            [
             0.1,
             "#c51b7d"
            ],
            [
             0.2,
             "#de77ae"
            ],
            [
             0.3,
             "#f1b6da"
            ],
            [
             0.4,
             "#fde0ef"
            ],
            [
             0.5,
             "#f7f7f7"
            ],
            [
             0.6,
             "#e6f5d0"
            ],
            [
             0.7,
             "#b8e186"
            ],
            [
             0.8,
             "#7fbc41"
            ],
            [
             0.9,
             "#4d9221"
            ],
            [
             1,
             "#276419"
            ]
           ],
           "sequential": [
            [
             0,
             "#0d0887"
            ],
            [
             0.1111111111111111,
             "#46039f"
            ],
            [
             0.2222222222222222,
             "#7201a8"
            ],
            [
             0.3333333333333333,
             "#9c179e"
            ],
            [
             0.4444444444444444,
             "#bd3786"
            ],
            [
             0.5555555555555556,
             "#d8576b"
            ],
            [
             0.6666666666666666,
             "#ed7953"
            ],
            [
             0.7777777777777778,
             "#fb9f3a"
            ],
            [
             0.8888888888888888,
             "#fdca26"
            ],
            [
             1,
             "#f0f921"
            ]
           ],
           "sequentialminus": [
            [
             0,
             "#0d0887"
            ],
            [
             0.1111111111111111,
             "#46039f"
            ],
            [
             0.2222222222222222,
             "#7201a8"
            ],
            [
             0.3333333333333333,
             "#9c179e"
            ],
            [
             0.4444444444444444,
             "#bd3786"
            ],
            [
             0.5555555555555556,
             "#d8576b"
            ],
            [
             0.6666666666666666,
             "#ed7953"
            ],
            [
             0.7777777777777778,
             "#fb9f3a"
            ],
            [
             0.8888888888888888,
             "#fdca26"
            ],
            [
             1,
             "#f0f921"
            ]
           ]
          },
          "colorway": [
           "#636efa",
           "#EF553B",
           "#00cc96",
           "#ab63fa",
           "#FFA15A",
           "#19d3f3",
           "#FF6692",
           "#B6E880",
           "#FF97FF",
           "#FECB52"
          ],
          "font": {
           "color": "#2a3f5f"
          },
          "geo": {
           "bgcolor": "white",
           "lakecolor": "white",
           "landcolor": "#E5ECF6",
           "showlakes": true,
           "showland": true,
           "subunitcolor": "white"
          },
          "hoverlabel": {
           "align": "left"
          },
          "hovermode": "closest",
          "mapbox": {
           "style": "light"
          },
          "paper_bgcolor": "white",
          "plot_bgcolor": "#E5ECF6",
          "polar": {
           "angularaxis": {
            "gridcolor": "white",
            "linecolor": "white",
            "ticks": ""
           },
           "bgcolor": "#E5ECF6",
           "radialaxis": {
            "gridcolor": "white",
            "linecolor": "white",
            "ticks": ""
           }
          },
          "scene": {
           "xaxis": {
            "backgroundcolor": "#E5ECF6",
            "gridcolor": "white",
            "gridwidth": 2,
            "linecolor": "white",
            "showbackground": true,
            "ticks": "",
            "zerolinecolor": "white"
           },
           "yaxis": {
            "backgroundcolor": "#E5ECF6",
            "gridcolor": "white",
            "gridwidth": 2,
            "linecolor": "white",
            "showbackground": true,
            "ticks": "",
            "zerolinecolor": "white"
           },
           "zaxis": {
            "backgroundcolor": "#E5ECF6",
            "gridcolor": "white",
            "gridwidth": 2,
            "linecolor": "white",
            "showbackground": true,
            "ticks": "",
            "zerolinecolor": "white"
           }
          },
          "shapedefaults": {
           "line": {
            "color": "#2a3f5f"
           }
          },
          "ternary": {
           "aaxis": {
            "gridcolor": "white",
            "linecolor": "white",
            "ticks": ""
           },
           "baxis": {
            "gridcolor": "white",
            "linecolor": "white",
            "ticks": ""
           },
           "bgcolor": "#E5ECF6",
           "caxis": {
            "gridcolor": "white",
            "linecolor": "white",
            "ticks": ""
           }
          },
          "title": {
           "x": 0.05
          },
          "xaxis": {
           "automargin": true,
           "gridcolor": "white",
           "linecolor": "white",
           "ticks": "",
           "title": {
            "standoff": 15
           },
           "zerolinecolor": "white",
           "zerolinewidth": 2
          },
          "yaxis": {
           "automargin": true,
           "gridcolor": "white",
           "linecolor": "white",
           "ticks": "",
           "title": {
            "standoff": 15
           },
           "zerolinecolor": "white",
           "zerolinewidth": 2
          }
         }
        },
        "yaxis": {
         "range": [
          0,
          1
         ]
        }
       }
      },
      "text/html": [
       "<div>                            <div id=\"871330a7-8a7e-49fe-9e90-34f7ec70e612\" class=\"plotly-graph-div\" style=\"height:525px; width:100%;\"></div>            <script type=\"text/javascript\">                require([\"plotly\"], function(Plotly) {                    window.PLOTLYENV=window.PLOTLYENV || {};                                    if (document.getElementById(\"871330a7-8a7e-49fe-9e90-34f7ec70e612\")) {                    Plotly.newPlot(                        \"871330a7-8a7e-49fe-9e90-34f7ec70e612\",                        [{\"mode\":\"lines+markers\",\"name\":\"Precision\",\"x\":[1,3,5,7,9,11,13,15,17,19,21],\"y\":[0.169,0.286,0.354,0.306,0.353,0.31,0.345,0.37,0.368,0.5,0.462],\"type\":\"scatter\"},{\"mode\":\"lines+markers\",\"name\":\"Recall\",\"x\":[1,3,5,7,9,11,13,15,17,19,21],\"y\":[0.155,0.186,0.175,0.113,0.124,0.093,0.103,0.103,0.072,0.082,0.062],\"type\":\"scatter\"},{\"mode\":\"lines+markers\",\"name\":\"F1\",\"x\":[1,3,5,7,9,11,13,15,17,19,21],\"y\":[0.161,0.225,0.234,0.165,0.183,0.143,0.159,0.161,0.121,0.142,0.109],\"type\":\"scatter\"},{\"mode\":\"lines+markers\",\"name\":\"Accuracy\",\"x\":[1,3,5,7,9,11,13,15,17,19,21],\"y\":[0.411,0.532,0.581,0.581,0.596,0.592,0.6,0.608,0.615,0.634,0.63],\"type\":\"scatter\"}],                        {\"template\":{\"data\":{\"histogram2dcontour\":[{\"type\":\"histogram2dcontour\",\"colorbar\":{\"outlinewidth\":0,\"ticks\":\"\"},\"colorscale\":[[0.0,\"#0d0887\"],[0.1111111111111111,\"#46039f\"],[0.2222222222222222,\"#7201a8\"],[0.3333333333333333,\"#9c179e\"],[0.4444444444444444,\"#bd3786\"],[0.5555555555555556,\"#d8576b\"],[0.6666666666666666,\"#ed7953\"],[0.7777777777777778,\"#fb9f3a\"],[0.8888888888888888,\"#fdca26\"],[1.0,\"#f0f921\"]]}],\"choropleth\":[{\"type\":\"choropleth\",\"colorbar\":{\"outlinewidth\":0,\"ticks\":\"\"}}],\"histogram2d\":[{\"type\":\"histogram2d\",\"colorbar\":{\"outlinewidth\":0,\"ticks\":\"\"},\"colorscale\":[[0.0,\"#0d0887\"],[0.1111111111111111,\"#46039f\"],[0.2222222222222222,\"#7201a8\"],[0.3333333333333333,\"#9c179e\"],[0.4444444444444444,\"#bd3786\"],[0.5555555555555556,\"#d8576b\"],[0.6666666666666666,\"#ed7953\"],[0.7777777777777778,\"#fb9f3a\"],[0.8888888888888888,\"#fdca26\"],[1.0,\"#f0f921\"]]}],\"heatmap\":[{\"type\":\"heatmap\",\"colorbar\":{\"outlinewidth\":0,\"ticks\":\"\"},\"colorscale\":[[0.0,\"#0d0887\"],[0.1111111111111111,\"#46039f\"],[0.2222222222222222,\"#7201a8\"],[0.3333333333333333,\"#9c179e\"],[0.4444444444444444,\"#bd3786\"],[0.5555555555555556,\"#d8576b\"],[0.6666666666666666,\"#ed7953\"],[0.7777777777777778,\"#fb9f3a\"],[0.8888888888888888,\"#fdca26\"],[1.0,\"#f0f921\"]]}],\"heatmapgl\":[{\"type\":\"heatmapgl\",\"colorbar\":{\"outlinewidth\":0,\"ticks\":\"\"},\"colorscale\":[[0.0,\"#0d0887\"],[0.1111111111111111,\"#46039f\"],[0.2222222222222222,\"#7201a8\"],[0.3333333333333333,\"#9c179e\"],[0.4444444444444444,\"#bd3786\"],[0.5555555555555556,\"#d8576b\"],[0.6666666666666666,\"#ed7953\"],[0.7777777777777778,\"#fb9f3a\"],[0.8888888888888888,\"#fdca26\"],[1.0,\"#f0f921\"]]}],\"contourcarpet\":[{\"type\":\"contourcarpet\",\"colorbar\":{\"outlinewidth\":0,\"ticks\":\"\"}}],\"contour\":[{\"type\":\"contour\",\"colorbar\":{\"outlinewidth\":0,\"ticks\":\"\"},\"colorscale\":[[0.0,\"#0d0887\"],[0.1111111111111111,\"#46039f\"],[0.2222222222222222,\"#7201a8\"],[0.3333333333333333,\"#9c179e\"],[0.4444444444444444,\"#bd3786\"],[0.5555555555555556,\"#d8576b\"],[0.6666666666666666,\"#ed7953\"],[0.7777777777777778,\"#fb9f3a\"],[0.8888888888888888,\"#fdca26\"],[1.0,\"#f0f921\"]]}],\"surface\":[{\"type\":\"surface\",\"colorbar\":{\"outlinewidth\":0,\"ticks\":\"\"},\"colorscale\":[[0.0,\"#0d0887\"],[0.1111111111111111,\"#46039f\"],[0.2222222222222222,\"#7201a8\"],[0.3333333333333333,\"#9c179e\"],[0.4444444444444444,\"#bd3786\"],[0.5555555555555556,\"#d8576b\"],[0.6666666666666666,\"#ed7953\"],[0.7777777777777778,\"#fb9f3a\"],[0.8888888888888888,\"#fdca26\"],[1.0,\"#f0f921\"]]}],\"mesh3d\":[{\"type\":\"mesh3d\",\"colorbar\":{\"outlinewidth\":0,\"ticks\":\"\"}}],\"scatter\":[{\"fillpattern\":{\"fillmode\":\"overlay\",\"size\":10,\"solidity\":0.2},\"type\":\"scatter\"}],\"parcoords\":[{\"type\":\"parcoords\",\"line\":{\"colorbar\":{\"outlinewidth\":0,\"ticks\":\"\"}}}],\"scatterpolargl\":[{\"type\":\"scatterpolargl\",\"marker\":{\"colorbar\":{\"outlinewidth\":0,\"ticks\":\"\"}}}],\"bar\":[{\"error_x\":{\"color\":\"#2a3f5f\"},\"error_y\":{\"color\":\"#2a3f5f\"},\"marker\":{\"line\":{\"color\":\"#E5ECF6\",\"width\":0.5},\"pattern\":{\"fillmode\":\"overlay\",\"size\":10,\"solidity\":0.2}},\"type\":\"bar\"}],\"scattergeo\":[{\"type\":\"scattergeo\",\"marker\":{\"colorbar\":{\"outlinewidth\":0,\"ticks\":\"\"}}}],\"scatterpolar\":[{\"type\":\"scatterpolar\",\"marker\":{\"colorbar\":{\"outlinewidth\":0,\"ticks\":\"\"}}}],\"histogram\":[{\"marker\":{\"pattern\":{\"fillmode\":\"overlay\",\"size\":10,\"solidity\":0.2}},\"type\":\"histogram\"}],\"scattergl\":[{\"type\":\"scattergl\",\"marker\":{\"colorbar\":{\"outlinewidth\":0,\"ticks\":\"\"}}}],\"scatter3d\":[{\"type\":\"scatter3d\",\"line\":{\"colorbar\":{\"outlinewidth\":0,\"ticks\":\"\"}},\"marker\":{\"colorbar\":{\"outlinewidth\":0,\"ticks\":\"\"}}}],\"scattermapbox\":[{\"type\":\"scattermapbox\",\"marker\":{\"colorbar\":{\"outlinewidth\":0,\"ticks\":\"\"}}}],\"scatterternary\":[{\"type\":\"scatterternary\",\"marker\":{\"colorbar\":{\"outlinewidth\":0,\"ticks\":\"\"}}}],\"scattercarpet\":[{\"type\":\"scattercarpet\",\"marker\":{\"colorbar\":{\"outlinewidth\":0,\"ticks\":\"\"}}}],\"carpet\":[{\"aaxis\":{\"endlinecolor\":\"#2a3f5f\",\"gridcolor\":\"white\",\"linecolor\":\"white\",\"minorgridcolor\":\"white\",\"startlinecolor\":\"#2a3f5f\"},\"baxis\":{\"endlinecolor\":\"#2a3f5f\",\"gridcolor\":\"white\",\"linecolor\":\"white\",\"minorgridcolor\":\"white\",\"startlinecolor\":\"#2a3f5f\"},\"type\":\"carpet\"}],\"table\":[{\"cells\":{\"fill\":{\"color\":\"#EBF0F8\"},\"line\":{\"color\":\"white\"}},\"header\":{\"fill\":{\"color\":\"#C8D4E3\"},\"line\":{\"color\":\"white\"}},\"type\":\"table\"}],\"barpolar\":[{\"marker\":{\"line\":{\"color\":\"#E5ECF6\",\"width\":0.5},\"pattern\":{\"fillmode\":\"overlay\",\"size\":10,\"solidity\":0.2}},\"type\":\"barpolar\"}],\"pie\":[{\"automargin\":true,\"type\":\"pie\"}]},\"layout\":{\"autotypenumbers\":\"strict\",\"colorway\":[\"#636efa\",\"#EF553B\",\"#00cc96\",\"#ab63fa\",\"#FFA15A\",\"#19d3f3\",\"#FF6692\",\"#B6E880\",\"#FF97FF\",\"#FECB52\"],\"font\":{\"color\":\"#2a3f5f\"},\"hovermode\":\"closest\",\"hoverlabel\":{\"align\":\"left\"},\"paper_bgcolor\":\"white\",\"plot_bgcolor\":\"#E5ECF6\",\"polar\":{\"bgcolor\":\"#E5ECF6\",\"angularaxis\":{\"gridcolor\":\"white\",\"linecolor\":\"white\",\"ticks\":\"\"},\"radialaxis\":{\"gridcolor\":\"white\",\"linecolor\":\"white\",\"ticks\":\"\"}},\"ternary\":{\"bgcolor\":\"#E5ECF6\",\"aaxis\":{\"gridcolor\":\"white\",\"linecolor\":\"white\",\"ticks\":\"\"},\"baxis\":{\"gridcolor\":\"white\",\"linecolor\":\"white\",\"ticks\":\"\"},\"caxis\":{\"gridcolor\":\"white\",\"linecolor\":\"white\",\"ticks\":\"\"}},\"coloraxis\":{\"colorbar\":{\"outlinewidth\":0,\"ticks\":\"\"}},\"colorscale\":{\"sequential\":[[0.0,\"#0d0887\"],[0.1111111111111111,\"#46039f\"],[0.2222222222222222,\"#7201a8\"],[0.3333333333333333,\"#9c179e\"],[0.4444444444444444,\"#bd3786\"],[0.5555555555555556,\"#d8576b\"],[0.6666666666666666,\"#ed7953\"],[0.7777777777777778,\"#fb9f3a\"],[0.8888888888888888,\"#fdca26\"],[1.0,\"#f0f921\"]],\"sequentialminus\":[[0.0,\"#0d0887\"],[0.1111111111111111,\"#46039f\"],[0.2222222222222222,\"#7201a8\"],[0.3333333333333333,\"#9c179e\"],[0.4444444444444444,\"#bd3786\"],[0.5555555555555556,\"#d8576b\"],[0.6666666666666666,\"#ed7953\"],[0.7777777777777778,\"#fb9f3a\"],[0.8888888888888888,\"#fdca26\"],[1.0,\"#f0f921\"]],\"diverging\":[[0,\"#8e0152\"],[0.1,\"#c51b7d\"],[0.2,\"#de77ae\"],[0.3,\"#f1b6da\"],[0.4,\"#fde0ef\"],[0.5,\"#f7f7f7\"],[0.6,\"#e6f5d0\"],[0.7,\"#b8e186\"],[0.8,\"#7fbc41\"],[0.9,\"#4d9221\"],[1,\"#276419\"]]},\"xaxis\":{\"gridcolor\":\"white\",\"linecolor\":\"white\",\"ticks\":\"\",\"title\":{\"standoff\":15},\"zerolinecolor\":\"white\",\"automargin\":true,\"zerolinewidth\":2},\"yaxis\":{\"gridcolor\":\"white\",\"linecolor\":\"white\",\"ticks\":\"\",\"title\":{\"standoff\":15},\"zerolinecolor\":\"white\",\"automargin\":true,\"zerolinewidth\":2},\"scene\":{\"xaxis\":{\"backgroundcolor\":\"#E5ECF6\",\"gridcolor\":\"white\",\"linecolor\":\"white\",\"showbackground\":true,\"ticks\":\"\",\"zerolinecolor\":\"white\",\"gridwidth\":2},\"yaxis\":{\"backgroundcolor\":\"#E5ECF6\",\"gridcolor\":\"white\",\"linecolor\":\"white\",\"showbackground\":true,\"ticks\":\"\",\"zerolinecolor\":\"white\",\"gridwidth\":2},\"zaxis\":{\"backgroundcolor\":\"#E5ECF6\",\"gridcolor\":\"white\",\"linecolor\":\"white\",\"showbackground\":true,\"ticks\":\"\",\"zerolinecolor\":\"white\",\"gridwidth\":2}},\"shapedefaults\":{\"line\":{\"color\":\"#2a3f5f\"}},\"annotationdefaults\":{\"arrowcolor\":\"#2a3f5f\",\"arrowhead\":0,\"arrowwidth\":1},\"geo\":{\"bgcolor\":\"white\",\"landcolor\":\"#E5ECF6\",\"subunitcolor\":\"white\",\"showland\":true,\"showlakes\":true,\"lakecolor\":\"white\"},\"title\":{\"x\":0.05},\"mapbox\":{\"style\":\"light\"}}},\"yaxis\":{\"range\":[0,1]}},                        {\"responsive\": true}                    ).then(function(){\n",
       "                            \n",
       "var gd = document.getElementById('871330a7-8a7e-49fe-9e90-34f7ec70e612');\n",
       "var x = new MutationObserver(function (mutations, observer) {{\n",
       "        var display = window.getComputedStyle(gd).display;\n",
       "        if (!display || display === 'none') {{\n",
       "            console.log([gd, 'removed!']);\n",
       "            Plotly.purge(gd);\n",
       "            observer.disconnect();\n",
       "        }}\n",
       "}});\n",
       "\n",
       "// Listen for the removal of the full notebook cells\n",
       "var notebookContainer = gd.closest('#notebook-container');\n",
       "if (notebookContainer) {{\n",
       "    x.observe(notebookContainer, {childList: true});\n",
       "}}\n",
       "\n",
       "// Listen for the clearing of the current output cell\n",
       "var outputEl = gd.closest('.output');\n",
       "if (outputEl) {{\n",
       "    x.observe(outputEl, {childList: true});\n",
       "}}\n",
       "\n",
       "                        })                };                });            </script>        </div>"
      ]
     },
     "metadata": {},
     "output_type": "display_data"
    }
   ],
   "source": [
    "knn_model_metrics= knn_performance_by_k(X_train,X_test,y_train,y_test,k_end=22)"
   ]
  },
  {
   "cell_type": "code",
   "execution_count": 147,
   "id": "89341aff",
   "metadata": {},
   "outputs": [],
   "source": [
    "# knn_model_metrics= knn_performance_by_k(X_train,X_test,y_train,y_test,k_end=40,k_interval=4)"
   ]
  },
  {
   "cell_type": "markdown",
   "id": "56b684b1",
   "metadata": {},
   "source": [
    ">**Decision:**<br>\n",
    "Based on the above results, we will set number of neighbors (k) to 19 as this is the lowest value of k at which we get **precision of 50% and accuracy of 63%. Since the accuracy is almost same as the naive baseline, we should not be using the kNN model for this dataset. However we will test on different probablity thresholds as well**<br>\n",
    "\n",
    ">**Re-run kNN using the value selected above:**<br>\n",
    "For this final run of kNN, we will produce a table of performance measures."
   ]
  },
  {
   "cell_type": "code",
   "execution_count": 148,
   "id": "e808e9fe",
   "metadata": {},
   "outputs": [
    {
     "data": {
      "text/html": [
       "<div>\n",
       "<style scoped>\n",
       "    .dataframe tbody tr th:only-of-type {\n",
       "        vertical-align: middle;\n",
       "    }\n",
       "\n",
       "    .dataframe tbody tr th {\n",
       "        vertical-align: top;\n",
       "    }\n",
       "\n",
       "    .dataframe thead th {\n",
       "        text-align: right;\n",
       "    }\n",
       "</style>\n",
       "<table border=\"1\" class=\"dataframe\">\n",
       "  <thead>\n",
       "    <tr style=\"text-align: right;\">\n",
       "      <th></th>\n",
       "      <th>threshold</th>\n",
       "      <th>TP</th>\n",
       "      <th>TN</th>\n",
       "      <th>FP</th>\n",
       "      <th>FN</th>\n",
       "      <th>Precision</th>\n",
       "      <th>Recall</th>\n",
       "      <th>F1</th>\n",
       "      <th>Accuracy</th>\n",
       "      <th>FP_rate</th>\n",
       "      <th>FN_rate</th>\n",
       "    </tr>\n",
       "  </thead>\n",
       "  <tbody>\n",
       "    <tr>\n",
       "      <th>0</th>\n",
       "      <td>0.0000</td>\n",
       "      <td>97</td>\n",
       "      <td>0</td>\n",
       "      <td>168</td>\n",
       "      <td>0</td>\n",
       "      <td>0.3660</td>\n",
       "      <td>1.0000</td>\n",
       "      <td>0.5360</td>\n",
       "      <td>0.3660</td>\n",
       "      <td>1.0000</td>\n",
       "      <td>0.0000</td>\n",
       "    </tr>\n",
       "    <tr>\n",
       "      <th>1</th>\n",
       "      <td>0.1000</td>\n",
       "      <td>97</td>\n",
       "      <td>2</td>\n",
       "      <td>166</td>\n",
       "      <td>0</td>\n",
       "      <td>0.3690</td>\n",
       "      <td>1.0000</td>\n",
       "      <td>0.5390</td>\n",
       "      <td>0.3740</td>\n",
       "      <td>0.9880</td>\n",
       "      <td>0.0000</td>\n",
       "    </tr>\n",
       "    <tr>\n",
       "      <th>2</th>\n",
       "      <td>0.2000</td>\n",
       "      <td>92</td>\n",
       "      <td>16</td>\n",
       "      <td>152</td>\n",
       "      <td>5</td>\n",
       "      <td>0.3770</td>\n",
       "      <td>0.9480</td>\n",
       "      <td>0.5400</td>\n",
       "      <td>0.4080</td>\n",
       "      <td>0.9050</td>\n",
       "      <td>0.0520</td>\n",
       "    </tr>\n",
       "    <tr>\n",
       "      <th>3</th>\n",
       "      <td>0.3000</td>\n",
       "      <td>72</td>\n",
       "      <td>61</td>\n",
       "      <td>107</td>\n",
       "      <td>25</td>\n",
       "      <td>0.4020</td>\n",
       "      <td>0.7420</td>\n",
       "      <td>0.5220</td>\n",
       "      <td>0.5020</td>\n",
       "      <td>0.6370</td>\n",
       "      <td>0.2580</td>\n",
       "    </tr>\n",
       "    <tr>\n",
       "      <th>4</th>\n",
       "      <td>0.4000</td>\n",
       "      <td>37</td>\n",
       "      <td>124</td>\n",
       "      <td>44</td>\n",
       "      <td>60</td>\n",
       "      <td>0.4570</td>\n",
       "      <td>0.3810</td>\n",
       "      <td>0.4160</td>\n",
       "      <td>0.6080</td>\n",
       "      <td>0.2620</td>\n",
       "      <td>0.6190</td>\n",
       "    </tr>\n",
       "    <tr>\n",
       "      <th>5</th>\n",
       "      <td>0.5000</td>\n",
       "      <td>8</td>\n",
       "      <td>160</td>\n",
       "      <td>8</td>\n",
       "      <td>89</td>\n",
       "      <td>0.5000</td>\n",
       "      <td>0.0820</td>\n",
       "      <td>0.1420</td>\n",
       "      <td>0.6340</td>\n",
       "      <td>0.0480</td>\n",
       "      <td>0.9180</td>\n",
       "    </tr>\n",
       "    <tr>\n",
       "      <th>6</th>\n",
       "      <td>0.6000</td>\n",
       "      <td>2</td>\n",
       "      <td>168</td>\n",
       "      <td>0</td>\n",
       "      <td>95</td>\n",
       "      <td>1.0000</td>\n",
       "      <td>0.0210</td>\n",
       "      <td>0.0400</td>\n",
       "      <td>0.6420</td>\n",
       "      <td>0.0000</td>\n",
       "      <td>0.9790</td>\n",
       "    </tr>\n",
       "    <tr>\n",
       "      <th>7</th>\n",
       "      <td>0.7000</td>\n",
       "      <td>0</td>\n",
       "      <td>168</td>\n",
       "      <td>0</td>\n",
       "      <td>97</td>\n",
       "      <td>0.0000</td>\n",
       "      <td>0.0000</td>\n",
       "      <td>0.0000</td>\n",
       "      <td>0.6340</td>\n",
       "      <td>0.0000</td>\n",
       "      <td>1.0000</td>\n",
       "    </tr>\n",
       "    <tr>\n",
       "      <th>8</th>\n",
       "      <td>0.8000</td>\n",
       "      <td>0</td>\n",
       "      <td>168</td>\n",
       "      <td>0</td>\n",
       "      <td>97</td>\n",
       "      <td>0.0000</td>\n",
       "      <td>0.0000</td>\n",
       "      <td>0.0000</td>\n",
       "      <td>0.6340</td>\n",
       "      <td>0.0000</td>\n",
       "      <td>1.0000</td>\n",
       "    </tr>\n",
       "    <tr>\n",
       "      <th>9</th>\n",
       "      <td>0.9000</td>\n",
       "      <td>0</td>\n",
       "      <td>168</td>\n",
       "      <td>0</td>\n",
       "      <td>97</td>\n",
       "      <td>0.0000</td>\n",
       "      <td>0.0000</td>\n",
       "      <td>0.0000</td>\n",
       "      <td>0.6340</td>\n",
       "      <td>0.0000</td>\n",
       "      <td>1.0000</td>\n",
       "    </tr>\n",
       "    <tr>\n",
       "      <th>10</th>\n",
       "      <td>1.0000</td>\n",
       "      <td>0</td>\n",
       "      <td>168</td>\n",
       "      <td>0</td>\n",
       "      <td>97</td>\n",
       "      <td>0.0000</td>\n",
       "      <td>0.0000</td>\n",
       "      <td>0.0000</td>\n",
       "      <td>0.6340</td>\n",
       "      <td>0.0000</td>\n",
       "      <td>1.0000</td>\n",
       "    </tr>\n",
       "  </tbody>\n",
       "</table>\n",
       "</div>"
      ],
      "text/plain": [
       "    threshold  TP   TN   FP  FN  Precision  Recall     F1  Accuracy  FP_rate  \\\n",
       "0      0.0000  97    0  168   0     0.3660  1.0000 0.5360    0.3660   1.0000   \n",
       "1      0.1000  97    2  166   0     0.3690  1.0000 0.5390    0.3740   0.9880   \n",
       "2      0.2000  92   16  152   5     0.3770  0.9480 0.5400    0.4080   0.9050   \n",
       "3      0.3000  72   61  107  25     0.4020  0.7420 0.5220    0.5020   0.6370   \n",
       "4      0.4000  37  124   44  60     0.4570  0.3810 0.4160    0.6080   0.2620   \n",
       "5      0.5000   8  160    8  89     0.5000  0.0820 0.1420    0.6340   0.0480   \n",
       "6      0.6000   2  168    0  95     1.0000  0.0210 0.0400    0.6420   0.0000   \n",
       "7      0.7000   0  168    0  97     0.0000  0.0000 0.0000    0.6340   0.0000   \n",
       "8      0.8000   0  168    0  97     0.0000  0.0000 0.0000    0.6340   0.0000   \n",
       "9      0.9000   0  168    0  97     0.0000  0.0000 0.0000    0.6340   0.0000   \n",
       "10     1.0000   0  168    0  97     0.0000  0.0000 0.0000    0.6340   0.0000   \n",
       "\n",
       "    FN_rate  \n",
       "0    0.0000  \n",
       "1    0.0000  \n",
       "2    0.0520  \n",
       "3    0.2580  \n",
       "4    0.6190  \n",
       "5    0.9180  \n",
       "6    0.9790  \n",
       "7    1.0000  \n",
       "8    1.0000  \n",
       "9    1.0000  \n",
       "10   1.0000  "
      ]
     },
     "metadata": {},
     "output_type": "display_data"
    },
    {
     "data": {
      "application/vnd.plotly.v1+json": {
       "config": {
        "plotlyServerURL": "https://plot.ly"
       },
       "data": [
        {
         "mode": "lines+markers",
         "name": "Precision",
         "type": "scatter",
         "x": [
          0,
          0.1,
          0.2,
          0.30000000000000004,
          0.4,
          0.5,
          0.6000000000000001,
          0.7000000000000001,
          0.8,
          0.9,
          1
         ],
         "y": [
          0.366,
          0.369,
          0.377,
          0.402,
          0.457,
          0.5,
          1,
          0,
          0,
          0,
          0
         ]
        },
        {
         "mode": "lines+markers",
         "name": "Recall",
         "type": "scatter",
         "x": [
          0,
          0.1,
          0.2,
          0.30000000000000004,
          0.4,
          0.5,
          0.6000000000000001,
          0.7000000000000001,
          0.8,
          0.9,
          1
         ],
         "y": [
          1,
          1,
          0.948,
          0.742,
          0.381,
          0.082,
          0.021,
          0,
          0,
          0,
          0
         ]
        },
        {
         "mode": "lines+markers",
         "name": "F1",
         "type": "scatter",
         "x": [
          0,
          0.1,
          0.2,
          0.30000000000000004,
          0.4,
          0.5,
          0.6000000000000001,
          0.7000000000000001,
          0.8,
          0.9,
          1
         ],
         "y": [
          0.536,
          0.539,
          0.54,
          0.522,
          0.416,
          0.142,
          0.04,
          0,
          0,
          0,
          0
         ]
        },
        {
         "mode": "lines+markers",
         "name": "Accuracy",
         "type": "scatter",
         "x": [
          0,
          0.1,
          0.2,
          0.30000000000000004,
          0.4,
          0.5,
          0.6000000000000001,
          0.7000000000000001,
          0.8,
          0.9,
          1
         ],
         "y": [
          0.366,
          0.374,
          0.408,
          0.502,
          0.608,
          0.634,
          0.642,
          0.634,
          0.634,
          0.634,
          0.634
         ]
        }
       ],
       "layout": {
        "template": {
         "data": {
          "bar": [
           {
            "error_x": {
             "color": "#2a3f5f"
            },
            "error_y": {
             "color": "#2a3f5f"
            },
            "marker": {
             "line": {
              "color": "#E5ECF6",
              "width": 0.5
             },
             "pattern": {
              "fillmode": "overlay",
              "size": 10,
              "solidity": 0.2
             }
            },
            "type": "bar"
           }
          ],
          "barpolar": [
           {
            "marker": {
             "line": {
              "color": "#E5ECF6",
              "width": 0.5
             },
             "pattern": {
              "fillmode": "overlay",
              "size": 10,
              "solidity": 0.2
             }
            },
            "type": "barpolar"
           }
          ],
          "carpet": [
           {
            "aaxis": {
             "endlinecolor": "#2a3f5f",
             "gridcolor": "white",
             "linecolor": "white",
             "minorgridcolor": "white",
             "startlinecolor": "#2a3f5f"
            },
            "baxis": {
             "endlinecolor": "#2a3f5f",
             "gridcolor": "white",
             "linecolor": "white",
             "minorgridcolor": "white",
             "startlinecolor": "#2a3f5f"
            },
            "type": "carpet"
           }
          ],
          "choropleth": [
           {
            "colorbar": {
             "outlinewidth": 0,
             "ticks": ""
            },
            "type": "choropleth"
           }
          ],
          "contour": [
           {
            "colorbar": {
             "outlinewidth": 0,
             "ticks": ""
            },
            "colorscale": [
             [
              0,
              "#0d0887"
             ],
             [
              0.1111111111111111,
              "#46039f"
             ],
             [
              0.2222222222222222,
              "#7201a8"
             ],
             [
              0.3333333333333333,
              "#9c179e"
             ],
             [
              0.4444444444444444,
              "#bd3786"
             ],
             [
              0.5555555555555556,
              "#d8576b"
             ],
             [
              0.6666666666666666,
              "#ed7953"
             ],
             [
              0.7777777777777778,
              "#fb9f3a"
             ],
             [
              0.8888888888888888,
              "#fdca26"
             ],
             [
              1,
              "#f0f921"
             ]
            ],
            "type": "contour"
           }
          ],
          "contourcarpet": [
           {
            "colorbar": {
             "outlinewidth": 0,
             "ticks": ""
            },
            "type": "contourcarpet"
           }
          ],
          "heatmap": [
           {
            "colorbar": {
             "outlinewidth": 0,
             "ticks": ""
            },
            "colorscale": [
             [
              0,
              "#0d0887"
             ],
             [
              0.1111111111111111,
              "#46039f"
             ],
             [
              0.2222222222222222,
              "#7201a8"
             ],
             [
              0.3333333333333333,
              "#9c179e"
             ],
             [
              0.4444444444444444,
              "#bd3786"
             ],
             [
              0.5555555555555556,
              "#d8576b"
             ],
             [
              0.6666666666666666,
              "#ed7953"
             ],
             [
              0.7777777777777778,
              "#fb9f3a"
             ],
             [
              0.8888888888888888,
              "#fdca26"
             ],
             [
              1,
              "#f0f921"
             ]
            ],
            "type": "heatmap"
           }
          ],
          "heatmapgl": [
           {
            "colorbar": {
             "outlinewidth": 0,
             "ticks": ""
            },
            "colorscale": [
             [
              0,
              "#0d0887"
             ],
             [
              0.1111111111111111,
              "#46039f"
             ],
             [
              0.2222222222222222,
              "#7201a8"
             ],
             [
              0.3333333333333333,
              "#9c179e"
             ],
             [
              0.4444444444444444,
              "#bd3786"
             ],
             [
              0.5555555555555556,
              "#d8576b"
             ],
             [
              0.6666666666666666,
              "#ed7953"
             ],
             [
              0.7777777777777778,
              "#fb9f3a"
             ],
             [
              0.8888888888888888,
              "#fdca26"
             ],
             [
              1,
              "#f0f921"
             ]
            ],
            "type": "heatmapgl"
           }
          ],
          "histogram": [
           {
            "marker": {
             "pattern": {
              "fillmode": "overlay",
              "size": 10,
              "solidity": 0.2
             }
            },
            "type": "histogram"
           }
          ],
          "histogram2d": [
           {
            "colorbar": {
             "outlinewidth": 0,
             "ticks": ""
            },
            "colorscale": [
             [
              0,
              "#0d0887"
             ],
             [
              0.1111111111111111,
              "#46039f"
             ],
             [
              0.2222222222222222,
              "#7201a8"
             ],
             [
              0.3333333333333333,
              "#9c179e"
             ],
             [
              0.4444444444444444,
              "#bd3786"
             ],
             [
              0.5555555555555556,
              "#d8576b"
             ],
             [
              0.6666666666666666,
              "#ed7953"
             ],
             [
              0.7777777777777778,
              "#fb9f3a"
             ],
             [
              0.8888888888888888,
              "#fdca26"
             ],
             [
              1,
              "#f0f921"
             ]
            ],
            "type": "histogram2d"
           }
          ],
          "histogram2dcontour": [
           {
            "colorbar": {
             "outlinewidth": 0,
             "ticks": ""
            },
            "colorscale": [
             [
              0,
              "#0d0887"
             ],
             [
              0.1111111111111111,
              "#46039f"
             ],
             [
              0.2222222222222222,
              "#7201a8"
             ],
             [
              0.3333333333333333,
              "#9c179e"
             ],
             [
              0.4444444444444444,
              "#bd3786"
             ],
             [
              0.5555555555555556,
              "#d8576b"
             ],
             [
              0.6666666666666666,
              "#ed7953"
             ],
             [
              0.7777777777777778,
              "#fb9f3a"
             ],
             [
              0.8888888888888888,
              "#fdca26"
             ],
             [
              1,
              "#f0f921"
             ]
            ],
            "type": "histogram2dcontour"
           }
          ],
          "mesh3d": [
           {
            "colorbar": {
             "outlinewidth": 0,
             "ticks": ""
            },
            "type": "mesh3d"
           }
          ],
          "parcoords": [
           {
            "line": {
             "colorbar": {
              "outlinewidth": 0,
              "ticks": ""
             }
            },
            "type": "parcoords"
           }
          ],
          "pie": [
           {
            "automargin": true,
            "type": "pie"
           }
          ],
          "scatter": [
           {
            "fillpattern": {
             "fillmode": "overlay",
             "size": 10,
             "solidity": 0.2
            },
            "type": "scatter"
           }
          ],
          "scatter3d": [
           {
            "line": {
             "colorbar": {
              "outlinewidth": 0,
              "ticks": ""
             }
            },
            "marker": {
             "colorbar": {
              "outlinewidth": 0,
              "ticks": ""
             }
            },
            "type": "scatter3d"
           }
          ],
          "scattercarpet": [
           {
            "marker": {
             "colorbar": {
              "outlinewidth": 0,
              "ticks": ""
             }
            },
            "type": "scattercarpet"
           }
          ],
          "scattergeo": [
           {
            "marker": {
             "colorbar": {
              "outlinewidth": 0,
              "ticks": ""
             }
            },
            "type": "scattergeo"
           }
          ],
          "scattergl": [
           {
            "marker": {
             "colorbar": {
              "outlinewidth": 0,
              "ticks": ""
             }
            },
            "type": "scattergl"
           }
          ],
          "scattermapbox": [
           {
            "marker": {
             "colorbar": {
              "outlinewidth": 0,
              "ticks": ""
             }
            },
            "type": "scattermapbox"
           }
          ],
          "scatterpolar": [
           {
            "marker": {
             "colorbar": {
              "outlinewidth": 0,
              "ticks": ""
             }
            },
            "type": "scatterpolar"
           }
          ],
          "scatterpolargl": [
           {
            "marker": {
             "colorbar": {
              "outlinewidth": 0,
              "ticks": ""
             }
            },
            "type": "scatterpolargl"
           }
          ],
          "scatterternary": [
           {
            "marker": {
             "colorbar": {
              "outlinewidth": 0,
              "ticks": ""
             }
            },
            "type": "scatterternary"
           }
          ],
          "surface": [
           {
            "colorbar": {
             "outlinewidth": 0,
             "ticks": ""
            },
            "colorscale": [
             [
              0,
              "#0d0887"
             ],
             [
              0.1111111111111111,
              "#46039f"
             ],
             [
              0.2222222222222222,
              "#7201a8"
             ],
             [
              0.3333333333333333,
              "#9c179e"
             ],
             [
              0.4444444444444444,
              "#bd3786"
             ],
             [
              0.5555555555555556,
              "#d8576b"
             ],
             [
              0.6666666666666666,
              "#ed7953"
             ],
             [
              0.7777777777777778,
              "#fb9f3a"
             ],
             [
              0.8888888888888888,
              "#fdca26"
             ],
             [
              1,
              "#f0f921"
             ]
            ],
            "type": "surface"
           }
          ],
          "table": [
           {
            "cells": {
             "fill": {
              "color": "#EBF0F8"
             },
             "line": {
              "color": "white"
             }
            },
            "header": {
             "fill": {
              "color": "#C8D4E3"
             },
             "line": {
              "color": "white"
             }
            },
            "type": "table"
           }
          ]
         },
         "layout": {
          "annotationdefaults": {
           "arrowcolor": "#2a3f5f",
           "arrowhead": 0,
           "arrowwidth": 1
          },
          "autotypenumbers": "strict",
          "coloraxis": {
           "colorbar": {
            "outlinewidth": 0,
            "ticks": ""
           }
          },
          "colorscale": {
           "diverging": [
            [
             0,
             "#8e0152"
            ],
            [
             0.1,
             "#c51b7d"
            ],
            [
             0.2,
             "#de77ae"
            ],
            [
             0.3,
             "#f1b6da"
            ],
            [
             0.4,
             "#fde0ef"
            ],
            [
             0.5,
             "#f7f7f7"
            ],
            [
             0.6,
             "#e6f5d0"
            ],
            [
             0.7,
             "#b8e186"
            ],
            [
             0.8,
             "#7fbc41"
            ],
            [
             0.9,
             "#4d9221"
            ],
            [
             1,
             "#276419"
            ]
           ],
           "sequential": [
            [
             0,
             "#0d0887"
            ],
            [
             0.1111111111111111,
             "#46039f"
            ],
            [
             0.2222222222222222,
             "#7201a8"
            ],
            [
             0.3333333333333333,
             "#9c179e"
            ],
            [
             0.4444444444444444,
             "#bd3786"
            ],
            [
             0.5555555555555556,
             "#d8576b"
            ],
            [
             0.6666666666666666,
             "#ed7953"
            ],
            [
             0.7777777777777778,
             "#fb9f3a"
            ],
            [
             0.8888888888888888,
             "#fdca26"
            ],
            [
             1,
             "#f0f921"
            ]
           ],
           "sequentialminus": [
            [
             0,
             "#0d0887"
            ],
            [
             0.1111111111111111,
             "#46039f"
            ],
            [
             0.2222222222222222,
             "#7201a8"
            ],
            [
             0.3333333333333333,
             "#9c179e"
            ],
            [
             0.4444444444444444,
             "#bd3786"
            ],
            [
             0.5555555555555556,
             "#d8576b"
            ],
            [
             0.6666666666666666,
             "#ed7953"
            ],
            [
             0.7777777777777778,
             "#fb9f3a"
            ],
            [
             0.8888888888888888,
             "#fdca26"
            ],
            [
             1,
             "#f0f921"
            ]
           ]
          },
          "colorway": [
           "#636efa",
           "#EF553B",
           "#00cc96",
           "#ab63fa",
           "#FFA15A",
           "#19d3f3",
           "#FF6692",
           "#B6E880",
           "#FF97FF",
           "#FECB52"
          ],
          "font": {
           "color": "#2a3f5f"
          },
          "geo": {
           "bgcolor": "white",
           "lakecolor": "white",
           "landcolor": "#E5ECF6",
           "showlakes": true,
           "showland": true,
           "subunitcolor": "white"
          },
          "hoverlabel": {
           "align": "left"
          },
          "hovermode": "closest",
          "mapbox": {
           "style": "light"
          },
          "paper_bgcolor": "white",
          "plot_bgcolor": "#E5ECF6",
          "polar": {
           "angularaxis": {
            "gridcolor": "white",
            "linecolor": "white",
            "ticks": ""
           },
           "bgcolor": "#E5ECF6",
           "radialaxis": {
            "gridcolor": "white",
            "linecolor": "white",
            "ticks": ""
           }
          },
          "scene": {
           "xaxis": {
            "backgroundcolor": "#E5ECF6",
            "gridcolor": "white",
            "gridwidth": 2,
            "linecolor": "white",
            "showbackground": true,
            "ticks": "",
            "zerolinecolor": "white"
           },
           "yaxis": {
            "backgroundcolor": "#E5ECF6",
            "gridcolor": "white",
            "gridwidth": 2,
            "linecolor": "white",
            "showbackground": true,
            "ticks": "",
            "zerolinecolor": "white"
           },
           "zaxis": {
            "backgroundcolor": "#E5ECF6",
            "gridcolor": "white",
            "gridwidth": 2,
            "linecolor": "white",
            "showbackground": true,
            "ticks": "",
            "zerolinecolor": "white"
           }
          },
          "shapedefaults": {
           "line": {
            "color": "#2a3f5f"
           }
          },
          "ternary": {
           "aaxis": {
            "gridcolor": "white",
            "linecolor": "white",
            "ticks": ""
           },
           "baxis": {
            "gridcolor": "white",
            "linecolor": "white",
            "ticks": ""
           },
           "bgcolor": "#E5ECF6",
           "caxis": {
            "gridcolor": "white",
            "linecolor": "white",
            "ticks": ""
           }
          },
          "title": {
           "x": 0.05
          },
          "xaxis": {
           "automargin": true,
           "gridcolor": "white",
           "linecolor": "white",
           "ticks": "",
           "title": {
            "standoff": 15
           },
           "zerolinecolor": "white",
           "zerolinewidth": 2
          },
          "yaxis": {
           "automargin": true,
           "gridcolor": "white",
           "linecolor": "white",
           "ticks": "",
           "title": {
            "standoff": 15
           },
           "zerolinecolor": "white",
           "zerolinewidth": 2
          }
         }
        },
        "yaxis": {
         "range": [
          0,
          1
         ]
        }
       }
      },
      "text/html": [
       "<div>                            <div id=\"8bfc6313-0f1e-434b-b389-a1eedcc4523e\" class=\"plotly-graph-div\" style=\"height:525px; width:100%;\"></div>            <script type=\"text/javascript\">                require([\"plotly\"], function(Plotly) {                    window.PLOTLYENV=window.PLOTLYENV || {};                                    if (document.getElementById(\"8bfc6313-0f1e-434b-b389-a1eedcc4523e\")) {                    Plotly.newPlot(                        \"8bfc6313-0f1e-434b-b389-a1eedcc4523e\",                        [{\"mode\":\"lines+markers\",\"name\":\"Precision\",\"x\":[0.0,0.1,0.2,0.30000000000000004,0.4,0.5,0.6000000000000001,0.7000000000000001,0.8,0.9,1.0],\"y\":[0.366,0.369,0.377,0.402,0.457,0.5,1.0,0.0,0.0,0.0,0.0],\"type\":\"scatter\"},{\"mode\":\"lines+markers\",\"name\":\"Recall\",\"x\":[0.0,0.1,0.2,0.30000000000000004,0.4,0.5,0.6000000000000001,0.7000000000000001,0.8,0.9,1.0],\"y\":[1.0,1.0,0.948,0.742,0.381,0.082,0.021,0.0,0.0,0.0,0.0],\"type\":\"scatter\"},{\"mode\":\"lines+markers\",\"name\":\"F1\",\"x\":[0.0,0.1,0.2,0.30000000000000004,0.4,0.5,0.6000000000000001,0.7000000000000001,0.8,0.9,1.0],\"y\":[0.536,0.539,0.54,0.522,0.416,0.142,0.04,0.0,0.0,0.0,0.0],\"type\":\"scatter\"},{\"mode\":\"lines+markers\",\"name\":\"Accuracy\",\"x\":[0.0,0.1,0.2,0.30000000000000004,0.4,0.5,0.6000000000000001,0.7000000000000001,0.8,0.9,1.0],\"y\":[0.366,0.374,0.408,0.502,0.608,0.634,0.642,0.634,0.634,0.634,0.634],\"type\":\"scatter\"}],                        {\"template\":{\"data\":{\"histogram2dcontour\":[{\"type\":\"histogram2dcontour\",\"colorbar\":{\"outlinewidth\":0,\"ticks\":\"\"},\"colorscale\":[[0.0,\"#0d0887\"],[0.1111111111111111,\"#46039f\"],[0.2222222222222222,\"#7201a8\"],[0.3333333333333333,\"#9c179e\"],[0.4444444444444444,\"#bd3786\"],[0.5555555555555556,\"#d8576b\"],[0.6666666666666666,\"#ed7953\"],[0.7777777777777778,\"#fb9f3a\"],[0.8888888888888888,\"#fdca26\"],[1.0,\"#f0f921\"]]}],\"choropleth\":[{\"type\":\"choropleth\",\"colorbar\":{\"outlinewidth\":0,\"ticks\":\"\"}}],\"histogram2d\":[{\"type\":\"histogram2d\",\"colorbar\":{\"outlinewidth\":0,\"ticks\":\"\"},\"colorscale\":[[0.0,\"#0d0887\"],[0.1111111111111111,\"#46039f\"],[0.2222222222222222,\"#7201a8\"],[0.3333333333333333,\"#9c179e\"],[0.4444444444444444,\"#bd3786\"],[0.5555555555555556,\"#d8576b\"],[0.6666666666666666,\"#ed7953\"],[0.7777777777777778,\"#fb9f3a\"],[0.8888888888888888,\"#fdca26\"],[1.0,\"#f0f921\"]]}],\"heatmap\":[{\"type\":\"heatmap\",\"colorbar\":{\"outlinewidth\":0,\"ticks\":\"\"},\"colorscale\":[[0.0,\"#0d0887\"],[0.1111111111111111,\"#46039f\"],[0.2222222222222222,\"#7201a8\"],[0.3333333333333333,\"#9c179e\"],[0.4444444444444444,\"#bd3786\"],[0.5555555555555556,\"#d8576b\"],[0.6666666666666666,\"#ed7953\"],[0.7777777777777778,\"#fb9f3a\"],[0.8888888888888888,\"#fdca26\"],[1.0,\"#f0f921\"]]}],\"heatmapgl\":[{\"type\":\"heatmapgl\",\"colorbar\":{\"outlinewidth\":0,\"ticks\":\"\"},\"colorscale\":[[0.0,\"#0d0887\"],[0.1111111111111111,\"#46039f\"],[0.2222222222222222,\"#7201a8\"],[0.3333333333333333,\"#9c179e\"],[0.4444444444444444,\"#bd3786\"],[0.5555555555555556,\"#d8576b\"],[0.6666666666666666,\"#ed7953\"],[0.7777777777777778,\"#fb9f3a\"],[0.8888888888888888,\"#fdca26\"],[1.0,\"#f0f921\"]]}],\"contourcarpet\":[{\"type\":\"contourcarpet\",\"colorbar\":{\"outlinewidth\":0,\"ticks\":\"\"}}],\"contour\":[{\"type\":\"contour\",\"colorbar\":{\"outlinewidth\":0,\"ticks\":\"\"},\"colorscale\":[[0.0,\"#0d0887\"],[0.1111111111111111,\"#46039f\"],[0.2222222222222222,\"#7201a8\"],[0.3333333333333333,\"#9c179e\"],[0.4444444444444444,\"#bd3786\"],[0.5555555555555556,\"#d8576b\"],[0.6666666666666666,\"#ed7953\"],[0.7777777777777778,\"#fb9f3a\"],[0.8888888888888888,\"#fdca26\"],[1.0,\"#f0f921\"]]}],\"surface\":[{\"type\":\"surface\",\"colorbar\":{\"outlinewidth\":0,\"ticks\":\"\"},\"colorscale\":[[0.0,\"#0d0887\"],[0.1111111111111111,\"#46039f\"],[0.2222222222222222,\"#7201a8\"],[0.3333333333333333,\"#9c179e\"],[0.4444444444444444,\"#bd3786\"],[0.5555555555555556,\"#d8576b\"],[0.6666666666666666,\"#ed7953\"],[0.7777777777777778,\"#fb9f3a\"],[0.8888888888888888,\"#fdca26\"],[1.0,\"#f0f921\"]]}],\"mesh3d\":[{\"type\":\"mesh3d\",\"colorbar\":{\"outlinewidth\":0,\"ticks\":\"\"}}],\"scatter\":[{\"fillpattern\":{\"fillmode\":\"overlay\",\"size\":10,\"solidity\":0.2},\"type\":\"scatter\"}],\"parcoords\":[{\"type\":\"parcoords\",\"line\":{\"colorbar\":{\"outlinewidth\":0,\"ticks\":\"\"}}}],\"scatterpolargl\":[{\"type\":\"scatterpolargl\",\"marker\":{\"colorbar\":{\"outlinewidth\":0,\"ticks\":\"\"}}}],\"bar\":[{\"error_x\":{\"color\":\"#2a3f5f\"},\"error_y\":{\"color\":\"#2a3f5f\"},\"marker\":{\"line\":{\"color\":\"#E5ECF6\",\"width\":0.5},\"pattern\":{\"fillmode\":\"overlay\",\"size\":10,\"solidity\":0.2}},\"type\":\"bar\"}],\"scattergeo\":[{\"type\":\"scattergeo\",\"marker\":{\"colorbar\":{\"outlinewidth\":0,\"ticks\":\"\"}}}],\"scatterpolar\":[{\"type\":\"scatterpolar\",\"marker\":{\"colorbar\":{\"outlinewidth\":0,\"ticks\":\"\"}}}],\"histogram\":[{\"marker\":{\"pattern\":{\"fillmode\":\"overlay\",\"size\":10,\"solidity\":0.2}},\"type\":\"histogram\"}],\"scattergl\":[{\"type\":\"scattergl\",\"marker\":{\"colorbar\":{\"outlinewidth\":0,\"ticks\":\"\"}}}],\"scatter3d\":[{\"type\":\"scatter3d\",\"line\":{\"colorbar\":{\"outlinewidth\":0,\"ticks\":\"\"}},\"marker\":{\"colorbar\":{\"outlinewidth\":0,\"ticks\":\"\"}}}],\"scattermapbox\":[{\"type\":\"scattermapbox\",\"marker\":{\"colorbar\":{\"outlinewidth\":0,\"ticks\":\"\"}}}],\"scatterternary\":[{\"type\":\"scatterternary\",\"marker\":{\"colorbar\":{\"outlinewidth\":0,\"ticks\":\"\"}}}],\"scattercarpet\":[{\"type\":\"scattercarpet\",\"marker\":{\"colorbar\":{\"outlinewidth\":0,\"ticks\":\"\"}}}],\"carpet\":[{\"aaxis\":{\"endlinecolor\":\"#2a3f5f\",\"gridcolor\":\"white\",\"linecolor\":\"white\",\"minorgridcolor\":\"white\",\"startlinecolor\":\"#2a3f5f\"},\"baxis\":{\"endlinecolor\":\"#2a3f5f\",\"gridcolor\":\"white\",\"linecolor\":\"white\",\"minorgridcolor\":\"white\",\"startlinecolor\":\"#2a3f5f\"},\"type\":\"carpet\"}],\"table\":[{\"cells\":{\"fill\":{\"color\":\"#EBF0F8\"},\"line\":{\"color\":\"white\"}},\"header\":{\"fill\":{\"color\":\"#C8D4E3\"},\"line\":{\"color\":\"white\"}},\"type\":\"table\"}],\"barpolar\":[{\"marker\":{\"line\":{\"color\":\"#E5ECF6\",\"width\":0.5},\"pattern\":{\"fillmode\":\"overlay\",\"size\":10,\"solidity\":0.2}},\"type\":\"barpolar\"}],\"pie\":[{\"automargin\":true,\"type\":\"pie\"}]},\"layout\":{\"autotypenumbers\":\"strict\",\"colorway\":[\"#636efa\",\"#EF553B\",\"#00cc96\",\"#ab63fa\",\"#FFA15A\",\"#19d3f3\",\"#FF6692\",\"#B6E880\",\"#FF97FF\",\"#FECB52\"],\"font\":{\"color\":\"#2a3f5f\"},\"hovermode\":\"closest\",\"hoverlabel\":{\"align\":\"left\"},\"paper_bgcolor\":\"white\",\"plot_bgcolor\":\"#E5ECF6\",\"polar\":{\"bgcolor\":\"#E5ECF6\",\"angularaxis\":{\"gridcolor\":\"white\",\"linecolor\":\"white\",\"ticks\":\"\"},\"radialaxis\":{\"gridcolor\":\"white\",\"linecolor\":\"white\",\"ticks\":\"\"}},\"ternary\":{\"bgcolor\":\"#E5ECF6\",\"aaxis\":{\"gridcolor\":\"white\",\"linecolor\":\"white\",\"ticks\":\"\"},\"baxis\":{\"gridcolor\":\"white\",\"linecolor\":\"white\",\"ticks\":\"\"},\"caxis\":{\"gridcolor\":\"white\",\"linecolor\":\"white\",\"ticks\":\"\"}},\"coloraxis\":{\"colorbar\":{\"outlinewidth\":0,\"ticks\":\"\"}},\"colorscale\":{\"sequential\":[[0.0,\"#0d0887\"],[0.1111111111111111,\"#46039f\"],[0.2222222222222222,\"#7201a8\"],[0.3333333333333333,\"#9c179e\"],[0.4444444444444444,\"#bd3786\"],[0.5555555555555556,\"#d8576b\"],[0.6666666666666666,\"#ed7953\"],[0.7777777777777778,\"#fb9f3a\"],[0.8888888888888888,\"#fdca26\"],[1.0,\"#f0f921\"]],\"sequentialminus\":[[0.0,\"#0d0887\"],[0.1111111111111111,\"#46039f\"],[0.2222222222222222,\"#7201a8\"],[0.3333333333333333,\"#9c179e\"],[0.4444444444444444,\"#bd3786\"],[0.5555555555555556,\"#d8576b\"],[0.6666666666666666,\"#ed7953\"],[0.7777777777777778,\"#fb9f3a\"],[0.8888888888888888,\"#fdca26\"],[1.0,\"#f0f921\"]],\"diverging\":[[0,\"#8e0152\"],[0.1,\"#c51b7d\"],[0.2,\"#de77ae\"],[0.3,\"#f1b6da\"],[0.4,\"#fde0ef\"],[0.5,\"#f7f7f7\"],[0.6,\"#e6f5d0\"],[0.7,\"#b8e186\"],[0.8,\"#7fbc41\"],[0.9,\"#4d9221\"],[1,\"#276419\"]]},\"xaxis\":{\"gridcolor\":\"white\",\"linecolor\":\"white\",\"ticks\":\"\",\"title\":{\"standoff\":15},\"zerolinecolor\":\"white\",\"automargin\":true,\"zerolinewidth\":2},\"yaxis\":{\"gridcolor\":\"white\",\"linecolor\":\"white\",\"ticks\":\"\",\"title\":{\"standoff\":15},\"zerolinecolor\":\"white\",\"automargin\":true,\"zerolinewidth\":2},\"scene\":{\"xaxis\":{\"backgroundcolor\":\"#E5ECF6\",\"gridcolor\":\"white\",\"linecolor\":\"white\",\"showbackground\":true,\"ticks\":\"\",\"zerolinecolor\":\"white\",\"gridwidth\":2},\"yaxis\":{\"backgroundcolor\":\"#E5ECF6\",\"gridcolor\":\"white\",\"linecolor\":\"white\",\"showbackground\":true,\"ticks\":\"\",\"zerolinecolor\":\"white\",\"gridwidth\":2},\"zaxis\":{\"backgroundcolor\":\"#E5ECF6\",\"gridcolor\":\"white\",\"linecolor\":\"white\",\"showbackground\":true,\"ticks\":\"\",\"zerolinecolor\":\"white\",\"gridwidth\":2}},\"shapedefaults\":{\"line\":{\"color\":\"#2a3f5f\"}},\"annotationdefaults\":{\"arrowcolor\":\"#2a3f5f\",\"arrowhead\":0,\"arrowwidth\":1},\"geo\":{\"bgcolor\":\"white\",\"landcolor\":\"#E5ECF6\",\"subunitcolor\":\"white\",\"showland\":true,\"showlakes\":true,\"lakecolor\":\"white\"},\"title\":{\"x\":0.05},\"mapbox\":{\"style\":\"light\"}}},\"yaxis\":{\"range\":[0,1]}},                        {\"responsive\": true}                    ).then(function(){\n",
       "                            \n",
       "var gd = document.getElementById('8bfc6313-0f1e-434b-b389-a1eedcc4523e');\n",
       "var x = new MutationObserver(function (mutations, observer) {{\n",
       "        var display = window.getComputedStyle(gd).display;\n",
       "        if (!display || display === 'none') {{\n",
       "            console.log([gd, 'removed!']);\n",
       "            Plotly.purge(gd);\n",
       "            observer.disconnect();\n",
       "        }}\n",
       "}});\n",
       "\n",
       "// Listen for the removal of the full notebook cells\n",
       "var notebookContainer = gd.closest('#notebook-container');\n",
       "if (notebookContainer) {{\n",
       "    x.observe(notebookContainer, {childList: true});\n",
       "}}\n",
       "\n",
       "// Listen for the clearing of the current output cell\n",
       "var outputEl = gd.closest('.output');\n",
       "if (outputEl) {{\n",
       "    x.observe(outputEl, {childList: true});\n",
       "}}\n",
       "\n",
       "                        })                };                });            </script>        </div>"
      ]
     },
     "metadata": {},
     "output_type": "display_data"
    }
   ],
   "source": [
    "%%capture --no-display \n",
    "# above line is to avoid warning message due to division by 0\n",
    "\n",
    "knn_model = KNeighborsClassifier(n_neighbors=19)\n",
    "knn_model.fit(X_train,y_train.values.ravel())\n",
    "\n",
    "knn_model_metrics= train_test_metrics_classification(knn_model,X_test,y_test)"
   ]
  },
  {
   "cell_type": "markdown",
   "id": "41f65204",
   "metadata": {},
   "source": [
    "> **Optimal value of threshold for kNN (k=19) model** <br>\n",
    ">> - **At any probability threshold, the model's accuracy is no better than the naive baseline.** <br>\n",
    ">> - Model's performance is at 0.4 probability threshold is better than other thresholds. We get the accuracy of 60% and precision of 46% at 0.4 level of probability threshold\n",
    ">> - We cannot select a threshold lower than 0.5, as it increases the False positive rate by 30%. \n",
    ">> - We cannot select a higher threshold, as it increases the False negative rate to 100% and such a high False negative rate will reduce the customer experience."
   ]
  },
  {
   "cell_type": "code",
   "execution_count": 149,
   "id": "fe00fb31",
   "metadata": {},
   "outputs": [
    {
     "name": "stdout",
     "output_type": "stream",
     "text": [
      "Training data Accuracy:  0.68\n",
      "Testing data Accuracy: 0.61\n"
     ]
    }
   ],
   "source": [
    "y_train_pred_class = (knn_model.predict_proba(X_train)[:,1] >= 0.4).astype(int) # knn_model.predict(X_train)\n",
    "y_test_pred_class = (knn_model.predict_proba(X_test)[:,1] >= 0.4).astype(int)\n",
    "\n",
    "print('Training data Accuracy: ', metrics.accuracy_score(y_train,y_train_pred_class).round(2))\n",
    "print('Testing data Accuracy:', metrics.accuracy_score(y_test,y_test_pred_class).round(2))"
   ]
  },
  {
   "cell_type": "markdown",
   "id": "3770b5a5",
   "metadata": {},
   "source": [
    "> - Model is working at the same efficiency on training and testing dataset. Thus there is no sign of overfitting or underfitting\n",
    "> - Model is not able to predict the flight delay better than manual calculation of 65%"
   ]
  },
  {
   "cell_type": "markdown",
   "id": "0292c38c",
   "metadata": {},
   "source": [
    "### 6.3. Model 2 - Logistic Regression Model <a class=\"anchor\" id=\"second-model\"></a>\n",
    "\n",
    "Predict the target variable using Logistic regression model\n",
    "\n",
    "* [Go to Machine Learning](#ml-model)\n",
    "* [Go to Top](#table-of-content)"
   ]
  },
  {
   "cell_type": "code",
   "execution_count": 150,
   "id": "02d798a2",
   "metadata": {},
   "outputs": [
    {
     "data": {
      "text/html": [
       "<style>#sk-container-id-3 {color: black;background-color: white;}#sk-container-id-3 pre{padding: 0;}#sk-container-id-3 div.sk-toggleable {background-color: white;}#sk-container-id-3 label.sk-toggleable__label {cursor: pointer;display: block;width: 100%;margin-bottom: 0;padding: 0.3em;box-sizing: border-box;text-align: center;}#sk-container-id-3 label.sk-toggleable__label-arrow:before {content: \"▸\";float: left;margin-right: 0.25em;color: #696969;}#sk-container-id-3 label.sk-toggleable__label-arrow:hover:before {color: black;}#sk-container-id-3 div.sk-estimator:hover label.sk-toggleable__label-arrow:before {color: black;}#sk-container-id-3 div.sk-toggleable__content {max-height: 0;max-width: 0;overflow: hidden;text-align: left;background-color: #f0f8ff;}#sk-container-id-3 div.sk-toggleable__content pre {margin: 0.2em;color: black;border-radius: 0.25em;background-color: #f0f8ff;}#sk-container-id-3 input.sk-toggleable__control:checked~div.sk-toggleable__content {max-height: 200px;max-width: 100%;overflow: auto;}#sk-container-id-3 input.sk-toggleable__control:checked~label.sk-toggleable__label-arrow:before {content: \"▾\";}#sk-container-id-3 div.sk-estimator input.sk-toggleable__control:checked~label.sk-toggleable__label {background-color: #d4ebff;}#sk-container-id-3 div.sk-label input.sk-toggleable__control:checked~label.sk-toggleable__label {background-color: #d4ebff;}#sk-container-id-3 input.sk-hidden--visually {border: 0;clip: rect(1px 1px 1px 1px);clip: rect(1px, 1px, 1px, 1px);height: 1px;margin: -1px;overflow: hidden;padding: 0;position: absolute;width: 1px;}#sk-container-id-3 div.sk-estimator {font-family: monospace;background-color: #f0f8ff;border: 1px dotted black;border-radius: 0.25em;box-sizing: border-box;margin-bottom: 0.5em;}#sk-container-id-3 div.sk-estimator:hover {background-color: #d4ebff;}#sk-container-id-3 div.sk-parallel-item::after {content: \"\";width: 100%;border-bottom: 1px solid gray;flex-grow: 1;}#sk-container-id-3 div.sk-label:hover label.sk-toggleable__label {background-color: #d4ebff;}#sk-container-id-3 div.sk-serial::before {content: \"\";position: absolute;border-left: 1px solid gray;box-sizing: border-box;top: 0;bottom: 0;left: 50%;z-index: 0;}#sk-container-id-3 div.sk-serial {display: flex;flex-direction: column;align-items: center;background-color: white;padding-right: 0.2em;padding-left: 0.2em;position: relative;}#sk-container-id-3 div.sk-item {position: relative;z-index: 1;}#sk-container-id-3 div.sk-parallel {display: flex;align-items: stretch;justify-content: center;background-color: white;position: relative;}#sk-container-id-3 div.sk-item::before, #sk-container-id-3 div.sk-parallel-item::before {content: \"\";position: absolute;border-left: 1px solid gray;box-sizing: border-box;top: 0;bottom: 0;left: 50%;z-index: -1;}#sk-container-id-3 div.sk-parallel-item {display: flex;flex-direction: column;z-index: 1;position: relative;background-color: white;}#sk-container-id-3 div.sk-parallel-item:first-child::after {align-self: flex-end;width: 50%;}#sk-container-id-3 div.sk-parallel-item:last-child::after {align-self: flex-start;width: 50%;}#sk-container-id-3 div.sk-parallel-item:only-child::after {width: 0;}#sk-container-id-3 div.sk-dashed-wrapped {border: 1px dashed gray;margin: 0 0.4em 0.5em 0.4em;box-sizing: border-box;padding-bottom: 0.4em;background-color: white;}#sk-container-id-3 div.sk-label label {font-family: monospace;font-weight: bold;display: inline-block;line-height: 1.2em;}#sk-container-id-3 div.sk-label-container {text-align: center;}#sk-container-id-3 div.sk-container {/* jupyter's `normalize.less` sets `[hidden] { display: none; }` but bootstrap.min.css set `[hidden] { display: none !important; }` so we also need the `!important` here to be able to override the default hidden behavior on the sphinx rendered scikit-learn.org. See: https://github.com/scikit-learn/scikit-learn/issues/21755 */display: inline-block !important;position: relative;}#sk-container-id-3 div.sk-text-repr-fallback {display: none;}</style><div id=\"sk-container-id-3\" class=\"sk-top-container\"><div class=\"sk-text-repr-fallback\"><pre>LogisticRegression()</pre><b>In a Jupyter environment, please rerun this cell to show the HTML representation or trust the notebook. <br />On GitHub, the HTML representation is unable to render, please try loading this page with nbviewer.org.</b></div><div class=\"sk-container\" hidden><div class=\"sk-item\"><div class=\"sk-estimator sk-toggleable\"><input class=\"sk-toggleable__control sk-hidden--visually\" id=\"sk-estimator-id-3\" type=\"checkbox\" checked><label for=\"sk-estimator-id-3\" class=\"sk-toggleable__label sk-toggleable__label-arrow\">LogisticRegression</label><div class=\"sk-toggleable__content\"><pre>LogisticRegression()</pre></div></div></div></div></div>"
      ],
      "text/plain": [
       "LogisticRegression()"
      ]
     },
     "execution_count": 150,
     "metadata": {},
     "output_type": "execute_result"
    }
   ],
   "source": [
    "lr_model = LogisticRegression()\n",
    "lr_model.fit(X_train,y_train.values.ravel())"
   ]
  },
  {
   "cell_type": "code",
   "execution_count": 151,
   "id": "c4b8a5ef",
   "metadata": {},
   "outputs": [
    {
     "name": "stdout",
     "output_type": "stream",
     "text": [
      "Training data Accuracy: 0.69\n",
      "Testing data Accuracy: 0.66\n"
     ]
    }
   ],
   "source": [
    "y_train_pred_class = lr_model.predict(X_train)\n",
    "y_test_pred_class = lr_model.predict(X_test)\n",
    "\n",
    "print('Training data Accuracy:', metrics.accuracy_score(y_train,y_train_pred_class).round(2))\n",
    "print('Testing data Accuracy:', metrics.accuracy_score(y_test,y_test_pred_class).round(2))"
   ]
  },
  {
   "cell_type": "markdown",
   "id": "91067397",
   "metadata": {},
   "source": [
    "> **Logistic Regression Model**\n",
    "> 1. calculate performance metrics for multiple values of threshold\n",
    "> 2. Choose the best value of threshold based on accuracy and Precision"
   ]
  },
  {
   "cell_type": "code",
   "execution_count": 152,
   "id": "0e0bfa6b",
   "metadata": {},
   "outputs": [
    {
     "data": {
      "text/html": [
       "<div>\n",
       "<style scoped>\n",
       "    .dataframe tbody tr th:only-of-type {\n",
       "        vertical-align: middle;\n",
       "    }\n",
       "\n",
       "    .dataframe tbody tr th {\n",
       "        vertical-align: top;\n",
       "    }\n",
       "\n",
       "    .dataframe thead th {\n",
       "        text-align: right;\n",
       "    }\n",
       "</style>\n",
       "<table border=\"1\" class=\"dataframe\">\n",
       "  <thead>\n",
       "    <tr style=\"text-align: right;\">\n",
       "      <th></th>\n",
       "      <th>threshold</th>\n",
       "      <th>TP</th>\n",
       "      <th>TN</th>\n",
       "      <th>FP</th>\n",
       "      <th>FN</th>\n",
       "      <th>Precision</th>\n",
       "      <th>Recall</th>\n",
       "      <th>F1</th>\n",
       "      <th>Accuracy</th>\n",
       "      <th>FP_rate</th>\n",
       "      <th>FN_rate</th>\n",
       "    </tr>\n",
       "  </thead>\n",
       "  <tbody>\n",
       "    <tr>\n",
       "      <th>0</th>\n",
       "      <td>0.0000</td>\n",
       "      <td>97</td>\n",
       "      <td>0</td>\n",
       "      <td>168</td>\n",
       "      <td>0</td>\n",
       "      <td>0.3660</td>\n",
       "      <td>1.0000</td>\n",
       "      <td>0.5360</td>\n",
       "      <td>0.3660</td>\n",
       "      <td>1.0000</td>\n",
       "      <td>0.0000</td>\n",
       "    </tr>\n",
       "    <tr>\n",
       "      <th>1</th>\n",
       "      <td>0.1000</td>\n",
       "      <td>97</td>\n",
       "      <td>0</td>\n",
       "      <td>168</td>\n",
       "      <td>0</td>\n",
       "      <td>0.3660</td>\n",
       "      <td>1.0000</td>\n",
       "      <td>0.5360</td>\n",
       "      <td>0.3660</td>\n",
       "      <td>1.0000</td>\n",
       "      <td>0.0000</td>\n",
       "    </tr>\n",
       "    <tr>\n",
       "      <th>2</th>\n",
       "      <td>0.2000</td>\n",
       "      <td>91</td>\n",
       "      <td>19</td>\n",
       "      <td>149</td>\n",
       "      <td>6</td>\n",
       "      <td>0.3790</td>\n",
       "      <td>0.9380</td>\n",
       "      <td>0.5400</td>\n",
       "      <td>0.4150</td>\n",
       "      <td>0.8870</td>\n",
       "      <td>0.0620</td>\n",
       "    </tr>\n",
       "    <tr>\n",
       "      <th>3</th>\n",
       "      <td>0.3000</td>\n",
       "      <td>70</td>\n",
       "      <td>84</td>\n",
       "      <td>84</td>\n",
       "      <td>27</td>\n",
       "      <td>0.4550</td>\n",
       "      <td>0.7220</td>\n",
       "      <td>0.5580</td>\n",
       "      <td>0.5810</td>\n",
       "      <td>0.5000</td>\n",
       "      <td>0.2780</td>\n",
       "    </tr>\n",
       "    <tr>\n",
       "      <th>4</th>\n",
       "      <td>0.4000</td>\n",
       "      <td>29</td>\n",
       "      <td>135</td>\n",
       "      <td>33</td>\n",
       "      <td>68</td>\n",
       "      <td>0.4680</td>\n",
       "      <td>0.2990</td>\n",
       "      <td>0.3650</td>\n",
       "      <td>0.6190</td>\n",
       "      <td>0.1960</td>\n",
       "      <td>0.7010</td>\n",
       "    </tr>\n",
       "    <tr>\n",
       "      <th>5</th>\n",
       "      <td>0.5000</td>\n",
       "      <td>8</td>\n",
       "      <td>166</td>\n",
       "      <td>2</td>\n",
       "      <td>89</td>\n",
       "      <td>0.8000</td>\n",
       "      <td>0.0820</td>\n",
       "      <td>0.1500</td>\n",
       "      <td>0.6570</td>\n",
       "      <td>0.0120</td>\n",
       "      <td>0.9180</td>\n",
       "    </tr>\n",
       "    <tr>\n",
       "      <th>6</th>\n",
       "      <td>0.6000</td>\n",
       "      <td>7</td>\n",
       "      <td>168</td>\n",
       "      <td>0</td>\n",
       "      <td>90</td>\n",
       "      <td>1.0000</td>\n",
       "      <td>0.0720</td>\n",
       "      <td>0.1350</td>\n",
       "      <td>0.6600</td>\n",
       "      <td>0.0000</td>\n",
       "      <td>0.9280</td>\n",
       "    </tr>\n",
       "    <tr>\n",
       "      <th>7</th>\n",
       "      <td>0.7000</td>\n",
       "      <td>7</td>\n",
       "      <td>168</td>\n",
       "      <td>0</td>\n",
       "      <td>90</td>\n",
       "      <td>1.0000</td>\n",
       "      <td>0.0720</td>\n",
       "      <td>0.1350</td>\n",
       "      <td>0.6600</td>\n",
       "      <td>0.0000</td>\n",
       "      <td>0.9280</td>\n",
       "    </tr>\n",
       "    <tr>\n",
       "      <th>8</th>\n",
       "      <td>0.8000</td>\n",
       "      <td>7</td>\n",
       "      <td>168</td>\n",
       "      <td>0</td>\n",
       "      <td>90</td>\n",
       "      <td>1.0000</td>\n",
       "      <td>0.0720</td>\n",
       "      <td>0.1350</td>\n",
       "      <td>0.6600</td>\n",
       "      <td>0.0000</td>\n",
       "      <td>0.9280</td>\n",
       "    </tr>\n",
       "    <tr>\n",
       "      <th>9</th>\n",
       "      <td>0.9000</td>\n",
       "      <td>2</td>\n",
       "      <td>168</td>\n",
       "      <td>0</td>\n",
       "      <td>95</td>\n",
       "      <td>1.0000</td>\n",
       "      <td>0.0210</td>\n",
       "      <td>0.0400</td>\n",
       "      <td>0.6420</td>\n",
       "      <td>0.0000</td>\n",
       "      <td>0.9790</td>\n",
       "    </tr>\n",
       "    <tr>\n",
       "      <th>10</th>\n",
       "      <td>1.0000</td>\n",
       "      <td>0</td>\n",
       "      <td>168</td>\n",
       "      <td>0</td>\n",
       "      <td>97</td>\n",
       "      <td>0.0000</td>\n",
       "      <td>0.0000</td>\n",
       "      <td>0.0000</td>\n",
       "      <td>0.6340</td>\n",
       "      <td>0.0000</td>\n",
       "      <td>1.0000</td>\n",
       "    </tr>\n",
       "  </tbody>\n",
       "</table>\n",
       "</div>"
      ],
      "text/plain": [
       "    threshold  TP   TN   FP  FN  Precision  Recall     F1  Accuracy  FP_rate  \\\n",
       "0      0.0000  97    0  168   0     0.3660  1.0000 0.5360    0.3660   1.0000   \n",
       "1      0.1000  97    0  168   0     0.3660  1.0000 0.5360    0.3660   1.0000   \n",
       "2      0.2000  91   19  149   6     0.3790  0.9380 0.5400    0.4150   0.8870   \n",
       "3      0.3000  70   84   84  27     0.4550  0.7220 0.5580    0.5810   0.5000   \n",
       "4      0.4000  29  135   33  68     0.4680  0.2990 0.3650    0.6190   0.1960   \n",
       "5      0.5000   8  166    2  89     0.8000  0.0820 0.1500    0.6570   0.0120   \n",
       "6      0.6000   7  168    0  90     1.0000  0.0720 0.1350    0.6600   0.0000   \n",
       "7      0.7000   7  168    0  90     1.0000  0.0720 0.1350    0.6600   0.0000   \n",
       "8      0.8000   7  168    0  90     1.0000  0.0720 0.1350    0.6600   0.0000   \n",
       "9      0.9000   2  168    0  95     1.0000  0.0210 0.0400    0.6420   0.0000   \n",
       "10     1.0000   0  168    0  97     0.0000  0.0000 0.0000    0.6340   0.0000   \n",
       "\n",
       "    FN_rate  \n",
       "0    0.0000  \n",
       "1    0.0000  \n",
       "2    0.0620  \n",
       "3    0.2780  \n",
       "4    0.7010  \n",
       "5    0.9180  \n",
       "6    0.9280  \n",
       "7    0.9280  \n",
       "8    0.9280  \n",
       "9    0.9790  \n",
       "10   1.0000  "
      ]
     },
     "metadata": {},
     "output_type": "display_data"
    },
    {
     "data": {
      "application/vnd.plotly.v1+json": {
       "config": {
        "plotlyServerURL": "https://plot.ly"
       },
       "data": [
        {
         "mode": "lines+markers",
         "name": "Precision",
         "type": "scatter",
         "x": [
          0,
          0.1,
          0.2,
          0.30000000000000004,
          0.4,
          0.5,
          0.6000000000000001,
          0.7000000000000001,
          0.8,
          0.9,
          1
         ],
         "y": [
          0.366,
          0.366,
          0.379,
          0.455,
          0.468,
          0.8,
          1,
          1,
          1,
          1,
          0
         ]
        },
        {
         "mode": "lines+markers",
         "name": "Recall",
         "type": "scatter",
         "x": [
          0,
          0.1,
          0.2,
          0.30000000000000004,
          0.4,
          0.5,
          0.6000000000000001,
          0.7000000000000001,
          0.8,
          0.9,
          1
         ],
         "y": [
          1,
          1,
          0.938,
          0.722,
          0.299,
          0.082,
          0.072,
          0.072,
          0.072,
          0.021,
          0
         ]
        },
        {
         "mode": "lines+markers",
         "name": "F1",
         "type": "scatter",
         "x": [
          0,
          0.1,
          0.2,
          0.30000000000000004,
          0.4,
          0.5,
          0.6000000000000001,
          0.7000000000000001,
          0.8,
          0.9,
          1
         ],
         "y": [
          0.536,
          0.536,
          0.54,
          0.558,
          0.365,
          0.15,
          0.135,
          0.135,
          0.135,
          0.04,
          0
         ]
        },
        {
         "mode": "lines+markers",
         "name": "Accuracy",
         "type": "scatter",
         "x": [
          0,
          0.1,
          0.2,
          0.30000000000000004,
          0.4,
          0.5,
          0.6000000000000001,
          0.7000000000000001,
          0.8,
          0.9,
          1
         ],
         "y": [
          0.366,
          0.366,
          0.415,
          0.581,
          0.619,
          0.657,
          0.66,
          0.66,
          0.66,
          0.642,
          0.634
         ]
        }
       ],
       "layout": {
        "template": {
         "data": {
          "bar": [
           {
            "error_x": {
             "color": "#2a3f5f"
            },
            "error_y": {
             "color": "#2a3f5f"
            },
            "marker": {
             "line": {
              "color": "#E5ECF6",
              "width": 0.5
             },
             "pattern": {
              "fillmode": "overlay",
              "size": 10,
              "solidity": 0.2
             }
            },
            "type": "bar"
           }
          ],
          "barpolar": [
           {
            "marker": {
             "line": {
              "color": "#E5ECF6",
              "width": 0.5
             },
             "pattern": {
              "fillmode": "overlay",
              "size": 10,
              "solidity": 0.2
             }
            },
            "type": "barpolar"
           }
          ],
          "carpet": [
           {
            "aaxis": {
             "endlinecolor": "#2a3f5f",
             "gridcolor": "white",
             "linecolor": "white",
             "minorgridcolor": "white",
             "startlinecolor": "#2a3f5f"
            },
            "baxis": {
             "endlinecolor": "#2a3f5f",
             "gridcolor": "white",
             "linecolor": "white",
             "minorgridcolor": "white",
             "startlinecolor": "#2a3f5f"
            },
            "type": "carpet"
           }
          ],
          "choropleth": [
           {
            "colorbar": {
             "outlinewidth": 0,
             "ticks": ""
            },
            "type": "choropleth"
           }
          ],
          "contour": [
           {
            "colorbar": {
             "outlinewidth": 0,
             "ticks": ""
            },
            "colorscale": [
             [
              0,
              "#0d0887"
             ],
             [
              0.1111111111111111,
              "#46039f"
             ],
             [
              0.2222222222222222,
              "#7201a8"
             ],
             [
              0.3333333333333333,
              "#9c179e"
             ],
             [
              0.4444444444444444,
              "#bd3786"
             ],
             [
              0.5555555555555556,
              "#d8576b"
             ],
             [
              0.6666666666666666,
              "#ed7953"
             ],
             [
              0.7777777777777778,
              "#fb9f3a"
             ],
             [
              0.8888888888888888,
              "#fdca26"
             ],
             [
              1,
              "#f0f921"
             ]
            ],
            "type": "contour"
           }
          ],
          "contourcarpet": [
           {
            "colorbar": {
             "outlinewidth": 0,
             "ticks": ""
            },
            "type": "contourcarpet"
           }
          ],
          "heatmap": [
           {
            "colorbar": {
             "outlinewidth": 0,
             "ticks": ""
            },
            "colorscale": [
             [
              0,
              "#0d0887"
             ],
             [
              0.1111111111111111,
              "#46039f"
             ],
             [
              0.2222222222222222,
              "#7201a8"
             ],
             [
              0.3333333333333333,
              "#9c179e"
             ],
             [
              0.4444444444444444,
              "#bd3786"
             ],
             [
              0.5555555555555556,
              "#d8576b"
             ],
             [
              0.6666666666666666,
              "#ed7953"
             ],
             [
              0.7777777777777778,
              "#fb9f3a"
             ],
             [
              0.8888888888888888,
              "#fdca26"
             ],
             [
              1,
              "#f0f921"
             ]
            ],
            "type": "heatmap"
           }
          ],
          "heatmapgl": [
           {
            "colorbar": {
             "outlinewidth": 0,
             "ticks": ""
            },
            "colorscale": [
             [
              0,
              "#0d0887"
             ],
             [
              0.1111111111111111,
              "#46039f"
             ],
             [
              0.2222222222222222,
              "#7201a8"
             ],
             [
              0.3333333333333333,
              "#9c179e"
             ],
             [
              0.4444444444444444,
              "#bd3786"
             ],
             [
              0.5555555555555556,
              "#d8576b"
             ],
             [
              0.6666666666666666,
              "#ed7953"
             ],
             [
              0.7777777777777778,
              "#fb9f3a"
             ],
             [
              0.8888888888888888,
              "#fdca26"
             ],
             [
              1,
              "#f0f921"
             ]
            ],
            "type": "heatmapgl"
           }
          ],
          "histogram": [
           {
            "marker": {
             "pattern": {
              "fillmode": "overlay",
              "size": 10,
              "solidity": 0.2
             }
            },
            "type": "histogram"
           }
          ],
          "histogram2d": [
           {
            "colorbar": {
             "outlinewidth": 0,
             "ticks": ""
            },
            "colorscale": [
             [
              0,
              "#0d0887"
             ],
             [
              0.1111111111111111,
              "#46039f"
             ],
             [
              0.2222222222222222,
              "#7201a8"
             ],
             [
              0.3333333333333333,
              "#9c179e"
             ],
             [
              0.4444444444444444,
              "#bd3786"
             ],
             [
              0.5555555555555556,
              "#d8576b"
             ],
             [
              0.6666666666666666,
              "#ed7953"
             ],
             [
              0.7777777777777778,
              "#fb9f3a"
             ],
             [
              0.8888888888888888,
              "#fdca26"
             ],
             [
              1,
              "#f0f921"
             ]
            ],
            "type": "histogram2d"
           }
          ],
          "histogram2dcontour": [
           {
            "colorbar": {
             "outlinewidth": 0,
             "ticks": ""
            },
            "colorscale": [
             [
              0,
              "#0d0887"
             ],
             [
              0.1111111111111111,
              "#46039f"
             ],
             [
              0.2222222222222222,
              "#7201a8"
             ],
             [
              0.3333333333333333,
              "#9c179e"
             ],
             [
              0.4444444444444444,
              "#bd3786"
             ],
             [
              0.5555555555555556,
              "#d8576b"
             ],
             [
              0.6666666666666666,
              "#ed7953"
             ],
             [
              0.7777777777777778,
              "#fb9f3a"
             ],
             [
              0.8888888888888888,
              "#fdca26"
             ],
             [
              1,
              "#f0f921"
             ]
            ],
            "type": "histogram2dcontour"
           }
          ],
          "mesh3d": [
           {
            "colorbar": {
             "outlinewidth": 0,
             "ticks": ""
            },
            "type": "mesh3d"
           }
          ],
          "parcoords": [
           {
            "line": {
             "colorbar": {
              "outlinewidth": 0,
              "ticks": ""
             }
            },
            "type": "parcoords"
           }
          ],
          "pie": [
           {
            "automargin": true,
            "type": "pie"
           }
          ],
          "scatter": [
           {
            "fillpattern": {
             "fillmode": "overlay",
             "size": 10,
             "solidity": 0.2
            },
            "type": "scatter"
           }
          ],
          "scatter3d": [
           {
            "line": {
             "colorbar": {
              "outlinewidth": 0,
              "ticks": ""
             }
            },
            "marker": {
             "colorbar": {
              "outlinewidth": 0,
              "ticks": ""
             }
            },
            "type": "scatter3d"
           }
          ],
          "scattercarpet": [
           {
            "marker": {
             "colorbar": {
              "outlinewidth": 0,
              "ticks": ""
             }
            },
            "type": "scattercarpet"
           }
          ],
          "scattergeo": [
           {
            "marker": {
             "colorbar": {
              "outlinewidth": 0,
              "ticks": ""
             }
            },
            "type": "scattergeo"
           }
          ],
          "scattergl": [
           {
            "marker": {
             "colorbar": {
              "outlinewidth": 0,
              "ticks": ""
             }
            },
            "type": "scattergl"
           }
          ],
          "scattermapbox": [
           {
            "marker": {
             "colorbar": {
              "outlinewidth": 0,
              "ticks": ""
             }
            },
            "type": "scattermapbox"
           }
          ],
          "scatterpolar": [
           {
            "marker": {
             "colorbar": {
              "outlinewidth": 0,
              "ticks": ""
             }
            },
            "type": "scatterpolar"
           }
          ],
          "scatterpolargl": [
           {
            "marker": {
             "colorbar": {
              "outlinewidth": 0,
              "ticks": ""
             }
            },
            "type": "scatterpolargl"
           }
          ],
          "scatterternary": [
           {
            "marker": {
             "colorbar": {
              "outlinewidth": 0,
              "ticks": ""
             }
            },
            "type": "scatterternary"
           }
          ],
          "surface": [
           {
            "colorbar": {
             "outlinewidth": 0,
             "ticks": ""
            },
            "colorscale": [
             [
              0,
              "#0d0887"
             ],
             [
              0.1111111111111111,
              "#46039f"
             ],
             [
              0.2222222222222222,
              "#7201a8"
             ],
             [
              0.3333333333333333,
              "#9c179e"
             ],
             [
              0.4444444444444444,
              "#bd3786"
             ],
             [
              0.5555555555555556,
              "#d8576b"
             ],
             [
              0.6666666666666666,
              "#ed7953"
             ],
             [
              0.7777777777777778,
              "#fb9f3a"
             ],
             [
              0.8888888888888888,
              "#fdca26"
             ],
             [
              1,
              "#f0f921"
             ]
            ],
            "type": "surface"
           }
          ],
          "table": [
           {
            "cells": {
             "fill": {
              "color": "#EBF0F8"
             },
             "line": {
              "color": "white"
             }
            },
            "header": {
             "fill": {
              "color": "#C8D4E3"
             },
             "line": {
              "color": "white"
             }
            },
            "type": "table"
           }
          ]
         },
         "layout": {
          "annotationdefaults": {
           "arrowcolor": "#2a3f5f",
           "arrowhead": 0,
           "arrowwidth": 1
          },
          "autotypenumbers": "strict",
          "coloraxis": {
           "colorbar": {
            "outlinewidth": 0,
            "ticks": ""
           }
          },
          "colorscale": {
           "diverging": [
            [
             0,
             "#8e0152"
            ],
            [
             0.1,
             "#c51b7d"
            ],
            [
             0.2,
             "#de77ae"
            ],
            [
             0.3,
             "#f1b6da"
            ],
            [
             0.4,
             "#fde0ef"
            ],
            [
             0.5,
             "#f7f7f7"
            ],
            [
             0.6,
             "#e6f5d0"
            ],
            [
             0.7,
             "#b8e186"
            ],
            [
             0.8,
             "#7fbc41"
            ],
            [
             0.9,
             "#4d9221"
            ],
            [
             1,
             "#276419"
            ]
           ],
           "sequential": [
            [
             0,
             "#0d0887"
            ],
            [
             0.1111111111111111,
             "#46039f"
            ],
            [
             0.2222222222222222,
             "#7201a8"
            ],
            [
             0.3333333333333333,
             "#9c179e"
            ],
            [
             0.4444444444444444,
             "#bd3786"
            ],
            [
             0.5555555555555556,
             "#d8576b"
            ],
            [
             0.6666666666666666,
             "#ed7953"
            ],
            [
             0.7777777777777778,
             "#fb9f3a"
            ],
            [
             0.8888888888888888,
             "#fdca26"
            ],
            [
             1,
             "#f0f921"
            ]
           ],
           "sequentialminus": [
            [
             0,
             "#0d0887"
            ],
            [
             0.1111111111111111,
             "#46039f"
            ],
            [
             0.2222222222222222,
             "#7201a8"
            ],
            [
             0.3333333333333333,
             "#9c179e"
            ],
            [
             0.4444444444444444,
             "#bd3786"
            ],
            [
             0.5555555555555556,
             "#d8576b"
            ],
            [
             0.6666666666666666,
             "#ed7953"
            ],
            [
             0.7777777777777778,
             "#fb9f3a"
            ],
            [
             0.8888888888888888,
             "#fdca26"
            ],
            [
             1,
             "#f0f921"
            ]
           ]
          },
          "colorway": [
           "#636efa",
           "#EF553B",
           "#00cc96",
           "#ab63fa",
           "#FFA15A",
           "#19d3f3",
           "#FF6692",
           "#B6E880",
           "#FF97FF",
           "#FECB52"
          ],
          "font": {
           "color": "#2a3f5f"
          },
          "geo": {
           "bgcolor": "white",
           "lakecolor": "white",
           "landcolor": "#E5ECF6",
           "showlakes": true,
           "showland": true,
           "subunitcolor": "white"
          },
          "hoverlabel": {
           "align": "left"
          },
          "hovermode": "closest",
          "mapbox": {
           "style": "light"
          },
          "paper_bgcolor": "white",
          "plot_bgcolor": "#E5ECF6",
          "polar": {
           "angularaxis": {
            "gridcolor": "white",
            "linecolor": "white",
            "ticks": ""
           },
           "bgcolor": "#E5ECF6",
           "radialaxis": {
            "gridcolor": "white",
            "linecolor": "white",
            "ticks": ""
           }
          },
          "scene": {
           "xaxis": {
            "backgroundcolor": "#E5ECF6",
            "gridcolor": "white",
            "gridwidth": 2,
            "linecolor": "white",
            "showbackground": true,
            "ticks": "",
            "zerolinecolor": "white"
           },
           "yaxis": {
            "backgroundcolor": "#E5ECF6",
            "gridcolor": "white",
            "gridwidth": 2,
            "linecolor": "white",
            "showbackground": true,
            "ticks": "",
            "zerolinecolor": "white"
           },
           "zaxis": {
            "backgroundcolor": "#E5ECF6",
            "gridcolor": "white",
            "gridwidth": 2,
            "linecolor": "white",
            "showbackground": true,
            "ticks": "",
            "zerolinecolor": "white"
           }
          },
          "shapedefaults": {
           "line": {
            "color": "#2a3f5f"
           }
          },
          "ternary": {
           "aaxis": {
            "gridcolor": "white",
            "linecolor": "white",
            "ticks": ""
           },
           "baxis": {
            "gridcolor": "white",
            "linecolor": "white",
            "ticks": ""
           },
           "bgcolor": "#E5ECF6",
           "caxis": {
            "gridcolor": "white",
            "linecolor": "white",
            "ticks": ""
           }
          },
          "title": {
           "x": 0.05
          },
          "xaxis": {
           "automargin": true,
           "gridcolor": "white",
           "linecolor": "white",
           "ticks": "",
           "title": {
            "standoff": 15
           },
           "zerolinecolor": "white",
           "zerolinewidth": 2
          },
          "yaxis": {
           "automargin": true,
           "gridcolor": "white",
           "linecolor": "white",
           "ticks": "",
           "title": {
            "standoff": 15
           },
           "zerolinecolor": "white",
           "zerolinewidth": 2
          }
         }
        },
        "yaxis": {
         "range": [
          0,
          1
         ]
        }
       }
      },
      "text/html": [
       "<div>                            <div id=\"a4fdf50f-2019-4f83-bc48-93e8156cfd0d\" class=\"plotly-graph-div\" style=\"height:525px; width:100%;\"></div>            <script type=\"text/javascript\">                require([\"plotly\"], function(Plotly) {                    window.PLOTLYENV=window.PLOTLYENV || {};                                    if (document.getElementById(\"a4fdf50f-2019-4f83-bc48-93e8156cfd0d\")) {                    Plotly.newPlot(                        \"a4fdf50f-2019-4f83-bc48-93e8156cfd0d\",                        [{\"mode\":\"lines+markers\",\"name\":\"Precision\",\"x\":[0.0,0.1,0.2,0.30000000000000004,0.4,0.5,0.6000000000000001,0.7000000000000001,0.8,0.9,1.0],\"y\":[0.366,0.366,0.379,0.455,0.468,0.8,1.0,1.0,1.0,1.0,0.0],\"type\":\"scatter\"},{\"mode\":\"lines+markers\",\"name\":\"Recall\",\"x\":[0.0,0.1,0.2,0.30000000000000004,0.4,0.5,0.6000000000000001,0.7000000000000001,0.8,0.9,1.0],\"y\":[1.0,1.0,0.938,0.722,0.299,0.082,0.072,0.072,0.072,0.021,0.0],\"type\":\"scatter\"},{\"mode\":\"lines+markers\",\"name\":\"F1\",\"x\":[0.0,0.1,0.2,0.30000000000000004,0.4,0.5,0.6000000000000001,0.7000000000000001,0.8,0.9,1.0],\"y\":[0.536,0.536,0.54,0.558,0.365,0.15,0.135,0.135,0.135,0.04,0.0],\"type\":\"scatter\"},{\"mode\":\"lines+markers\",\"name\":\"Accuracy\",\"x\":[0.0,0.1,0.2,0.30000000000000004,0.4,0.5,0.6000000000000001,0.7000000000000001,0.8,0.9,1.0],\"y\":[0.366,0.366,0.415,0.581,0.619,0.657,0.66,0.66,0.66,0.642,0.634],\"type\":\"scatter\"}],                        {\"template\":{\"data\":{\"histogram2dcontour\":[{\"type\":\"histogram2dcontour\",\"colorbar\":{\"outlinewidth\":0,\"ticks\":\"\"},\"colorscale\":[[0.0,\"#0d0887\"],[0.1111111111111111,\"#46039f\"],[0.2222222222222222,\"#7201a8\"],[0.3333333333333333,\"#9c179e\"],[0.4444444444444444,\"#bd3786\"],[0.5555555555555556,\"#d8576b\"],[0.6666666666666666,\"#ed7953\"],[0.7777777777777778,\"#fb9f3a\"],[0.8888888888888888,\"#fdca26\"],[1.0,\"#f0f921\"]]}],\"choropleth\":[{\"type\":\"choropleth\",\"colorbar\":{\"outlinewidth\":0,\"ticks\":\"\"}}],\"histogram2d\":[{\"type\":\"histogram2d\",\"colorbar\":{\"outlinewidth\":0,\"ticks\":\"\"},\"colorscale\":[[0.0,\"#0d0887\"],[0.1111111111111111,\"#46039f\"],[0.2222222222222222,\"#7201a8\"],[0.3333333333333333,\"#9c179e\"],[0.4444444444444444,\"#bd3786\"],[0.5555555555555556,\"#d8576b\"],[0.6666666666666666,\"#ed7953\"],[0.7777777777777778,\"#fb9f3a\"],[0.8888888888888888,\"#fdca26\"],[1.0,\"#f0f921\"]]}],\"heatmap\":[{\"type\":\"heatmap\",\"colorbar\":{\"outlinewidth\":0,\"ticks\":\"\"},\"colorscale\":[[0.0,\"#0d0887\"],[0.1111111111111111,\"#46039f\"],[0.2222222222222222,\"#7201a8\"],[0.3333333333333333,\"#9c179e\"],[0.4444444444444444,\"#bd3786\"],[0.5555555555555556,\"#d8576b\"],[0.6666666666666666,\"#ed7953\"],[0.7777777777777778,\"#fb9f3a\"],[0.8888888888888888,\"#fdca26\"],[1.0,\"#f0f921\"]]}],\"heatmapgl\":[{\"type\":\"heatmapgl\",\"colorbar\":{\"outlinewidth\":0,\"ticks\":\"\"},\"colorscale\":[[0.0,\"#0d0887\"],[0.1111111111111111,\"#46039f\"],[0.2222222222222222,\"#7201a8\"],[0.3333333333333333,\"#9c179e\"],[0.4444444444444444,\"#bd3786\"],[0.5555555555555556,\"#d8576b\"],[0.6666666666666666,\"#ed7953\"],[0.7777777777777778,\"#fb9f3a\"],[0.8888888888888888,\"#fdca26\"],[1.0,\"#f0f921\"]]}],\"contourcarpet\":[{\"type\":\"contourcarpet\",\"colorbar\":{\"outlinewidth\":0,\"ticks\":\"\"}}],\"contour\":[{\"type\":\"contour\",\"colorbar\":{\"outlinewidth\":0,\"ticks\":\"\"},\"colorscale\":[[0.0,\"#0d0887\"],[0.1111111111111111,\"#46039f\"],[0.2222222222222222,\"#7201a8\"],[0.3333333333333333,\"#9c179e\"],[0.4444444444444444,\"#bd3786\"],[0.5555555555555556,\"#d8576b\"],[0.6666666666666666,\"#ed7953\"],[0.7777777777777778,\"#fb9f3a\"],[0.8888888888888888,\"#fdca26\"],[1.0,\"#f0f921\"]]}],\"surface\":[{\"type\":\"surface\",\"colorbar\":{\"outlinewidth\":0,\"ticks\":\"\"},\"colorscale\":[[0.0,\"#0d0887\"],[0.1111111111111111,\"#46039f\"],[0.2222222222222222,\"#7201a8\"],[0.3333333333333333,\"#9c179e\"],[0.4444444444444444,\"#bd3786\"],[0.5555555555555556,\"#d8576b\"],[0.6666666666666666,\"#ed7953\"],[0.7777777777777778,\"#fb9f3a\"],[0.8888888888888888,\"#fdca26\"],[1.0,\"#f0f921\"]]}],\"mesh3d\":[{\"type\":\"mesh3d\",\"colorbar\":{\"outlinewidth\":0,\"ticks\":\"\"}}],\"scatter\":[{\"fillpattern\":{\"fillmode\":\"overlay\",\"size\":10,\"solidity\":0.2},\"type\":\"scatter\"}],\"parcoords\":[{\"type\":\"parcoords\",\"line\":{\"colorbar\":{\"outlinewidth\":0,\"ticks\":\"\"}}}],\"scatterpolargl\":[{\"type\":\"scatterpolargl\",\"marker\":{\"colorbar\":{\"outlinewidth\":0,\"ticks\":\"\"}}}],\"bar\":[{\"error_x\":{\"color\":\"#2a3f5f\"},\"error_y\":{\"color\":\"#2a3f5f\"},\"marker\":{\"line\":{\"color\":\"#E5ECF6\",\"width\":0.5},\"pattern\":{\"fillmode\":\"overlay\",\"size\":10,\"solidity\":0.2}},\"type\":\"bar\"}],\"scattergeo\":[{\"type\":\"scattergeo\",\"marker\":{\"colorbar\":{\"outlinewidth\":0,\"ticks\":\"\"}}}],\"scatterpolar\":[{\"type\":\"scatterpolar\",\"marker\":{\"colorbar\":{\"outlinewidth\":0,\"ticks\":\"\"}}}],\"histogram\":[{\"marker\":{\"pattern\":{\"fillmode\":\"overlay\",\"size\":10,\"solidity\":0.2}},\"type\":\"histogram\"}],\"scattergl\":[{\"type\":\"scattergl\",\"marker\":{\"colorbar\":{\"outlinewidth\":0,\"ticks\":\"\"}}}],\"scatter3d\":[{\"type\":\"scatter3d\",\"line\":{\"colorbar\":{\"outlinewidth\":0,\"ticks\":\"\"}},\"marker\":{\"colorbar\":{\"outlinewidth\":0,\"ticks\":\"\"}}}],\"scattermapbox\":[{\"type\":\"scattermapbox\",\"marker\":{\"colorbar\":{\"outlinewidth\":0,\"ticks\":\"\"}}}],\"scatterternary\":[{\"type\":\"scatterternary\",\"marker\":{\"colorbar\":{\"outlinewidth\":0,\"ticks\":\"\"}}}],\"scattercarpet\":[{\"type\":\"scattercarpet\",\"marker\":{\"colorbar\":{\"outlinewidth\":0,\"ticks\":\"\"}}}],\"carpet\":[{\"aaxis\":{\"endlinecolor\":\"#2a3f5f\",\"gridcolor\":\"white\",\"linecolor\":\"white\",\"minorgridcolor\":\"white\",\"startlinecolor\":\"#2a3f5f\"},\"baxis\":{\"endlinecolor\":\"#2a3f5f\",\"gridcolor\":\"white\",\"linecolor\":\"white\",\"minorgridcolor\":\"white\",\"startlinecolor\":\"#2a3f5f\"},\"type\":\"carpet\"}],\"table\":[{\"cells\":{\"fill\":{\"color\":\"#EBF0F8\"},\"line\":{\"color\":\"white\"}},\"header\":{\"fill\":{\"color\":\"#C8D4E3\"},\"line\":{\"color\":\"white\"}},\"type\":\"table\"}],\"barpolar\":[{\"marker\":{\"line\":{\"color\":\"#E5ECF6\",\"width\":0.5},\"pattern\":{\"fillmode\":\"overlay\",\"size\":10,\"solidity\":0.2}},\"type\":\"barpolar\"}],\"pie\":[{\"automargin\":true,\"type\":\"pie\"}]},\"layout\":{\"autotypenumbers\":\"strict\",\"colorway\":[\"#636efa\",\"#EF553B\",\"#00cc96\",\"#ab63fa\",\"#FFA15A\",\"#19d3f3\",\"#FF6692\",\"#B6E880\",\"#FF97FF\",\"#FECB52\"],\"font\":{\"color\":\"#2a3f5f\"},\"hovermode\":\"closest\",\"hoverlabel\":{\"align\":\"left\"},\"paper_bgcolor\":\"white\",\"plot_bgcolor\":\"#E5ECF6\",\"polar\":{\"bgcolor\":\"#E5ECF6\",\"angularaxis\":{\"gridcolor\":\"white\",\"linecolor\":\"white\",\"ticks\":\"\"},\"radialaxis\":{\"gridcolor\":\"white\",\"linecolor\":\"white\",\"ticks\":\"\"}},\"ternary\":{\"bgcolor\":\"#E5ECF6\",\"aaxis\":{\"gridcolor\":\"white\",\"linecolor\":\"white\",\"ticks\":\"\"},\"baxis\":{\"gridcolor\":\"white\",\"linecolor\":\"white\",\"ticks\":\"\"},\"caxis\":{\"gridcolor\":\"white\",\"linecolor\":\"white\",\"ticks\":\"\"}},\"coloraxis\":{\"colorbar\":{\"outlinewidth\":0,\"ticks\":\"\"}},\"colorscale\":{\"sequential\":[[0.0,\"#0d0887\"],[0.1111111111111111,\"#46039f\"],[0.2222222222222222,\"#7201a8\"],[0.3333333333333333,\"#9c179e\"],[0.4444444444444444,\"#bd3786\"],[0.5555555555555556,\"#d8576b\"],[0.6666666666666666,\"#ed7953\"],[0.7777777777777778,\"#fb9f3a\"],[0.8888888888888888,\"#fdca26\"],[1.0,\"#f0f921\"]],\"sequentialminus\":[[0.0,\"#0d0887\"],[0.1111111111111111,\"#46039f\"],[0.2222222222222222,\"#7201a8\"],[0.3333333333333333,\"#9c179e\"],[0.4444444444444444,\"#bd3786\"],[0.5555555555555556,\"#d8576b\"],[0.6666666666666666,\"#ed7953\"],[0.7777777777777778,\"#fb9f3a\"],[0.8888888888888888,\"#fdca26\"],[1.0,\"#f0f921\"]],\"diverging\":[[0,\"#8e0152\"],[0.1,\"#c51b7d\"],[0.2,\"#de77ae\"],[0.3,\"#f1b6da\"],[0.4,\"#fde0ef\"],[0.5,\"#f7f7f7\"],[0.6,\"#e6f5d0\"],[0.7,\"#b8e186\"],[0.8,\"#7fbc41\"],[0.9,\"#4d9221\"],[1,\"#276419\"]]},\"xaxis\":{\"gridcolor\":\"white\",\"linecolor\":\"white\",\"ticks\":\"\",\"title\":{\"standoff\":15},\"zerolinecolor\":\"white\",\"automargin\":true,\"zerolinewidth\":2},\"yaxis\":{\"gridcolor\":\"white\",\"linecolor\":\"white\",\"ticks\":\"\",\"title\":{\"standoff\":15},\"zerolinecolor\":\"white\",\"automargin\":true,\"zerolinewidth\":2},\"scene\":{\"xaxis\":{\"backgroundcolor\":\"#E5ECF6\",\"gridcolor\":\"white\",\"linecolor\":\"white\",\"showbackground\":true,\"ticks\":\"\",\"zerolinecolor\":\"white\",\"gridwidth\":2},\"yaxis\":{\"backgroundcolor\":\"#E5ECF6\",\"gridcolor\":\"white\",\"linecolor\":\"white\",\"showbackground\":true,\"ticks\":\"\",\"zerolinecolor\":\"white\",\"gridwidth\":2},\"zaxis\":{\"backgroundcolor\":\"#E5ECF6\",\"gridcolor\":\"white\",\"linecolor\":\"white\",\"showbackground\":true,\"ticks\":\"\",\"zerolinecolor\":\"white\",\"gridwidth\":2}},\"shapedefaults\":{\"line\":{\"color\":\"#2a3f5f\"}},\"annotationdefaults\":{\"arrowcolor\":\"#2a3f5f\",\"arrowhead\":0,\"arrowwidth\":1},\"geo\":{\"bgcolor\":\"white\",\"landcolor\":\"#E5ECF6\",\"subunitcolor\":\"white\",\"showland\":true,\"showlakes\":true,\"lakecolor\":\"white\"},\"title\":{\"x\":0.05},\"mapbox\":{\"style\":\"light\"}}},\"yaxis\":{\"range\":[0,1]}},                        {\"responsive\": true}                    ).then(function(){\n",
       "                            \n",
       "var gd = document.getElementById('a4fdf50f-2019-4f83-bc48-93e8156cfd0d');\n",
       "var x = new MutationObserver(function (mutations, observer) {{\n",
       "        var display = window.getComputedStyle(gd).display;\n",
       "        if (!display || display === 'none') {{\n",
       "            console.log([gd, 'removed!']);\n",
       "            Plotly.purge(gd);\n",
       "            observer.disconnect();\n",
       "        }}\n",
       "}});\n",
       "\n",
       "// Listen for the removal of the full notebook cells\n",
       "var notebookContainer = gd.closest('#notebook-container');\n",
       "if (notebookContainer) {{\n",
       "    x.observe(notebookContainer, {childList: true});\n",
       "}}\n",
       "\n",
       "// Listen for the clearing of the current output cell\n",
       "var outputEl = gd.closest('.output');\n",
       "if (outputEl) {{\n",
       "    x.observe(outputEl, {childList: true});\n",
       "}}\n",
       "\n",
       "                        })                };                });            </script>        </div>"
      ]
     },
     "metadata": {},
     "output_type": "display_data"
    }
   ],
   "source": [
    "%%capture --no-display \n",
    "# above line is to avoid warning message due to division by 0\n",
    "\n",
    "lr_model_metrics= train_test_metrics_classification(lr_model,X_test,y_test)"
   ]
  },
  {
   "cell_type": "code",
   "execution_count": 153,
   "id": "acfb695c",
   "metadata": {},
   "outputs": [
    {
     "data": {
      "text/html": [
       "<div>\n",
       "<style scoped>\n",
       "    .dataframe tbody tr th:only-of-type {\n",
       "        vertical-align: middle;\n",
       "    }\n",
       "\n",
       "    .dataframe tbody tr th {\n",
       "        vertical-align: top;\n",
       "    }\n",
       "\n",
       "    .dataframe thead th {\n",
       "        text-align: right;\n",
       "    }\n",
       "</style>\n",
       "<table border=\"1\" class=\"dataframe\">\n",
       "  <thead>\n",
       "    <tr style=\"text-align: right;\">\n",
       "      <th></th>\n",
       "      <th>threshold</th>\n",
       "      <th>TP</th>\n",
       "      <th>TN</th>\n",
       "      <th>FP</th>\n",
       "      <th>FN</th>\n",
       "      <th>Precision</th>\n",
       "      <th>Recall</th>\n",
       "      <th>F1</th>\n",
       "      <th>Accuracy</th>\n",
       "      <th>FP_rate</th>\n",
       "      <th>FN_rate</th>\n",
       "    </tr>\n",
       "  </thead>\n",
       "  <tbody>\n",
       "    <tr>\n",
       "      <th>0</th>\n",
       "      <td>0.0000</td>\n",
       "      <td>97</td>\n",
       "      <td>0</td>\n",
       "      <td>168</td>\n",
       "      <td>0</td>\n",
       "      <td>0.3660</td>\n",
       "      <td>1.0000</td>\n",
       "      <td>0.5360</td>\n",
       "      <td>0.3660</td>\n",
       "      <td>1.0000</td>\n",
       "      <td>0.0000</td>\n",
       "    </tr>\n",
       "    <tr>\n",
       "      <th>1</th>\n",
       "      <td>0.0100</td>\n",
       "      <td>97</td>\n",
       "      <td>0</td>\n",
       "      <td>168</td>\n",
       "      <td>0</td>\n",
       "      <td>0.3660</td>\n",
       "      <td>1.0000</td>\n",
       "      <td>0.5360</td>\n",
       "      <td>0.3660</td>\n",
       "      <td>1.0000</td>\n",
       "      <td>0.0000</td>\n",
       "    </tr>\n",
       "    <tr>\n",
       "      <th>2</th>\n",
       "      <td>0.0200</td>\n",
       "      <td>97</td>\n",
       "      <td>0</td>\n",
       "      <td>168</td>\n",
       "      <td>0</td>\n",
       "      <td>0.3660</td>\n",
       "      <td>1.0000</td>\n",
       "      <td>0.5360</td>\n",
       "      <td>0.3660</td>\n",
       "      <td>1.0000</td>\n",
       "      <td>0.0000</td>\n",
       "    </tr>\n",
       "    <tr>\n",
       "      <th>3</th>\n",
       "      <td>0.0300</td>\n",
       "      <td>97</td>\n",
       "      <td>0</td>\n",
       "      <td>168</td>\n",
       "      <td>0</td>\n",
       "      <td>0.3660</td>\n",
       "      <td>1.0000</td>\n",
       "      <td>0.5360</td>\n",
       "      <td>0.3660</td>\n",
       "      <td>1.0000</td>\n",
       "      <td>0.0000</td>\n",
       "    </tr>\n",
       "    <tr>\n",
       "      <th>4</th>\n",
       "      <td>0.0400</td>\n",
       "      <td>97</td>\n",
       "      <td>0</td>\n",
       "      <td>168</td>\n",
       "      <td>0</td>\n",
       "      <td>0.3660</td>\n",
       "      <td>1.0000</td>\n",
       "      <td>0.5360</td>\n",
       "      <td>0.3660</td>\n",
       "      <td>1.0000</td>\n",
       "      <td>0.0000</td>\n",
       "    </tr>\n",
       "    <tr>\n",
       "      <th>...</th>\n",
       "      <td>...</td>\n",
       "      <td>...</td>\n",
       "      <td>...</td>\n",
       "      <td>...</td>\n",
       "      <td>...</td>\n",
       "      <td>...</td>\n",
       "      <td>...</td>\n",
       "      <td>...</td>\n",
       "      <td>...</td>\n",
       "      <td>...</td>\n",
       "      <td>...</td>\n",
       "    </tr>\n",
       "    <tr>\n",
       "      <th>95</th>\n",
       "      <td>0.9500</td>\n",
       "      <td>0</td>\n",
       "      <td>168</td>\n",
       "      <td>0</td>\n",
       "      <td>97</td>\n",
       "      <td>0.0000</td>\n",
       "      <td>0.0000</td>\n",
       "      <td>0.0000</td>\n",
       "      <td>0.6340</td>\n",
       "      <td>0.0000</td>\n",
       "      <td>1.0000</td>\n",
       "    </tr>\n",
       "    <tr>\n",
       "      <th>96</th>\n",
       "      <td>0.9600</td>\n",
       "      <td>0</td>\n",
       "      <td>168</td>\n",
       "      <td>0</td>\n",
       "      <td>97</td>\n",
       "      <td>0.0000</td>\n",
       "      <td>0.0000</td>\n",
       "      <td>0.0000</td>\n",
       "      <td>0.6340</td>\n",
       "      <td>0.0000</td>\n",
       "      <td>1.0000</td>\n",
       "    </tr>\n",
       "    <tr>\n",
       "      <th>97</th>\n",
       "      <td>0.9700</td>\n",
       "      <td>0</td>\n",
       "      <td>168</td>\n",
       "      <td>0</td>\n",
       "      <td>97</td>\n",
       "      <td>0.0000</td>\n",
       "      <td>0.0000</td>\n",
       "      <td>0.0000</td>\n",
       "      <td>0.6340</td>\n",
       "      <td>0.0000</td>\n",
       "      <td>1.0000</td>\n",
       "    </tr>\n",
       "    <tr>\n",
       "      <th>98</th>\n",
       "      <td>0.9800</td>\n",
       "      <td>0</td>\n",
       "      <td>168</td>\n",
       "      <td>0</td>\n",
       "      <td>97</td>\n",
       "      <td>0.0000</td>\n",
       "      <td>0.0000</td>\n",
       "      <td>0.0000</td>\n",
       "      <td>0.6340</td>\n",
       "      <td>0.0000</td>\n",
       "      <td>1.0000</td>\n",
       "    </tr>\n",
       "    <tr>\n",
       "      <th>99</th>\n",
       "      <td>0.9900</td>\n",
       "      <td>0</td>\n",
       "      <td>168</td>\n",
       "      <td>0</td>\n",
       "      <td>97</td>\n",
       "      <td>0.0000</td>\n",
       "      <td>0.0000</td>\n",
       "      <td>0.0000</td>\n",
       "      <td>0.6340</td>\n",
       "      <td>0.0000</td>\n",
       "      <td>1.0000</td>\n",
       "    </tr>\n",
       "  </tbody>\n",
       "</table>\n",
       "<p>100 rows × 11 columns</p>\n",
       "</div>"
      ],
      "text/plain": [
       "    threshold  TP   TN   FP  FN  Precision  Recall     F1  Accuracy  FP_rate  \\\n",
       "0      0.0000  97    0  168   0     0.3660  1.0000 0.5360    0.3660   1.0000   \n",
       "1      0.0100  97    0  168   0     0.3660  1.0000 0.5360    0.3660   1.0000   \n",
       "2      0.0200  97    0  168   0     0.3660  1.0000 0.5360    0.3660   1.0000   \n",
       "3      0.0300  97    0  168   0     0.3660  1.0000 0.5360    0.3660   1.0000   \n",
       "4      0.0400  97    0  168   0     0.3660  1.0000 0.5360    0.3660   1.0000   \n",
       "..        ...  ..  ...  ...  ..        ...     ...    ...       ...      ...   \n",
       "95     0.9500   0  168    0  97     0.0000  0.0000 0.0000    0.6340   0.0000   \n",
       "96     0.9600   0  168    0  97     0.0000  0.0000 0.0000    0.6340   0.0000   \n",
       "97     0.9700   0  168    0  97     0.0000  0.0000 0.0000    0.6340   0.0000   \n",
       "98     0.9800   0  168    0  97     0.0000  0.0000 0.0000    0.6340   0.0000   \n",
       "99     0.9900   0  168    0  97     0.0000  0.0000 0.0000    0.6340   0.0000   \n",
       "\n",
       "    FN_rate  \n",
       "0    0.0000  \n",
       "1    0.0000  \n",
       "2    0.0000  \n",
       "3    0.0000  \n",
       "4    0.0000  \n",
       "..      ...  \n",
       "95   1.0000  \n",
       "96   1.0000  \n",
       "97   1.0000  \n",
       "98   1.0000  \n",
       "99   1.0000  \n",
       "\n",
       "[100 rows x 11 columns]"
      ]
     },
     "metadata": {},
     "output_type": "display_data"
    },
    {
     "data": {
      "application/vnd.plotly.v1+json": {
       "config": {
        "plotlyServerURL": "https://plot.ly"
       },
       "data": [
        {
         "mode": "lines+markers",
         "name": "Precision",
         "type": "scatter",
         "x": [
          0,
          0.01,
          0.02,
          0.03,
          0.04,
          0.05,
          0.06,
          0.07,
          0.08,
          0.09,
          0.1,
          0.11,
          0.12,
          0.13,
          0.14,
          0.15,
          0.16,
          0.17,
          0.18,
          0.19,
          0.2,
          0.21,
          0.22,
          0.23,
          0.24,
          0.25,
          0.26,
          0.27,
          0.28,
          0.29,
          0.3,
          0.31,
          0.32,
          0.33,
          0.34,
          0.35000000000000003,
          0.36,
          0.37,
          0.38,
          0.39,
          0.4,
          0.41000000000000003,
          0.42,
          0.43,
          0.44,
          0.45,
          0.46,
          0.47000000000000003,
          0.48,
          0.49,
          0.5,
          0.51,
          0.52,
          0.53,
          0.54,
          0.55,
          0.56,
          0.5700000000000001,
          0.58,
          0.59,
          0.6,
          0.61,
          0.62,
          0.63,
          0.64,
          0.65,
          0.66,
          0.67,
          0.68,
          0.6900000000000001,
          0.7000000000000001,
          0.71,
          0.72,
          0.73,
          0.74,
          0.75,
          0.76,
          0.77,
          0.78,
          0.79,
          0.8,
          0.81,
          0.8200000000000001,
          0.8300000000000001,
          0.84,
          0.85,
          0.86,
          0.87,
          0.88,
          0.89,
          0.9,
          0.91,
          0.92,
          0.93,
          0.9400000000000001,
          0.9500000000000001,
          0.96,
          0.97,
          0.98,
          0.99
         ],
         "y": [
          0.366,
          0.366,
          0.366,
          0.366,
          0.366,
          0.366,
          0.366,
          0.366,
          0.366,
          0.366,
          0.366,
          0.366,
          0.366,
          0.366,
          0.366,
          0.369,
          0.368,
          0.368,
          0.373,
          0.378,
          0.379,
          0.381,
          0.387,
          0.396,
          0.41,
          0.42,
          0.425,
          0.423,
          0.437,
          0.452,
          0.455,
          0.469,
          0.464,
          0.468,
          0.466,
          0.473,
          0.471,
          0.478,
          0.481,
          0.486,
          0.468,
          0.481,
          0.5,
          0.525,
          0.548,
          0.556,
          0.591,
          0.647,
          0.75,
          0.75,
          0.8,
          1,
          1,
          1,
          1,
          1,
          1,
          1,
          1,
          1,
          1,
          1,
          1,
          1,
          1,
          1,
          1,
          1,
          1,
          1,
          1,
          1,
          1,
          1,
          1,
          1,
          1,
          1,
          1,
          1,
          1,
          1,
          1,
          1,
          1,
          1,
          1,
          1,
          1,
          1,
          1,
          1,
          1,
          0,
          0,
          0,
          0,
          0,
          0,
          0
         ]
        },
        {
         "mode": "lines+markers",
         "name": "Recall",
         "type": "scatter",
         "x": [
          0,
          0.01,
          0.02,
          0.03,
          0.04,
          0.05,
          0.06,
          0.07,
          0.08,
          0.09,
          0.1,
          0.11,
          0.12,
          0.13,
          0.14,
          0.15,
          0.16,
          0.17,
          0.18,
          0.19,
          0.2,
          0.21,
          0.22,
          0.23,
          0.24,
          0.25,
          0.26,
          0.27,
          0.28,
          0.29,
          0.3,
          0.31,
          0.32,
          0.33,
          0.34,
          0.35000000000000003,
          0.36,
          0.37,
          0.38,
          0.39,
          0.4,
          0.41000000000000003,
          0.42,
          0.43,
          0.44,
          0.45,
          0.46,
          0.47000000000000003,
          0.48,
          0.49,
          0.5,
          0.51,
          0.52,
          0.53,
          0.54,
          0.55,
          0.56,
          0.5700000000000001,
          0.58,
          0.59,
          0.6,
          0.61,
          0.62,
          0.63,
          0.64,
          0.65,
          0.66,
          0.67,
          0.68,
          0.6900000000000001,
          0.7000000000000001,
          0.71,
          0.72,
          0.73,
          0.74,
          0.75,
          0.76,
          0.77,
          0.78,
          0.79,
          0.8,
          0.81,
          0.8200000000000001,
          0.8300000000000001,
          0.84,
          0.85,
          0.86,
          0.87,
          0.88,
          0.89,
          0.9,
          0.91,
          0.92,
          0.93,
          0.9400000000000001,
          0.9500000000000001,
          0.96,
          0.97,
          0.98,
          0.99
         ],
         "y": [
          1,
          1,
          1,
          1,
          1,
          1,
          1,
          1,
          1,
          1,
          1,
          1,
          1,
          1,
          1,
          0.99,
          0.979,
          0.959,
          0.959,
          0.938,
          0.938,
          0.928,
          0.918,
          0.907,
          0.887,
          0.866,
          0.845,
          0.794,
          0.753,
          0.732,
          0.722,
          0.701,
          0.66,
          0.608,
          0.557,
          0.536,
          0.495,
          0.443,
          0.381,
          0.351,
          0.299,
          0.258,
          0.247,
          0.216,
          0.175,
          0.155,
          0.134,
          0.113,
          0.093,
          0.093,
          0.082,
          0.072,
          0.072,
          0.072,
          0.072,
          0.072,
          0.072,
          0.072,
          0.072,
          0.072,
          0.072,
          0.072,
          0.072,
          0.072,
          0.072,
          0.072,
          0.072,
          0.072,
          0.072,
          0.072,
          0.072,
          0.072,
          0.072,
          0.072,
          0.072,
          0.072,
          0.072,
          0.072,
          0.072,
          0.072,
          0.072,
          0.072,
          0.072,
          0.072,
          0.072,
          0.052,
          0.052,
          0.052,
          0.052,
          0.031,
          0.021,
          0.021,
          0.021,
          0,
          0,
          0,
          0,
          0,
          0,
          0
         ]
        },
        {
         "mode": "lines+markers",
         "name": "F1",
         "type": "scatter",
         "x": [
          0,
          0.01,
          0.02,
          0.03,
          0.04,
          0.05,
          0.06,
          0.07,
          0.08,
          0.09,
          0.1,
          0.11,
          0.12,
          0.13,
          0.14,
          0.15,
          0.16,
          0.17,
          0.18,
          0.19,
          0.2,
          0.21,
          0.22,
          0.23,
          0.24,
          0.25,
          0.26,
          0.27,
          0.28,
          0.29,
          0.3,
          0.31,
          0.32,
          0.33,
          0.34,
          0.35000000000000003,
          0.36,
          0.37,
          0.38,
          0.39,
          0.4,
          0.41000000000000003,
          0.42,
          0.43,
          0.44,
          0.45,
          0.46,
          0.47000000000000003,
          0.48,
          0.49,
          0.5,
          0.51,
          0.52,
          0.53,
          0.54,
          0.55,
          0.56,
          0.5700000000000001,
          0.58,
          0.59,
          0.6,
          0.61,
          0.62,
          0.63,
          0.64,
          0.65,
          0.66,
          0.67,
          0.68,
          0.6900000000000001,
          0.7000000000000001,
          0.71,
          0.72,
          0.73,
          0.74,
          0.75,
          0.76,
          0.77,
          0.78,
          0.79,
          0.8,
          0.81,
          0.8200000000000001,
          0.8300000000000001,
          0.84,
          0.85,
          0.86,
          0.87,
          0.88,
          0.89,
          0.9,
          0.91,
          0.92,
          0.93,
          0.9400000000000001,
          0.9500000000000001,
          0.96,
          0.97,
          0.98,
          0.99
         ],
         "y": [
          0.536,
          0.536,
          0.536,
          0.536,
          0.536,
          0.536,
          0.536,
          0.536,
          0.536,
          0.536,
          0.536,
          0.536,
          0.536,
          0.536,
          0.536,
          0.538,
          0.535,
          0.531,
          0.538,
          0.538,
          0.54,
          0.541,
          0.544,
          0.552,
          0.56,
          0.566,
          0.566,
          0.552,
          0.553,
          0.559,
          0.558,
          0.562,
          0.545,
          0.529,
          0.507,
          0.502,
          0.482,
          0.46,
          0.425,
          0.407,
          0.365,
          0.336,
          0.331,
          0.307,
          0.266,
          0.242,
          0.218,
          0.193,
          0.165,
          0.165,
          0.15,
          0.135,
          0.135,
          0.135,
          0.135,
          0.135,
          0.135,
          0.135,
          0.135,
          0.135,
          0.135,
          0.135,
          0.135,
          0.135,
          0.135,
          0.135,
          0.135,
          0.135,
          0.135,
          0.135,
          0.135,
          0.135,
          0.135,
          0.135,
          0.135,
          0.135,
          0.135,
          0.135,
          0.135,
          0.135,
          0.135,
          0.135,
          0.135,
          0.135,
          0.135,
          0.098,
          0.098,
          0.098,
          0.098,
          0.06,
          0.04,
          0.04,
          0.04,
          0,
          0,
          0,
          0,
          0,
          0,
          0
         ]
        },
        {
         "mode": "lines+markers",
         "name": "Accuracy",
         "type": "scatter",
         "x": [
          0,
          0.01,
          0.02,
          0.03,
          0.04,
          0.05,
          0.06,
          0.07,
          0.08,
          0.09,
          0.1,
          0.11,
          0.12,
          0.13,
          0.14,
          0.15,
          0.16,
          0.17,
          0.18,
          0.19,
          0.2,
          0.21,
          0.22,
          0.23,
          0.24,
          0.25,
          0.26,
          0.27,
          0.28,
          0.29,
          0.3,
          0.31,
          0.32,
          0.33,
          0.34,
          0.35000000000000003,
          0.36,
          0.37,
          0.38,
          0.39,
          0.4,
          0.41000000000000003,
          0.42,
          0.43,
          0.44,
          0.45,
          0.46,
          0.47000000000000003,
          0.48,
          0.49,
          0.5,
          0.51,
          0.52,
          0.53,
          0.54,
          0.55,
          0.56,
          0.5700000000000001,
          0.58,
          0.59,
          0.6,
          0.61,
          0.62,
          0.63,
          0.64,
          0.65,
          0.66,
          0.67,
          0.68,
          0.6900000000000001,
          0.7000000000000001,
          0.71,
          0.72,
          0.73,
          0.74,
          0.75,
          0.76,
          0.77,
          0.78,
          0.79,
          0.8,
          0.81,
          0.8200000000000001,
          0.8300000000000001,
          0.84,
          0.85,
          0.86,
          0.87,
          0.88,
          0.89,
          0.9,
          0.91,
          0.92,
          0.93,
          0.9400000000000001,
          0.9500000000000001,
          0.96,
          0.97,
          0.98,
          0.99
         ],
         "y": [
          0.366,
          0.366,
          0.366,
          0.366,
          0.366,
          0.366,
          0.366,
          0.366,
          0.366,
          0.366,
          0.366,
          0.366,
          0.366,
          0.366,
          0.366,
          0.377,
          0.377,
          0.381,
          0.396,
          0.411,
          0.415,
          0.423,
          0.438,
          0.46,
          0.491,
          0.513,
          0.525,
          0.528,
          0.555,
          0.577,
          0.581,
          0.6,
          0.596,
          0.604,
          0.604,
          0.611,
          0.611,
          0.619,
          0.623,
          0.626,
          0.619,
          0.626,
          0.634,
          0.642,
          0.645,
          0.645,
          0.649,
          0.653,
          0.657,
          0.657,
          0.657,
          0.66,
          0.66,
          0.66,
          0.66,
          0.66,
          0.66,
          0.66,
          0.66,
          0.66,
          0.66,
          0.66,
          0.66,
          0.66,
          0.66,
          0.66,
          0.66,
          0.66,
          0.66,
          0.66,
          0.66,
          0.66,
          0.66,
          0.66,
          0.66,
          0.66,
          0.66,
          0.66,
          0.66,
          0.66,
          0.66,
          0.66,
          0.66,
          0.66,
          0.66,
          0.653,
          0.653,
          0.653,
          0.653,
          0.645,
          0.642,
          0.642,
          0.642,
          0.634,
          0.634,
          0.634,
          0.634,
          0.634,
          0.634,
          0.634
         ]
        }
       ],
       "layout": {
        "template": {
         "data": {
          "bar": [
           {
            "error_x": {
             "color": "#2a3f5f"
            },
            "error_y": {
             "color": "#2a3f5f"
            },
            "marker": {
             "line": {
              "color": "#E5ECF6",
              "width": 0.5
             },
             "pattern": {
              "fillmode": "overlay",
              "size": 10,
              "solidity": 0.2
             }
            },
            "type": "bar"
           }
          ],
          "barpolar": [
           {
            "marker": {
             "line": {
              "color": "#E5ECF6",
              "width": 0.5
             },
             "pattern": {
              "fillmode": "overlay",
              "size": 10,
              "solidity": 0.2
             }
            },
            "type": "barpolar"
           }
          ],
          "carpet": [
           {
            "aaxis": {
             "endlinecolor": "#2a3f5f",
             "gridcolor": "white",
             "linecolor": "white",
             "minorgridcolor": "white",
             "startlinecolor": "#2a3f5f"
            },
            "baxis": {
             "endlinecolor": "#2a3f5f",
             "gridcolor": "white",
             "linecolor": "white",
             "minorgridcolor": "white",
             "startlinecolor": "#2a3f5f"
            },
            "type": "carpet"
           }
          ],
          "choropleth": [
           {
            "colorbar": {
             "outlinewidth": 0,
             "ticks": ""
            },
            "type": "choropleth"
           }
          ],
          "contour": [
           {
            "colorbar": {
             "outlinewidth": 0,
             "ticks": ""
            },
            "colorscale": [
             [
              0,
              "#0d0887"
             ],
             [
              0.1111111111111111,
              "#46039f"
             ],
             [
              0.2222222222222222,
              "#7201a8"
             ],
             [
              0.3333333333333333,
              "#9c179e"
             ],
             [
              0.4444444444444444,
              "#bd3786"
             ],
             [
              0.5555555555555556,
              "#d8576b"
             ],
             [
              0.6666666666666666,
              "#ed7953"
             ],
             [
              0.7777777777777778,
              "#fb9f3a"
             ],
             [
              0.8888888888888888,
              "#fdca26"
             ],
             [
              1,
              "#f0f921"
             ]
            ],
            "type": "contour"
           }
          ],
          "contourcarpet": [
           {
            "colorbar": {
             "outlinewidth": 0,
             "ticks": ""
            },
            "type": "contourcarpet"
           }
          ],
          "heatmap": [
           {
            "colorbar": {
             "outlinewidth": 0,
             "ticks": ""
            },
            "colorscale": [
             [
              0,
              "#0d0887"
             ],
             [
              0.1111111111111111,
              "#46039f"
             ],
             [
              0.2222222222222222,
              "#7201a8"
             ],
             [
              0.3333333333333333,
              "#9c179e"
             ],
             [
              0.4444444444444444,
              "#bd3786"
             ],
             [
              0.5555555555555556,
              "#d8576b"
             ],
             [
              0.6666666666666666,
              "#ed7953"
             ],
             [
              0.7777777777777778,
              "#fb9f3a"
             ],
             [
              0.8888888888888888,
              "#fdca26"
             ],
             [
              1,
              "#f0f921"
             ]
            ],
            "type": "heatmap"
           }
          ],
          "heatmapgl": [
           {
            "colorbar": {
             "outlinewidth": 0,
             "ticks": ""
            },
            "colorscale": [
             [
              0,
              "#0d0887"
             ],
             [
              0.1111111111111111,
              "#46039f"
             ],
             [
              0.2222222222222222,
              "#7201a8"
             ],
             [
              0.3333333333333333,
              "#9c179e"
             ],
             [
              0.4444444444444444,
              "#bd3786"
             ],
             [
              0.5555555555555556,
              "#d8576b"
             ],
             [
              0.6666666666666666,
              "#ed7953"
             ],
             [
              0.7777777777777778,
              "#fb9f3a"
             ],
             [
              0.8888888888888888,
              "#fdca26"
             ],
             [
              1,
              "#f0f921"
             ]
            ],
            "type": "heatmapgl"
           }
          ],
          "histogram": [
           {
            "marker": {
             "pattern": {
              "fillmode": "overlay",
              "size": 10,
              "solidity": 0.2
             }
            },
            "type": "histogram"
           }
          ],
          "histogram2d": [
           {
            "colorbar": {
             "outlinewidth": 0,
             "ticks": ""
            },
            "colorscale": [
             [
              0,
              "#0d0887"
             ],
             [
              0.1111111111111111,
              "#46039f"
             ],
             [
              0.2222222222222222,
              "#7201a8"
             ],
             [
              0.3333333333333333,
              "#9c179e"
             ],
             [
              0.4444444444444444,
              "#bd3786"
             ],
             [
              0.5555555555555556,
              "#d8576b"
             ],
             [
              0.6666666666666666,
              "#ed7953"
             ],
             [
              0.7777777777777778,
              "#fb9f3a"
             ],
             [
              0.8888888888888888,
              "#fdca26"
             ],
             [
              1,
              "#f0f921"
             ]
            ],
            "type": "histogram2d"
           }
          ],
          "histogram2dcontour": [
           {
            "colorbar": {
             "outlinewidth": 0,
             "ticks": ""
            },
            "colorscale": [
             [
              0,
              "#0d0887"
             ],
             [
              0.1111111111111111,
              "#46039f"
             ],
             [
              0.2222222222222222,
              "#7201a8"
             ],
             [
              0.3333333333333333,
              "#9c179e"
             ],
             [
              0.4444444444444444,
              "#bd3786"
             ],
             [
              0.5555555555555556,
              "#d8576b"
             ],
             [
              0.6666666666666666,
              "#ed7953"
             ],
             [
              0.7777777777777778,
              "#fb9f3a"
             ],
             [
              0.8888888888888888,
              "#fdca26"
             ],
             [
              1,
              "#f0f921"
             ]
            ],
            "type": "histogram2dcontour"
           }
          ],
          "mesh3d": [
           {
            "colorbar": {
             "outlinewidth": 0,
             "ticks": ""
            },
            "type": "mesh3d"
           }
          ],
          "parcoords": [
           {
            "line": {
             "colorbar": {
              "outlinewidth": 0,
              "ticks": ""
             }
            },
            "type": "parcoords"
           }
          ],
          "pie": [
           {
            "automargin": true,
            "type": "pie"
           }
          ],
          "scatter": [
           {
            "fillpattern": {
             "fillmode": "overlay",
             "size": 10,
             "solidity": 0.2
            },
            "type": "scatter"
           }
          ],
          "scatter3d": [
           {
            "line": {
             "colorbar": {
              "outlinewidth": 0,
              "ticks": ""
             }
            },
            "marker": {
             "colorbar": {
              "outlinewidth": 0,
              "ticks": ""
             }
            },
            "type": "scatter3d"
           }
          ],
          "scattercarpet": [
           {
            "marker": {
             "colorbar": {
              "outlinewidth": 0,
              "ticks": ""
             }
            },
            "type": "scattercarpet"
           }
          ],
          "scattergeo": [
           {
            "marker": {
             "colorbar": {
              "outlinewidth": 0,
              "ticks": ""
             }
            },
            "type": "scattergeo"
           }
          ],
          "scattergl": [
           {
            "marker": {
             "colorbar": {
              "outlinewidth": 0,
              "ticks": ""
             }
            },
            "type": "scattergl"
           }
          ],
          "scattermapbox": [
           {
            "marker": {
             "colorbar": {
              "outlinewidth": 0,
              "ticks": ""
             }
            },
            "type": "scattermapbox"
           }
          ],
          "scatterpolar": [
           {
            "marker": {
             "colorbar": {
              "outlinewidth": 0,
              "ticks": ""
             }
            },
            "type": "scatterpolar"
           }
          ],
          "scatterpolargl": [
           {
            "marker": {
             "colorbar": {
              "outlinewidth": 0,
              "ticks": ""
             }
            },
            "type": "scatterpolargl"
           }
          ],
          "scatterternary": [
           {
            "marker": {
             "colorbar": {
              "outlinewidth": 0,
              "ticks": ""
             }
            },
            "type": "scatterternary"
           }
          ],
          "surface": [
           {
            "colorbar": {
             "outlinewidth": 0,
             "ticks": ""
            },
            "colorscale": [
             [
              0,
              "#0d0887"
             ],
             [
              0.1111111111111111,
              "#46039f"
             ],
             [
              0.2222222222222222,
              "#7201a8"
             ],
             [
              0.3333333333333333,
              "#9c179e"
             ],
             [
              0.4444444444444444,
              "#bd3786"
             ],
             [
              0.5555555555555556,
              "#d8576b"
             ],
             [
              0.6666666666666666,
              "#ed7953"
             ],
             [
              0.7777777777777778,
              "#fb9f3a"
             ],
             [
              0.8888888888888888,
              "#fdca26"
             ],
             [
              1,
              "#f0f921"
             ]
            ],
            "type": "surface"
           }
          ],
          "table": [
           {
            "cells": {
             "fill": {
              "color": "#EBF0F8"
             },
             "line": {
              "color": "white"
             }
            },
            "header": {
             "fill": {
              "color": "#C8D4E3"
             },
             "line": {
              "color": "white"
             }
            },
            "type": "table"
           }
          ]
         },
         "layout": {
          "annotationdefaults": {
           "arrowcolor": "#2a3f5f",
           "arrowhead": 0,
           "arrowwidth": 1
          },
          "autotypenumbers": "strict",
          "coloraxis": {
           "colorbar": {
            "outlinewidth": 0,
            "ticks": ""
           }
          },
          "colorscale": {
           "diverging": [
            [
             0,
             "#8e0152"
            ],
            [
             0.1,
             "#c51b7d"
            ],
            [
             0.2,
             "#de77ae"
            ],
            [
             0.3,
             "#f1b6da"
            ],
            [
             0.4,
             "#fde0ef"
            ],
            [
             0.5,
             "#f7f7f7"
            ],
            [
             0.6,
             "#e6f5d0"
            ],
            [
             0.7,
             "#b8e186"
            ],
            [
             0.8,
             "#7fbc41"
            ],
            [
             0.9,
             "#4d9221"
            ],
            [
             1,
             "#276419"
            ]
           ],
           "sequential": [
            [
             0,
             "#0d0887"
            ],
            [
             0.1111111111111111,
             "#46039f"
            ],
            [
             0.2222222222222222,
             "#7201a8"
            ],
            [
             0.3333333333333333,
             "#9c179e"
            ],
            [
             0.4444444444444444,
             "#bd3786"
            ],
            [
             0.5555555555555556,
             "#d8576b"
            ],
            [
             0.6666666666666666,
             "#ed7953"
            ],
            [
             0.7777777777777778,
             "#fb9f3a"
            ],
            [
             0.8888888888888888,
             "#fdca26"
            ],
            [
             1,
             "#f0f921"
            ]
           ],
           "sequentialminus": [
            [
             0,
             "#0d0887"
            ],
            [
             0.1111111111111111,
             "#46039f"
            ],
            [
             0.2222222222222222,
             "#7201a8"
            ],
            [
             0.3333333333333333,
             "#9c179e"
            ],
            [
             0.4444444444444444,
             "#bd3786"
            ],
            [
             0.5555555555555556,
             "#d8576b"
            ],
            [
             0.6666666666666666,
             "#ed7953"
            ],
            [
             0.7777777777777778,
             "#fb9f3a"
            ],
            [
             0.8888888888888888,
             "#fdca26"
            ],
            [
             1,
             "#f0f921"
            ]
           ]
          },
          "colorway": [
           "#636efa",
           "#EF553B",
           "#00cc96",
           "#ab63fa",
           "#FFA15A",
           "#19d3f3",
           "#FF6692",
           "#B6E880",
           "#FF97FF",
           "#FECB52"
          ],
          "font": {
           "color": "#2a3f5f"
          },
          "geo": {
           "bgcolor": "white",
           "lakecolor": "white",
           "landcolor": "#E5ECF6",
           "showlakes": true,
           "showland": true,
           "subunitcolor": "white"
          },
          "hoverlabel": {
           "align": "left"
          },
          "hovermode": "closest",
          "mapbox": {
           "style": "light"
          },
          "paper_bgcolor": "white",
          "plot_bgcolor": "#E5ECF6",
          "polar": {
           "angularaxis": {
            "gridcolor": "white",
            "linecolor": "white",
            "ticks": ""
           },
           "bgcolor": "#E5ECF6",
           "radialaxis": {
            "gridcolor": "white",
            "linecolor": "white",
            "ticks": ""
           }
          },
          "scene": {
           "xaxis": {
            "backgroundcolor": "#E5ECF6",
            "gridcolor": "white",
            "gridwidth": 2,
            "linecolor": "white",
            "showbackground": true,
            "ticks": "",
            "zerolinecolor": "white"
           },
           "yaxis": {
            "backgroundcolor": "#E5ECF6",
            "gridcolor": "white",
            "gridwidth": 2,
            "linecolor": "white",
            "showbackground": true,
            "ticks": "",
            "zerolinecolor": "white"
           },
           "zaxis": {
            "backgroundcolor": "#E5ECF6",
            "gridcolor": "white",
            "gridwidth": 2,
            "linecolor": "white",
            "showbackground": true,
            "ticks": "",
            "zerolinecolor": "white"
           }
          },
          "shapedefaults": {
           "line": {
            "color": "#2a3f5f"
           }
          },
          "ternary": {
           "aaxis": {
            "gridcolor": "white",
            "linecolor": "white",
            "ticks": ""
           },
           "baxis": {
            "gridcolor": "white",
            "linecolor": "white",
            "ticks": ""
           },
           "bgcolor": "#E5ECF6",
           "caxis": {
            "gridcolor": "white",
            "linecolor": "white",
            "ticks": ""
           }
          },
          "title": {
           "x": 0.05
          },
          "xaxis": {
           "automargin": true,
           "gridcolor": "white",
           "linecolor": "white",
           "ticks": "",
           "title": {
            "standoff": 15
           },
           "zerolinecolor": "white",
           "zerolinewidth": 2
          },
          "yaxis": {
           "automargin": true,
           "gridcolor": "white",
           "linecolor": "white",
           "ticks": "",
           "title": {
            "standoff": 15
           },
           "zerolinecolor": "white",
           "zerolinewidth": 2
          }
         }
        },
        "yaxis": {
         "range": [
          0,
          1
         ]
        }
       }
      },
      "text/html": [
       "<div>                            <div id=\"78147e60-de78-435c-b04e-c112b6802612\" class=\"plotly-graph-div\" style=\"height:525px; width:100%;\"></div>            <script type=\"text/javascript\">                require([\"plotly\"], function(Plotly) {                    window.PLOTLYENV=window.PLOTLYENV || {};                                    if (document.getElementById(\"78147e60-de78-435c-b04e-c112b6802612\")) {                    Plotly.newPlot(                        \"78147e60-de78-435c-b04e-c112b6802612\",                        [{\"mode\":\"lines+markers\",\"name\":\"Precision\",\"x\":[0.0,0.01,0.02,0.03,0.04,0.05,0.06,0.07,0.08,0.09,0.1,0.11,0.12,0.13,0.14,0.15,0.16,0.17,0.18,0.19,0.2,0.21,0.22,0.23,0.24,0.25,0.26,0.27,0.28,0.29,0.3,0.31,0.32,0.33,0.34,0.35000000000000003,0.36,0.37,0.38,0.39,0.4,0.41000000000000003,0.42,0.43,0.44,0.45,0.46,0.47000000000000003,0.48,0.49,0.5,0.51,0.52,0.53,0.54,0.55,0.56,0.5700000000000001,0.58,0.59,0.6,0.61,0.62,0.63,0.64,0.65,0.66,0.67,0.68,0.6900000000000001,0.7000000000000001,0.71,0.72,0.73,0.74,0.75,0.76,0.77,0.78,0.79,0.8,0.81,0.8200000000000001,0.8300000000000001,0.84,0.85,0.86,0.87,0.88,0.89,0.9,0.91,0.92,0.93,0.9400000000000001,0.9500000000000001,0.96,0.97,0.98,0.99],\"y\":[0.366,0.366,0.366,0.366,0.366,0.366,0.366,0.366,0.366,0.366,0.366,0.366,0.366,0.366,0.366,0.369,0.368,0.368,0.373,0.378,0.379,0.381,0.387,0.396,0.41,0.42,0.425,0.423,0.437,0.452,0.455,0.469,0.464,0.468,0.466,0.473,0.471,0.478,0.481,0.486,0.468,0.481,0.5,0.525,0.548,0.556,0.591,0.647,0.75,0.75,0.8,1.0,1.0,1.0,1.0,1.0,1.0,1.0,1.0,1.0,1.0,1.0,1.0,1.0,1.0,1.0,1.0,1.0,1.0,1.0,1.0,1.0,1.0,1.0,1.0,1.0,1.0,1.0,1.0,1.0,1.0,1.0,1.0,1.0,1.0,1.0,1.0,1.0,1.0,1.0,1.0,1.0,1.0,0.0,0.0,0.0,0.0,0.0,0.0,0.0],\"type\":\"scatter\"},{\"mode\":\"lines+markers\",\"name\":\"Recall\",\"x\":[0.0,0.01,0.02,0.03,0.04,0.05,0.06,0.07,0.08,0.09,0.1,0.11,0.12,0.13,0.14,0.15,0.16,0.17,0.18,0.19,0.2,0.21,0.22,0.23,0.24,0.25,0.26,0.27,0.28,0.29,0.3,0.31,0.32,0.33,0.34,0.35000000000000003,0.36,0.37,0.38,0.39,0.4,0.41000000000000003,0.42,0.43,0.44,0.45,0.46,0.47000000000000003,0.48,0.49,0.5,0.51,0.52,0.53,0.54,0.55,0.56,0.5700000000000001,0.58,0.59,0.6,0.61,0.62,0.63,0.64,0.65,0.66,0.67,0.68,0.6900000000000001,0.7000000000000001,0.71,0.72,0.73,0.74,0.75,0.76,0.77,0.78,0.79,0.8,0.81,0.8200000000000001,0.8300000000000001,0.84,0.85,0.86,0.87,0.88,0.89,0.9,0.91,0.92,0.93,0.9400000000000001,0.9500000000000001,0.96,0.97,0.98,0.99],\"y\":[1.0,1.0,1.0,1.0,1.0,1.0,1.0,1.0,1.0,1.0,1.0,1.0,1.0,1.0,1.0,0.99,0.979,0.959,0.959,0.938,0.938,0.928,0.918,0.907,0.887,0.866,0.845,0.794,0.753,0.732,0.722,0.701,0.66,0.608,0.557,0.536,0.495,0.443,0.381,0.351,0.299,0.258,0.247,0.216,0.175,0.155,0.134,0.113,0.093,0.093,0.082,0.072,0.072,0.072,0.072,0.072,0.072,0.072,0.072,0.072,0.072,0.072,0.072,0.072,0.072,0.072,0.072,0.072,0.072,0.072,0.072,0.072,0.072,0.072,0.072,0.072,0.072,0.072,0.072,0.072,0.072,0.072,0.072,0.072,0.072,0.052,0.052,0.052,0.052,0.031,0.021,0.021,0.021,0.0,0.0,0.0,0.0,0.0,0.0,0.0],\"type\":\"scatter\"},{\"mode\":\"lines+markers\",\"name\":\"F1\",\"x\":[0.0,0.01,0.02,0.03,0.04,0.05,0.06,0.07,0.08,0.09,0.1,0.11,0.12,0.13,0.14,0.15,0.16,0.17,0.18,0.19,0.2,0.21,0.22,0.23,0.24,0.25,0.26,0.27,0.28,0.29,0.3,0.31,0.32,0.33,0.34,0.35000000000000003,0.36,0.37,0.38,0.39,0.4,0.41000000000000003,0.42,0.43,0.44,0.45,0.46,0.47000000000000003,0.48,0.49,0.5,0.51,0.52,0.53,0.54,0.55,0.56,0.5700000000000001,0.58,0.59,0.6,0.61,0.62,0.63,0.64,0.65,0.66,0.67,0.68,0.6900000000000001,0.7000000000000001,0.71,0.72,0.73,0.74,0.75,0.76,0.77,0.78,0.79,0.8,0.81,0.8200000000000001,0.8300000000000001,0.84,0.85,0.86,0.87,0.88,0.89,0.9,0.91,0.92,0.93,0.9400000000000001,0.9500000000000001,0.96,0.97,0.98,0.99],\"y\":[0.536,0.536,0.536,0.536,0.536,0.536,0.536,0.536,0.536,0.536,0.536,0.536,0.536,0.536,0.536,0.538,0.535,0.531,0.538,0.538,0.54,0.541,0.544,0.552,0.56,0.566,0.566,0.552,0.553,0.559,0.558,0.562,0.545,0.529,0.507,0.502,0.482,0.46,0.425,0.407,0.365,0.336,0.331,0.307,0.266,0.242,0.218,0.193,0.165,0.165,0.15,0.135,0.135,0.135,0.135,0.135,0.135,0.135,0.135,0.135,0.135,0.135,0.135,0.135,0.135,0.135,0.135,0.135,0.135,0.135,0.135,0.135,0.135,0.135,0.135,0.135,0.135,0.135,0.135,0.135,0.135,0.135,0.135,0.135,0.135,0.098,0.098,0.098,0.098,0.06,0.04,0.04,0.04,0.0,0.0,0.0,0.0,0.0,0.0,0.0],\"type\":\"scatter\"},{\"mode\":\"lines+markers\",\"name\":\"Accuracy\",\"x\":[0.0,0.01,0.02,0.03,0.04,0.05,0.06,0.07,0.08,0.09,0.1,0.11,0.12,0.13,0.14,0.15,0.16,0.17,0.18,0.19,0.2,0.21,0.22,0.23,0.24,0.25,0.26,0.27,0.28,0.29,0.3,0.31,0.32,0.33,0.34,0.35000000000000003,0.36,0.37,0.38,0.39,0.4,0.41000000000000003,0.42,0.43,0.44,0.45,0.46,0.47000000000000003,0.48,0.49,0.5,0.51,0.52,0.53,0.54,0.55,0.56,0.5700000000000001,0.58,0.59,0.6,0.61,0.62,0.63,0.64,0.65,0.66,0.67,0.68,0.6900000000000001,0.7000000000000001,0.71,0.72,0.73,0.74,0.75,0.76,0.77,0.78,0.79,0.8,0.81,0.8200000000000001,0.8300000000000001,0.84,0.85,0.86,0.87,0.88,0.89,0.9,0.91,0.92,0.93,0.9400000000000001,0.9500000000000001,0.96,0.97,0.98,0.99],\"y\":[0.366,0.366,0.366,0.366,0.366,0.366,0.366,0.366,0.366,0.366,0.366,0.366,0.366,0.366,0.366,0.377,0.377,0.381,0.396,0.411,0.415,0.423,0.438,0.46,0.491,0.513,0.525,0.528,0.555,0.577,0.581,0.6,0.596,0.604,0.604,0.611,0.611,0.619,0.623,0.626,0.619,0.626,0.634,0.642,0.645,0.645,0.649,0.653,0.657,0.657,0.657,0.66,0.66,0.66,0.66,0.66,0.66,0.66,0.66,0.66,0.66,0.66,0.66,0.66,0.66,0.66,0.66,0.66,0.66,0.66,0.66,0.66,0.66,0.66,0.66,0.66,0.66,0.66,0.66,0.66,0.66,0.66,0.66,0.66,0.66,0.653,0.653,0.653,0.653,0.645,0.642,0.642,0.642,0.634,0.634,0.634,0.634,0.634,0.634,0.634],\"type\":\"scatter\"}],                        {\"template\":{\"data\":{\"histogram2dcontour\":[{\"type\":\"histogram2dcontour\",\"colorbar\":{\"outlinewidth\":0,\"ticks\":\"\"},\"colorscale\":[[0.0,\"#0d0887\"],[0.1111111111111111,\"#46039f\"],[0.2222222222222222,\"#7201a8\"],[0.3333333333333333,\"#9c179e\"],[0.4444444444444444,\"#bd3786\"],[0.5555555555555556,\"#d8576b\"],[0.6666666666666666,\"#ed7953\"],[0.7777777777777778,\"#fb9f3a\"],[0.8888888888888888,\"#fdca26\"],[1.0,\"#f0f921\"]]}],\"choropleth\":[{\"type\":\"choropleth\",\"colorbar\":{\"outlinewidth\":0,\"ticks\":\"\"}}],\"histogram2d\":[{\"type\":\"histogram2d\",\"colorbar\":{\"outlinewidth\":0,\"ticks\":\"\"},\"colorscale\":[[0.0,\"#0d0887\"],[0.1111111111111111,\"#46039f\"],[0.2222222222222222,\"#7201a8\"],[0.3333333333333333,\"#9c179e\"],[0.4444444444444444,\"#bd3786\"],[0.5555555555555556,\"#d8576b\"],[0.6666666666666666,\"#ed7953\"],[0.7777777777777778,\"#fb9f3a\"],[0.8888888888888888,\"#fdca26\"],[1.0,\"#f0f921\"]]}],\"heatmap\":[{\"type\":\"heatmap\",\"colorbar\":{\"outlinewidth\":0,\"ticks\":\"\"},\"colorscale\":[[0.0,\"#0d0887\"],[0.1111111111111111,\"#46039f\"],[0.2222222222222222,\"#7201a8\"],[0.3333333333333333,\"#9c179e\"],[0.4444444444444444,\"#bd3786\"],[0.5555555555555556,\"#d8576b\"],[0.6666666666666666,\"#ed7953\"],[0.7777777777777778,\"#fb9f3a\"],[0.8888888888888888,\"#fdca26\"],[1.0,\"#f0f921\"]]}],\"heatmapgl\":[{\"type\":\"heatmapgl\",\"colorbar\":{\"outlinewidth\":0,\"ticks\":\"\"},\"colorscale\":[[0.0,\"#0d0887\"],[0.1111111111111111,\"#46039f\"],[0.2222222222222222,\"#7201a8\"],[0.3333333333333333,\"#9c179e\"],[0.4444444444444444,\"#bd3786\"],[0.5555555555555556,\"#d8576b\"],[0.6666666666666666,\"#ed7953\"],[0.7777777777777778,\"#fb9f3a\"],[0.8888888888888888,\"#fdca26\"],[1.0,\"#f0f921\"]]}],\"contourcarpet\":[{\"type\":\"contourcarpet\",\"colorbar\":{\"outlinewidth\":0,\"ticks\":\"\"}}],\"contour\":[{\"type\":\"contour\",\"colorbar\":{\"outlinewidth\":0,\"ticks\":\"\"},\"colorscale\":[[0.0,\"#0d0887\"],[0.1111111111111111,\"#46039f\"],[0.2222222222222222,\"#7201a8\"],[0.3333333333333333,\"#9c179e\"],[0.4444444444444444,\"#bd3786\"],[0.5555555555555556,\"#d8576b\"],[0.6666666666666666,\"#ed7953\"],[0.7777777777777778,\"#fb9f3a\"],[0.8888888888888888,\"#fdca26\"],[1.0,\"#f0f921\"]]}],\"surface\":[{\"type\":\"surface\",\"colorbar\":{\"outlinewidth\":0,\"ticks\":\"\"},\"colorscale\":[[0.0,\"#0d0887\"],[0.1111111111111111,\"#46039f\"],[0.2222222222222222,\"#7201a8\"],[0.3333333333333333,\"#9c179e\"],[0.4444444444444444,\"#bd3786\"],[0.5555555555555556,\"#d8576b\"],[0.6666666666666666,\"#ed7953\"],[0.7777777777777778,\"#fb9f3a\"],[0.8888888888888888,\"#fdca26\"],[1.0,\"#f0f921\"]]}],\"mesh3d\":[{\"type\":\"mesh3d\",\"colorbar\":{\"outlinewidth\":0,\"ticks\":\"\"}}],\"scatter\":[{\"fillpattern\":{\"fillmode\":\"overlay\",\"size\":10,\"solidity\":0.2},\"type\":\"scatter\"}],\"parcoords\":[{\"type\":\"parcoords\",\"line\":{\"colorbar\":{\"outlinewidth\":0,\"ticks\":\"\"}}}],\"scatterpolargl\":[{\"type\":\"scatterpolargl\",\"marker\":{\"colorbar\":{\"outlinewidth\":0,\"ticks\":\"\"}}}],\"bar\":[{\"error_x\":{\"color\":\"#2a3f5f\"},\"error_y\":{\"color\":\"#2a3f5f\"},\"marker\":{\"line\":{\"color\":\"#E5ECF6\",\"width\":0.5},\"pattern\":{\"fillmode\":\"overlay\",\"size\":10,\"solidity\":0.2}},\"type\":\"bar\"}],\"scattergeo\":[{\"type\":\"scattergeo\",\"marker\":{\"colorbar\":{\"outlinewidth\":0,\"ticks\":\"\"}}}],\"scatterpolar\":[{\"type\":\"scatterpolar\",\"marker\":{\"colorbar\":{\"outlinewidth\":0,\"ticks\":\"\"}}}],\"histogram\":[{\"marker\":{\"pattern\":{\"fillmode\":\"overlay\",\"size\":10,\"solidity\":0.2}},\"type\":\"histogram\"}],\"scattergl\":[{\"type\":\"scattergl\",\"marker\":{\"colorbar\":{\"outlinewidth\":0,\"ticks\":\"\"}}}],\"scatter3d\":[{\"type\":\"scatter3d\",\"line\":{\"colorbar\":{\"outlinewidth\":0,\"ticks\":\"\"}},\"marker\":{\"colorbar\":{\"outlinewidth\":0,\"ticks\":\"\"}}}],\"scattermapbox\":[{\"type\":\"scattermapbox\",\"marker\":{\"colorbar\":{\"outlinewidth\":0,\"ticks\":\"\"}}}],\"scatterternary\":[{\"type\":\"scatterternary\",\"marker\":{\"colorbar\":{\"outlinewidth\":0,\"ticks\":\"\"}}}],\"scattercarpet\":[{\"type\":\"scattercarpet\",\"marker\":{\"colorbar\":{\"outlinewidth\":0,\"ticks\":\"\"}}}],\"carpet\":[{\"aaxis\":{\"endlinecolor\":\"#2a3f5f\",\"gridcolor\":\"white\",\"linecolor\":\"white\",\"minorgridcolor\":\"white\",\"startlinecolor\":\"#2a3f5f\"},\"baxis\":{\"endlinecolor\":\"#2a3f5f\",\"gridcolor\":\"white\",\"linecolor\":\"white\",\"minorgridcolor\":\"white\",\"startlinecolor\":\"#2a3f5f\"},\"type\":\"carpet\"}],\"table\":[{\"cells\":{\"fill\":{\"color\":\"#EBF0F8\"},\"line\":{\"color\":\"white\"}},\"header\":{\"fill\":{\"color\":\"#C8D4E3\"},\"line\":{\"color\":\"white\"}},\"type\":\"table\"}],\"barpolar\":[{\"marker\":{\"line\":{\"color\":\"#E5ECF6\",\"width\":0.5},\"pattern\":{\"fillmode\":\"overlay\",\"size\":10,\"solidity\":0.2}},\"type\":\"barpolar\"}],\"pie\":[{\"automargin\":true,\"type\":\"pie\"}]},\"layout\":{\"autotypenumbers\":\"strict\",\"colorway\":[\"#636efa\",\"#EF553B\",\"#00cc96\",\"#ab63fa\",\"#FFA15A\",\"#19d3f3\",\"#FF6692\",\"#B6E880\",\"#FF97FF\",\"#FECB52\"],\"font\":{\"color\":\"#2a3f5f\"},\"hovermode\":\"closest\",\"hoverlabel\":{\"align\":\"left\"},\"paper_bgcolor\":\"white\",\"plot_bgcolor\":\"#E5ECF6\",\"polar\":{\"bgcolor\":\"#E5ECF6\",\"angularaxis\":{\"gridcolor\":\"white\",\"linecolor\":\"white\",\"ticks\":\"\"},\"radialaxis\":{\"gridcolor\":\"white\",\"linecolor\":\"white\",\"ticks\":\"\"}},\"ternary\":{\"bgcolor\":\"#E5ECF6\",\"aaxis\":{\"gridcolor\":\"white\",\"linecolor\":\"white\",\"ticks\":\"\"},\"baxis\":{\"gridcolor\":\"white\",\"linecolor\":\"white\",\"ticks\":\"\"},\"caxis\":{\"gridcolor\":\"white\",\"linecolor\":\"white\",\"ticks\":\"\"}},\"coloraxis\":{\"colorbar\":{\"outlinewidth\":0,\"ticks\":\"\"}},\"colorscale\":{\"sequential\":[[0.0,\"#0d0887\"],[0.1111111111111111,\"#46039f\"],[0.2222222222222222,\"#7201a8\"],[0.3333333333333333,\"#9c179e\"],[0.4444444444444444,\"#bd3786\"],[0.5555555555555556,\"#d8576b\"],[0.6666666666666666,\"#ed7953\"],[0.7777777777777778,\"#fb9f3a\"],[0.8888888888888888,\"#fdca26\"],[1.0,\"#f0f921\"]],\"sequentialminus\":[[0.0,\"#0d0887\"],[0.1111111111111111,\"#46039f\"],[0.2222222222222222,\"#7201a8\"],[0.3333333333333333,\"#9c179e\"],[0.4444444444444444,\"#bd3786\"],[0.5555555555555556,\"#d8576b\"],[0.6666666666666666,\"#ed7953\"],[0.7777777777777778,\"#fb9f3a\"],[0.8888888888888888,\"#fdca26\"],[1.0,\"#f0f921\"]],\"diverging\":[[0,\"#8e0152\"],[0.1,\"#c51b7d\"],[0.2,\"#de77ae\"],[0.3,\"#f1b6da\"],[0.4,\"#fde0ef\"],[0.5,\"#f7f7f7\"],[0.6,\"#e6f5d0\"],[0.7,\"#b8e186\"],[0.8,\"#7fbc41\"],[0.9,\"#4d9221\"],[1,\"#276419\"]]},\"xaxis\":{\"gridcolor\":\"white\",\"linecolor\":\"white\",\"ticks\":\"\",\"title\":{\"standoff\":15},\"zerolinecolor\":\"white\",\"automargin\":true,\"zerolinewidth\":2},\"yaxis\":{\"gridcolor\":\"white\",\"linecolor\":\"white\",\"ticks\":\"\",\"title\":{\"standoff\":15},\"zerolinecolor\":\"white\",\"automargin\":true,\"zerolinewidth\":2},\"scene\":{\"xaxis\":{\"backgroundcolor\":\"#E5ECF6\",\"gridcolor\":\"white\",\"linecolor\":\"white\",\"showbackground\":true,\"ticks\":\"\",\"zerolinecolor\":\"white\",\"gridwidth\":2},\"yaxis\":{\"backgroundcolor\":\"#E5ECF6\",\"gridcolor\":\"white\",\"linecolor\":\"white\",\"showbackground\":true,\"ticks\":\"\",\"zerolinecolor\":\"white\",\"gridwidth\":2},\"zaxis\":{\"backgroundcolor\":\"#E5ECF6\",\"gridcolor\":\"white\",\"linecolor\":\"white\",\"showbackground\":true,\"ticks\":\"\",\"zerolinecolor\":\"white\",\"gridwidth\":2}},\"shapedefaults\":{\"line\":{\"color\":\"#2a3f5f\"}},\"annotationdefaults\":{\"arrowcolor\":\"#2a3f5f\",\"arrowhead\":0,\"arrowwidth\":1},\"geo\":{\"bgcolor\":\"white\",\"landcolor\":\"#E5ECF6\",\"subunitcolor\":\"white\",\"showland\":true,\"showlakes\":true,\"lakecolor\":\"white\"},\"title\":{\"x\":0.05},\"mapbox\":{\"style\":\"light\"}}},\"yaxis\":{\"range\":[0,1]}},                        {\"responsive\": true}                    ).then(function(){\n",
       "                            \n",
       "var gd = document.getElementById('78147e60-de78-435c-b04e-c112b6802612');\n",
       "var x = new MutationObserver(function (mutations, observer) {{\n",
       "        var display = window.getComputedStyle(gd).display;\n",
       "        if (!display || display === 'none') {{\n",
       "            console.log([gd, 'removed!']);\n",
       "            Plotly.purge(gd);\n",
       "            observer.disconnect();\n",
       "        }}\n",
       "}});\n",
       "\n",
       "// Listen for the removal of the full notebook cells\n",
       "var notebookContainer = gd.closest('#notebook-container');\n",
       "if (notebookContainer) {{\n",
       "    x.observe(notebookContainer, {childList: true});\n",
       "}}\n",
       "\n",
       "// Listen for the clearing of the current output cell\n",
       "var outputEl = gd.closest('.output');\n",
       "if (outputEl) {{\n",
       "    x.observe(outputEl, {childList: true});\n",
       "}}\n",
       "\n",
       "                        })                };                });            </script>        </div>"
      ]
     },
     "metadata": {},
     "output_type": "display_data"
    }
   ],
   "source": [
    "%%capture --no-display \n",
    "# above line is to avoid warning message due to division by 0\n",
    "lr_model_metrics= train_test_metrics_classification(lr_model,X_test,y_test,threshold_start=0.0,threshold_end=1,threshold_interval=.01)"
   ]
  },
  {
   "cell_type": "markdown",
   "id": "d8f5b27a",
   "metadata": {},
   "source": [
    "> **Optimal value of threshold for Logistic model** <br>\n",
    ">> - At 0.51 threshold, Logistic model provides highest accuracy of 66%, which is better than our naive baseline of prediction.\n",
    ">> - Model has Precision of 100%, in other words, model's flight delay prediction is 100% accurate.\n",
    ">> - Model has a recall of 7.2%, which indicates that the model is only 7.2% accurate in predicting actual delayed flights. This indicates that large number of delayed flight cases are not flagged as delayed. This will eventually decrease customers experience"
   ]
  },
  {
   "cell_type": "code",
   "execution_count": 154,
   "id": "2747f467",
   "metadata": {},
   "outputs": [
    {
     "name": "stdout",
     "output_type": "stream",
     "text": [
      "Training data Accuracy:  0.69\n",
      "Testing data Accuracy: 0.66\n"
     ]
    }
   ],
   "source": [
    "y_train_pred_class = (lr_model.predict_proba(X_train)[:,1] >= 0.51).astype(int) # lr_model.predict(X_train)\n",
    "y_test_pred_class = (lr_model.predict_proba(X_test)[:,1] >= 0.51).astype(int)\n",
    "\n",
    "print('Training data Accuracy: ', metrics.accuracy_score(y_train,y_train_pred_class).round(2))\n",
    "print('Testing data Accuracy:', metrics.accuracy_score(y_test,y_test_pred_class).round(2))"
   ]
  },
  {
   "cell_type": "markdown",
   "id": "13a24029",
   "metadata": {},
   "source": [
    "> - Model is working at the same efficiency on training and testing dataset. Thus there is no sign of overfitting or underfitting\n",
    "> - Model's accuracy is higher than naive baseline of 64% (testing data) and 65% (training data)"
   ]
  },
  {
   "cell_type": "markdown",
   "id": "a56a46b3",
   "metadata": {},
   "source": [
    "#### Comparison of kNN vs Logistic Model"
   ]
  },
  {
   "cell_type": "code",
   "execution_count": 155,
   "id": "3aab8ba1",
   "metadata": {},
   "outputs": [
    {
     "name": "stderr",
     "output_type": "stream",
     "text": [
      "C:\\ProgramData\\Anaconda3\\envs\\data_lord\\lib\\site-packages\\sklearn\\utils\\deprecation.py:87: FutureWarning:\n",
      "\n",
      "Function plot_roc_curve is deprecated; Function :func:`plot_roc_curve` is deprecated in 1.0 and will be removed in 1.2. Use one of the class methods: :meth:`sklearn.metrics.RocCurveDisplay.from_predictions` or :meth:`sklearn.metrics.RocCurveDisplay.from_estimator`.\n",
      "\n"
     ]
    },
    {
     "data": {
      "image/png": "[encoded data removed]",
      "text/plain": [
       "<Figure size 640x480 with 1 Axes>"
      ]
     },
     "metadata": {},
     "output_type": "display_data"
    },
    {
     "name": "stderr",
     "output_type": "stream",
     "text": [
      "C:\\ProgramData\\Anaconda3\\envs\\data_lord\\lib\\site-packages\\sklearn\\utils\\deprecation.py:87: FutureWarning:\n",
      "\n",
      "Function plot_roc_curve is deprecated; Function :func:`plot_roc_curve` is deprecated in 1.0 and will be removed in 1.2. Use one of the class methods: :meth:`sklearn.metrics.RocCurveDisplay.from_predictions` or :meth:`sklearn.metrics.RocCurveDisplay.from_estimator`.\n",
      "\n"
     ]
    },
    {
     "data": {
      "image/png": "[encoded data removed]",
      "text/plain": [
       "<Figure size 640x480 with 1 Axes>"
      ]
     },
     "metadata": {},
     "output_type": "display_data"
    }
   ],
   "source": [
    "# ROC curve for kNN\n",
    "metrics.plot_roc_curve(knn_model,X_test,y_test)\n",
    "plt.show()\n",
    "\n",
    "# ROC curve for Logistic Model\n",
    "metrics.plot_roc_curve(lr_model,X_test,y_test)\n",
    "plt.show()"
   ]
  },
  {
   "cell_type": "markdown",
   "id": "166a9cf4",
   "metadata": {},
   "source": [
    "### 6.4. Final Model Selection <a class=\"anchor\" id=\"final-model\"></a>\n",
    "For the current dataset, we will select Logistic regression model because of following reasons:\n",
    "\n",
    "> 1. kNN model has shown very poor performance. The accuracy of kNN model is not even exceeding Naive baseline of 65%, thus we will not select kNN model.\n",
    ">\n",
    "> 2. Logistic model performs much better than kNN model and the model's accuracy is better than the naive baseline of 64%\n",
    "> \n",
    "> 3. The precision power of the logistic model is 100%, whereas the kNN model is 47%.\n",
    ">\n",
    "> 4. the Area under the Curve of of logistic regression model is higher than kNN classifier model. This indicates that logistic model will perform better than kNN on various probability thresholds.\n",
    "\n",
    "*Note: We have selected the model based on Accuracy, Precision, Recall and Area under the curve\n",
    "\n",
    "* [Go to Machine Learning](#ml-model)\n",
    "* [Go to Top](#table-of-content)"
   ]
  },
  {
   "cell_type": "markdown",
   "id": "4ec1a77e",
   "metadata": {},
   "source": [
    "### 6.5. Performance Evaluation <a class=\"anchor\" id=\"performance-evaluation\"></a>\n",
    "\n",
    "Before analyzing the model at different probability threshold, following costs are associated with errors (False Positive and False Negative)\n",
    "\n",
    "- Positive in our case indicates flight will be delayed\n",
    "\n",
    "\n",
    "- **False Positive** \n",
    "    - Incorrectly predicting that the flight will be delayed even if the flight is on time.\n",
    "    - **Cost of False Positive** - Customers will be falsely informed that their flight has been delayed by the airline team. As a result, the majority of customers will miss their flights, lowering their overall experience.    \n",
    "    \n",
    "- **False Negative** \n",
    "    - Incorrectly predicting that the flight is on time even if the flight is delayed.\n",
    "    - **Cost of False Negative** - Even if the flight is delayed, the airline team will not send any flight delay notifications to customers in this scenario. The airline industry can manage a low false negative rate because they have a small number of customers who arrive early to the airport; however, a high false negative rate will increase dissatisfaction among a large number of customers if they have to stay at the airport for an extended period of time.\n",
    "    \n",
    "    \n",
    "- The model is used by the airline's team to improve customer's experience, thus they want to **minimize the false positives** and wants to efficiently notify the customers of flight delay.\n",
    "\n",
    "---\n"
   ]
  },
  {
   "cell_type": "markdown",
   "id": "a5e89ce2",
   "metadata": {},
   "source": [
    "#### Performance Evaluation at different thresholds\n",
    "\n",
    "1. **Probability Threshold = 0.2**: <br>\n",
    "relative low threshold to predict positive outcomes.\n",
    "    - A low threshold value results in a **89% false positive rate**, which means that the model will predict the flight being delayed 60% of the time even if the flight is not delayed.\n",
    "    - The model's **accuracy is only 41%**. This level of accuracy is **significantly lower than our naive baseline**. This implies that the model will perform worse than manually predicting if the flight is delayed or not.\n",
    "    - **False negative is 6.2%** i.e. even if the flight is delayed, the 6.2% times model will be unable to predict it.\n",
    "    - Since our goal is to mininize the False postive, and 0.2 threshold results in **89% False positive rate and accuracy lower than naive baseline**, we **cannot use a relatively low threshold of 0.2**\n",
    "\n",
    "---\n",
    "<br><br>\n",
    "1. **Probability Threshold = 0.8**: <br>\n",
    "relatively high threshold to predict positive outcomes.<br>\n",
    "    - A high threshold value results in a **92.8% false negative rate**, which means that the 92.8% times model will incorrectly predict that flight is on time even if the flight is delayed. Since customers wont be notfied of the delay in advance, they will have to wait at the airport for longer time. This will result in poor customer experience.\n",
    "    - The model's **accuracy is 66%**. The accuracy is **better than the threshold of 0.2**, and is **better than our naive baseline**. This implies that the model will perform slightly better than manually predicting flight delay.\n",
    "    - **False Positive rate is 0%**, which means that the model will accurately predict the flight delay without any errors. However **100% False negative rate will result in dissatisfaction among customers** due to no notification and extra waiting at the airport. This will indicate poor customer experience.\n",
    "    - **Since False negative rate is too high**, we **cannot use a relatively high threshold of 0.8**\n",
    "    \n",
    "<br><br>\n",
    "1. **Probability Threshold = 0.5**: <br>\n",
    "medium threshold to predict positive outcomes.\n",
    "    - A threshold value of 0.5 results in a **1.2% false positive rate**, such a low value indicates that the model will mostly acurately predict the flight delay without any errors.\n",
    "    - **Precision is 80%** i.e. model's prediction of flight delay will be correct 80% of the time.\n",
    "    - The model's **accuracy is also 65.7%**. The accuracy is way **better than the threshold of 0.2 and almost similar to accuracy achieved with 0.8 probability threshold**, and it is also **higher than our naive baseline of 64%**. This implies that the model will perform much better than manually predicting task completion.\n",
    "    - **91.8% false negative rate** , which means that the 91.8% times model will incorrectly predict that flight is on time even if the flight is delayed. Since customers wont be notfied of the delay in advance, they will have to wait at the airport for longer time. This will result in poor customer experience.\n",
    "    - Since **False positive rate is very low, precision is 80% and accuracy is higher than naive baseline**, and our agenda was to minimize the false positive, **threshold of 0.5 is better than 0.2 and 0.8 probability threshold level**    \n",
    "    \n",
    "<br><br>\n",
    "\n",
    "* [Go to Machine Learning](#ml-model)\n",
    "* [Go to Top](#table-of-content)\n"
   ]
  },
  {
   "cell_type": "markdown",
   "id": "9a96b877",
   "metadata": {},
   "source": [
    "## 7. Conclusion <a class=\"anchor\" id=\"conclusion\"></a>\n",
    "\n",
    "**Final Model and threshold**<br>\n",
    "We will use Logistic regression with threshold probability of 51%\n",
    "\n",
    "**Model Performance at 0.51 threshold**\n",
    "- 0.51 threshold results in a model with highest precision of 100%, in other words, model's prediction of flight delay will always be correct.\n",
    "- Model's accuracy will be around 66%, which means that, the 66% of time model will correctly predict is the flight is delayed or not.  \n",
    "- Additionaly, the false positive rate is very low (0%). It indicates that airline team will be able to predict the flight delay 100% of the time. \n",
    "\n",
    "<br>\n",
    "\n",
    "* [Go to Top](#table-of-content)\n"
   ]
  },
  {
   "cell_type": "markdown",
   "id": "c4e9b5a7",
   "metadata": {},
   "source": [
    "## 8. Deployment <a class=\"anchor\" id=\"deployment\"></a>"
   ]
  },
  {
   "cell_type": "code",
   "execution_count": 156,
   "id": "45205c12",
   "metadata": {},
   "outputs": [],
   "source": [
    "pickle_out = open('rr_assignment3_p2_files', mode='wb')\n",
    "pickle.dump([lr_model,knn_model,scaler,lr_model_metrics,knn_model_metrics], pickle_out)\n",
    "pickle_out.close()"
   ]
  },
  {
   "cell_type": "code",
   "execution_count": 157,
   "id": "fc943b4d",
   "metadata": {},
   "outputs": [],
   "source": [
    "# lr_model_metrics[lr_model_metrics['threshold']>=0.6]['Accuracy']"
   ]
  },
  {
   "cell_type": "code",
   "execution_count": 158,
   "id": "a410f527",
   "metadata": {},
   "outputs": [],
   "source": [
    "# pickle_in = open('rr_assignment3_p2_files', 'rb')\n",
    "# p1_files = pickle.load(pickle_in)\n",
    "# p1_files"
   ]
  },
  {
   "cell_type": "code",
   "execution_count": 159,
   "id": "d727065e",
   "metadata": {},
   "outputs": [
    {
     "name": "stdout",
     "output_type": "stream",
     "text": [
      "Overwriting app2.py\n"
     ]
    }
   ],
   "source": [
    "%%writefile app2.py\n",
    "\n",
    "import pickle\n",
    "import streamlit as st\n",
    "import numpy as np\n",
    "import pandas as pd\n",
    "import seaborn as sns\n",
    "import plotly.graph_objects as go\n",
    "import plotly.express as px\n",
    "\n",
    "pickle_in = open('rr_assignment3_p1_files', 'rb')\n",
    "p1_files = pickle.load(pickle_in)\n",
    "p1_lr_classifier = p1_files[0]\n",
    "p1_knn_classifier = p1_files[1]\n",
    "p1_scaler = p1_files[2]\n",
    "p1_lr_model_metrics=p1_files[3]\n",
    "p1_knn_model_metrics=p1_files[4]\n",
    "\n",
    "pickle_in = open('rr_assignment3_p2_files', 'rb')\n",
    "p2_files = pickle.load(pickle_in)\n",
    "p2_lr_classifier = p2_files[0]\n",
    "p2_knn_classifier = p2_files[1]\n",
    "p2_scaler = p2_files[2]\n",
    "p2_lr_model_metrics=p2_files[3]\n",
    "p2_knn_model_metrics=p2_files[4]\n",
    "\n",
    "# @st.cache()\n",
    "\n",
    "# st.title(\" ASSIGNMENT 3 - PROBLEM SET 1\")\n",
    "\n",
    "st.write(\"\"\"\n",
    "## ASSIGNMENT 3 - kNN and Logistic classifier\n",
    "Which one is the best\n",
    "\"\"\")\n",
    "\n",
    "dataset_name = st.sidebar.selectbox(\"Select Dataset\",(\"System Administrator\",\"Flight Delay\",\"Loan Approval\"))\n",
    "\n",
    "classifier_name = st.sidebar.selectbox(\"Select Classifier\",(\"Logistic Regression\",\"kNN\"))\n",
    "\n",
    "def model_selection(dataset_name,classifier_name):\n",
    "    if dataset_name == 'System Administrator':\n",
    "        if classifier_name == 'Logistic Regression':\n",
    "            model = p1_lr_classifier\n",
    "        elif classifier_name == 'kNN':\n",
    "            model = p1_knn_classifier\n",
    "    elif dataset_name == 'Flight Delay':\n",
    "        if classifier_name == 'Logistic Regression':\n",
    "            model = p2_lr_classifier\n",
    "        elif classifier_name == 'kNN':\n",
    "            model = p2_knn_classifier\n",
    "    \n",
    "    return model\n",
    "\n",
    "def model_params_default_value(dataset_name,classifier_name):\n",
    "    default_params = dict()\n",
    "    if dataset_name == 'System Administrator':\n",
    "        if classifier_name == 'Logistic Regression':\n",
    "            default_params['th']=0.46\n",
    "        else:\n",
    "            default_params['th']=0.4\n",
    "            default_params['k']=9\n",
    "    elif dataset_name == 'Flight Delay':\n",
    "        if classifier_name == 'Logistic Regression':\n",
    "            default_params['th']=0.51\n",
    "        else:\n",
    "            default_params['th']=0.4\n",
    "            default_params['k']=19\n",
    "    else:\n",
    "        if classifier_name == 'Logistic Regression':\n",
    "            default_params['th']=0.0\n",
    "        else:\n",
    "            default_params['th']=0.0\n",
    "            default_params['k']=0\n",
    "    \n",
    "    return default_params\n",
    "    \n",
    "\n",
    "def model_params(dataset_name,classifier_name):\n",
    "    params = dict()\n",
    "    default_params = model_params_default_value(dataset_name,classifier_name)\n",
    "    if classifier_name == 'Logistic Regression':\n",
    "        th = st.sidebar.slider(\"Select Probability Threshold for the Model\",0.0,1.0,value=default_params['th'],step=0.01)\n",
    "        params['th']=th\n",
    "    elif classifier_name == 'kNN':\n",
    "        th = st.sidebar.slider(\"Select Probability Threshold for the Model\",0.0,1.0,value=default_params['th'],step=0.1)\n",
    "        params['th']=th\n",
    "        k = st.sidebar.slider(\"Optimal value of k for the model\",1,21,value=default_params['k'],step=2,disabled=True)\n",
    "        params['k']=k\n",
    "    \n",
    "    return params\n",
    "\n",
    "def plot_perfomance_metrics(model_metrics):\n",
    "    fig = go.Figure()\n",
    "    fig.add_trace(go.Scatter(x=model_metrics['threshold'], y=model_metrics['Precision'],\n",
    "                        mode='lines',\n",
    "                        name='Precision'))\n",
    "    fig.add_trace(go.Scatter(x=model_metrics['threshold'], y=model_metrics['Recall'],\n",
    "                        mode='lines',\n",
    "                        name='Recall'))\n",
    "    fig.add_trace(go.Scatter(x=model_metrics['threshold'], y=model_metrics['F1'],\n",
    "                        mode='lines', name='F1'))\n",
    "    fig.add_trace(go.Scatter(x=model_metrics['threshold'], y=model_metrics['Accuracy'],\n",
    "                        mode='lines', name='Accuracy'))\n",
    "    fig.update_layout(legend_title_text = \"Performance Measures\")\n",
    "    fig.update_xaxes(title_text=\"Threshold\")\n",
    "\n",
    "#     fig.show()\n",
    "    st.plotly_chart(fig, use_container_width=True)\n",
    "\n",
    "def model_performance_metrics(dataset_name,classifier_name,model_parameters):\n",
    "    if dataset_name == 'System Administrator':\n",
    "        if classifier_name == 'Logistic Regression':\n",
    "            model_metrics = p1_lr_model_metrics\n",
    "        elif classifier_name == 'kNN':\n",
    "            model_metrics = p1_knn_model_metrics\n",
    "    elif dataset_name == 'Flight Delay':\n",
    "        if classifier_name == 'Logistic Regression':\n",
    "            model_metrics = p2_lr_model_metrics\n",
    "        elif classifier_name == 'kNN':\n",
    "            model_metrics = p2_knn_model_metrics\n",
    "    \n",
    "    st.sidebar.markdown(\"\"\"---\"\"\")\n",
    "#     st.sidebar.write('### Performance Metrics:')\n",
    "    with st.sidebar.expander('Performance Metrics:'):\n",
    "        st.write('Accuracy : ',\n",
    "                         round(100*model_metrics[model_metrics['threshold']>=model_parameters['th']]['Accuracy'].values[0]),\n",
    "                         '%'\n",
    "                        ) \n",
    "                        # greater than because equal sign was not able to match the threshold value\n",
    "        st.write('Precision : ',\n",
    "                         round(100*model_metrics[model_metrics['threshold']>=model_parameters['th']]['Precision'].values[0]),\n",
    "                         '%'\n",
    "                        )\n",
    "        st.write('Recall : ',\n",
    "                         round(100*model_metrics[model_metrics['threshold']>=model_parameters['th']]['Recall'].values[0]),\n",
    "                         '%'\n",
    "                        )\n",
    "        st.write('F1 Score : ',\n",
    "                         round(100*model_metrics[model_metrics['threshold']>=model_parameters['th']]['F1'].values[0]),\n",
    "                         '%'\n",
    "                        )\n",
    "        st.write('FPR : ',\n",
    "                         round(100*model_metrics[model_metrics['threshold']>=model_parameters['th']]['FP_rate'].values[0]),\n",
    "                         '%'\n",
    "                        )\n",
    "        st.write('FNR : ',\n",
    "                         round(100*model_metrics[model_metrics['threshold']>=model_parameters['th']]['FN_rate'].values[0]),\n",
    "                         '%'\n",
    "                        )\n",
    "    \n",
    "    st.sidebar.markdown(\"\"\"---\"\"\")\n",
    "    \n",
    "    return model_metrics\n",
    "\n",
    "def get_data_system_administrator():\n",
    "    \n",
    "    years_of_experience = st.number_input(\"Number of years of experience\",\n",
    "                              min_value=0.0,\n",
    "                              max_value=20.0,\n",
    "                              value=5.0,\n",
    "                              step=0.1,\n",
    "                             )\n",
    "    # normalize user input using the scaler used during training of model \n",
    "    years_of_experience = p1_scaler.transform([[years_of_experience]])\n",
    "#     st.write(years_of_experience[0][0])\n",
    "\n",
    "    training_level_4=0\n",
    "    training_level_6=0\n",
    "    training_level_8=0\n",
    "\n",
    "    training_level = st.selectbox(\"Select Training Level\",(\"Level 4\",\"Level 6\",\"Level 8\"))\n",
    "    if training_level == 'Level 4':\n",
    "        training_level_4=1\n",
    "    elif training_level == 'Level 6':\n",
    "        training_level_6=1\n",
    "    elif training_level == 'Level 8':\n",
    "        training_level_8=1\n",
    "\n",
    "    return [[years_of_experience[0][0],training_level_4,training_level_6,training_level_8]]\n",
    "\n",
    "def get_data_flight_delay():\n",
    "    # display selection of departure time and carrier in same row\n",
    "    col1, col2 =st.columns(2)\n",
    "    \n",
    "    # select scheduled departure time\n",
    "    scheduled_departure_time = col1.number_input(\"Scheduled Departure Time\",\n",
    "                              min_value=0.00,\n",
    "                              max_value=23.99,\n",
    "                              value=10.00,\n",
    "                              step=0.01,\n",
    "                             )\n",
    "    # normalize user input using the scaler used during training of model \n",
    "    scheduled_departure_time = p2_scaler.transform([[scheduled_departure_time]])\n",
    "    \n",
    "    # select carrier\n",
    "    carrier_delta=0\n",
    "    carrier_us=0\n",
    "    carrier_envoy=0\n",
    "    carrier_continental=0\n",
    "    carrier_discovery=0\n",
    "    carrier_other=0\n",
    "    \n",
    "    carrier = col2.selectbox(\"Select Carrier\",(\"Delta\",\"US\",\"Envoy\",\"Continental\",\"Discovery\",\"Other\"))\n",
    "    if carrier == 'Delta':\n",
    "        carrier_delta=1\n",
    "    elif carrier == 'US':\n",
    "        carrier_us=1\n",
    "    elif carrier == 'Envoy':\n",
    "        carrier_envoy=1\n",
    "    elif carrier == 'Continental':\n",
    "        carrier_continental=1\n",
    "    elif carrier == 'Discovery':\n",
    "        carrier_discovery=1\n",
    "    elif carrier == 'Other':\n",
    "        carrier_other=1\n",
    "    \n",
    "    # display selection of departure time and carrier in same row\n",
    "    col1, col2 =st.columns(2)\n",
    "    \n",
    "    # select destination\n",
    "    dest_jfk=0\n",
    "    dest_ewr=0\n",
    "    dest_lga=0\n",
    "    \n",
    "    destination = col1.selectbox(\"Select Destination Airport\",(\"John F. Kennedy Airport\",\n",
    "                                                             \"Newark Liberty International Airport\",\n",
    "                                                             \"LaGuardia Airport\"))\n",
    "    if destination == 'John F. Kennedy Airport':\n",
    "        dest_jfk=1\n",
    "    elif destination == 'Newark Liberty International Airport':\n",
    "        dest_ewr=1\n",
    "    elif destination == 'LaGuardia Airport':\n",
    "        dest_lga=1\n",
    "    \n",
    "    # select origin\n",
    "    origin_dca=0\n",
    "    origin_iad=0\n",
    "    origin_bwi=0\n",
    "    \n",
    "    origin = col2.selectbox(\"Select Origin Airport\",(\"Ronald Reagan Washington National Airport\",\n",
    "                                                   \"Dulles International Airport\",\n",
    "                                                   \"Baltimore/Washington International Airport\"))\n",
    "    if origin == 'Ronald Reagan Washington National Airport':\n",
    "        origin_dca=1\n",
    "    elif origin == 'Dulles International Airport':\n",
    "        origin_iad=1\n",
    "    elif origin == 'Baltimore/Washington International Airport':\n",
    "        origin_bwi=1\n",
    "    \n",
    "    # display selection of weather and day name in same row\n",
    "    col1, col2 =st.columns(2)\n",
    "    \n",
    "    # select weather\n",
    "    bad_weather=0\n",
    "    \n",
    "    weather = col1.selectbox(\"Select Weather\",(\"Cloudy/Rainy\",\"Clear Sky\"))\n",
    "    if weather == 'Cloudy/Rainy':\n",
    "        bad_weather=1\n",
    "    \n",
    "    # select day_name\n",
    "    Monday=0\n",
    "    Tuesday=0\n",
    "    Wednesday=0\n",
    "    Thursday=0\n",
    "    Friday=0\n",
    "    Saturday=0\n",
    "    Sunday=0\n",
    "    \n",
    "    day_name = col2.selectbox(\"Select WeekDay Name\",(\"Monday\",\"Tuesday\",\"Wednesday\",\"Thursday\",\"Friday\",\"Saturday\",\"Sunday\"))\n",
    "    if day_name == 'Monday':\n",
    "        Monday=1\n",
    "    elif day_name == 'Tuesday':\n",
    "        Tuesday=1\n",
    "    elif day_name == 'Wednesday':\n",
    "        Wednesday=1\n",
    "    elif day_name == 'Thursday':\n",
    "        Thursday=1\n",
    "    elif day_name == 'Friday':\n",
    "        Friday=1\n",
    "    elif day_name == 'Saturday':\n",
    "        Saturday=1\n",
    "    elif day_name == 'Sunday':\n",
    "        Sunday=1 \n",
    "        \n",
    "    return [[scheduled_departure_time[0][0],carrier_delta,carrier_us,carrier_envoy,carrier_continental,\n",
    "             carrier_discovery,carrier_other,dest_jfk,dest_ewr,dest_lga,origin_dca,origin_iad,origin_bwi,\n",
    "             bad_weather,Monday,Tuesday,Wednesday,Thursday,Friday,Saturday,Sunday]]\n",
    "\n",
    "def get_data(dataset_name):\n",
    "    if dataset_name == 'System Administrator':\n",
    "        new_data = get_data_system_administrator()\n",
    "    elif dataset_name == 'Flight Delay':\n",
    "        new_data = get_data_flight_delay()\n",
    "    \n",
    "    return new_data\n",
    "\n",
    "def message_1(dataset_name):\n",
    "    if dataset_name == 'System Administrator':\n",
    "        message = 'Task will be completed'\n",
    "    elif dataset_name == 'Flight Delay':\n",
    "        message = 'Flight will be delayed'\n",
    "    \n",
    "    return message\n",
    "\n",
    "def message_0(dataset_name):\n",
    "    if dataset_name == 'System Administrator':\n",
    "        message = 'Task will not be completed'\n",
    "    elif dataset_name == 'Flight Delay':\n",
    "        message = 'Flight will be on time'\n",
    "    \n",
    "    return message\n",
    "        \n",
    "def prediction(classifier_name,dataset_name,new_data,model_parameters):\n",
    "    model = model_selection(dataset_name,classifier_name)\n",
    "    predicted_probability = model.predict_proba(new_data)[0][1]\n",
    "    mess_1 = message_1(dataset_name)\n",
    "    mess_0 = message_0(dataset_name)\n",
    "    \n",
    "    st.write('Predicted probability is ',round(predicted_probability*100,2),'%')\n",
    "    st.write('Threshold probability is ',round(model_parameters['th']*100,2),'%')\n",
    "    \n",
    "    if predicted_probability < model_parameters['th']:\n",
    "        pred = mess_0\n",
    "        st.success(pred)\n",
    "    else:\n",
    "        pred = mess_1\n",
    "        st.error(pred)\n",
    "\n",
    "    return pred\n",
    "\n",
    "\n",
    "\n",
    "model_parameters= model_params(dataset_name,classifier_name)\n",
    "model_metrics=model_performance_metrics(dataset_name,classifier_name,model_parameters)\n",
    "\n",
    "# page layout\n",
    "new_data = get_data(dataset_name)\n",
    "if st.button('Predict'):\n",
    "    result = prediction(classifier_name,dataset_name,new_data,model_parameters)\n",
    "#     st.success(result)\n",
    "\n",
    "st.markdown(\"\"\"---\"\"\")\n",
    "\n",
    "st.write('Perfromance measures for different thresholds')\n",
    "plot_perfomance_metrics(model_metrics)\n",
    "\n",
    "# st.write(lr_model_metrics)\n",
    "\n",
    "# # When 'Predict' is clicked, make the prediction and store it\n",
    "# if st.button(\"Predict\"):\n",
    "#     result = prediction(classifier_name,dataset_name)\n",
    "#     st.success(result)"
   ]
  },
  {
   "cell_type": "code",
   "execution_count": 160,
   "id": "ce7f2df8",
   "metadata": {},
   "outputs": [
    {
     "name": "stdout",
     "output_type": "stream",
     "text": [
      "^C\n"
     ]
    }
   ],
   "source": [
    "!streamlit run app2.py"
   ]
  },
  {
   "cell_type": "code",
   "execution_count": 161,
   "id": "0fc7c7cc",
   "metadata": {},
   "outputs": [],
   "source": [
    "# !streamlit hello"
   ]
  },
  {
   "cell_type": "markdown",
   "id": "9d90e8ba",
   "metadata": {},
   "source": [
    "* [Go to Top](#table-of-content)"
   ]
  },
  {
   "cell_type": "markdown",
   "id": "4efbab88",
   "metadata": {},
   "source": [
    "## !! End !!"
   ]
  }
 ],
 "metadata": {
  "kernelspec": {
   "display_name": "Python 3 (ipykernel)",
   "language": "python",
   "name": "python3"
  },
  "language_info": {
   "codemirror_mode": {
    "name": "ipython",
    "version": 3
   },
   "file_extension": ".py",
   "mimetype": "text/x-python",
   "name": "python",
   "nbconvert_exporter": "python",
   "pygments_lexer": "ipython3",
   "version": "3.10.4"
  }
 },
 "nbformat": 4,
 "nbformat_minor": 5
}
